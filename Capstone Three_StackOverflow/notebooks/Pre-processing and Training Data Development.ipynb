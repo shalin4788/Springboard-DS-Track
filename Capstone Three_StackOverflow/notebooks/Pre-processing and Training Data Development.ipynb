{
 "cells": [
  {
   "cell_type": "markdown",
   "id": "prime-series",
   "metadata": {},
   "source": [
    "## Pre-processing and Training Data Development"
   ]
  },
  {
   "cell_type": "markdown",
   "id": "removable-haiti",
   "metadata": {},
   "source": [
    "- Goal is to create a cleaned development dataset you can use to complete the modeling step of this project."
   ]
  },
  {
   "cell_type": "code",
   "execution_count": 1,
   "id": "finnish-guyana",
   "metadata": {},
   "outputs": [],
   "source": [
    "# Import libraries\n",
    "import numpy as np\n",
    "import pandas as pd\n",
    "pd.options.mode.chained_assignment = None  # default='warn'\n",
    "\n",
    "import os\n",
    "from sklearn.preprocessing import MaxAbsScaler\n",
    "import matplotlib.pyplot as plt\n",
    "\n",
    "#suppress future warnings\n",
    "import warnings\n",
    "warnings.simplefilter(action='ignore', category=FutureWarning)\n",
    "warnings.simplefilter(action='ignore', category=UserWarning)\n",
    "\n",
    "# Show plots inline\n",
    "%matplotlib inline\n",
    "\n",
    "import re\n",
    "import nltk\n",
    "from nltk.tokenize import word_tokenize\n",
    "from nltk.corpus import stopwords\n",
    "from nltk.stem import PorterStemmer\n",
    "import stem"
   ]
  },
  {
   "cell_type": "code",
   "execution_count": 2,
   "id": "executed-participant",
   "metadata": {},
   "outputs": [
    {
     "data": {
      "text/plain": [
       "'C:\\\\Shalin\\\\Springboard bootcamp\\\\Springboard repo_github\\\\Springboard-DS-Track\\\\Capstone Three_StackOverflow\\\\notebooks'"
      ]
     },
     "execution_count": 2,
     "metadata": {},
     "output_type": "execute_result"
    }
   ],
   "source": [
    "os.getcwd()"
   ]
  },
  {
   "cell_type": "code",
   "execution_count": 3,
   "id": "deluxe-thirty",
   "metadata": {},
   "outputs": [],
   "source": [
    "df = pd.read_csv(\"..\\data\\Stackoverflow_cleansed.csv\")"
   ]
  },
  {
   "cell_type": "code",
   "execution_count": 4,
   "id": "stock-algeria",
   "metadata": {},
   "outputs": [
    {
     "data": {
      "text/plain": [
       "(1455901, 8)"
      ]
     },
     "execution_count": 4,
     "metadata": {},
     "output_type": "execute_result"
    }
   ],
   "source": [
    "df.shape"
   ]
  },
  {
   "cell_type": "code",
   "execution_count": 5,
   "id": "inappropriate-network",
   "metadata": {},
   "outputs": [
    {
     "data": {
      "text/html": [
       "<div>\n",
       "<style scoped>\n",
       "    .dataframe tbody tr th:only-of-type {\n",
       "        vertical-align: middle;\n",
       "    }\n",
       "\n",
       "    .dataframe tbody tr th {\n",
       "        vertical-align: top;\n",
       "    }\n",
       "\n",
       "    .dataframe thead th {\n",
       "        text-align: right;\n",
       "    }\n",
       "</style>\n",
       "<table border=\"1\" class=\"dataframe\">\n",
       "  <thead>\n",
       "    <tr style=\"text-align: right;\">\n",
       "      <th></th>\n",
       "      <th>Unnamed: 0</th>\n",
       "      <th>Q_Score</th>\n",
       "      <th>A_Score</th>\n",
       "      <th>Id</th>\n",
       "      <th>Title</th>\n",
       "      <th>Q_Body</th>\n",
       "      <th>Tag</th>\n",
       "      <th>A_Body</th>\n",
       "    </tr>\n",
       "  </thead>\n",
       "  <tbody>\n",
       "    <tr>\n",
       "      <th>515606</th>\n",
       "      <td>626747</td>\n",
       "      <td>1</td>\n",
       "      <td>0</td>\n",
       "      <td>14002830</td>\n",
       "      <td>add ajax parameters onstart funct</td>\n",
       "      <td>pa primefaces commandbutton actionlistener pag...</td>\n",
       "      <td>ajax, jsf-2, primefaces</td>\n",
       "      <td>understand correct want pass value hold javasc...</td>\n",
       "    </tr>\n",
       "    <tr>\n",
       "      <th>242428</th>\n",
       "      <td>299602</td>\n",
       "      <td>4</td>\n",
       "      <td>5</td>\n",
       "      <td>6789880</td>\n",
       "      <td>put print linkbutton project page printout infom</td>\n",
       "      <td>pi using rails applicationstudent register nee...</td>\n",
       "      <td>ruby-on-rails-3</td>\n",
       "      <td>use tag make print link lt linkto print yourli...</td>\n",
       "    </tr>\n",
       "    <tr>\n",
       "      <th>941385</th>\n",
       "      <td>1120625</td>\n",
       "      <td>0</td>\n",
       "      <td>0</td>\n",
       "      <td>25668380</td>\n",
       "      <td>sqlserver syntax oracl</td>\n",
       "      <td>pive playing around query time cant seem make ...</td>\n",
       "      <td>sql, sql-server, oracle</td>\n",
       "      <td>youve got several small problems query string ...</td>\n",
       "    </tr>\n",
       "    <tr>\n",
       "      <th>157446</th>\n",
       "      <td>194598</td>\n",
       "      <td>0</td>\n",
       "      <td>2</td>\n",
       "      <td>4508390</td>\n",
       "      <td>kill sessions browsertab clos</td>\n",
       "      <td>pive trying solve hrefhttpstackoverflowcomques...</td>\n",
       "      <td>javascript, session, input, click, onclick</td>\n",
       "      <td>ok tips replace three lines youve added button...</td>\n",
       "    </tr>\n",
       "    <tr>\n",
       "      <th>487600</th>\n",
       "      <td>593738</td>\n",
       "      <td>1</td>\n",
       "      <td>1</td>\n",
       "      <td>13129830</td>\n",
       "      <td>read thunderbird unread mail linux termin</td>\n",
       "      <td>pi building statusbar dwm want read unreadmail...</td>\n",
       "      <td>c, email, ubuntu, thunderbird, dwm</td>\n",
       "      <td>answer dont enough rep comment bellow answer a...</td>\n",
       "    </tr>\n",
       "  </tbody>\n",
       "</table>\n",
       "</div>"
      ],
      "text/plain": [
       "        Unnamed: 0  Q_Score  A_Score        Id  \\\n",
       "515606      626747        1        0  14002830   \n",
       "242428      299602        4        5   6789880   \n",
       "941385     1120625        0        0  25668380   \n",
       "157446      194598        0        2   4508390   \n",
       "487600      593738        1        1  13129830   \n",
       "\n",
       "                                                   Title  \\\n",
       "515606                 add ajax parameters onstart funct   \n",
       "242428  put print linkbutton project page printout infom   \n",
       "941385                            sqlserver syntax oracl   \n",
       "157446                     kill sessions browsertab clos   \n",
       "487600         read thunderbird unread mail linux termin   \n",
       "\n",
       "                                                   Q_Body  \\\n",
       "515606  pa primefaces commandbutton actionlistener pag...   \n",
       "242428  pi using rails applicationstudent register nee...   \n",
       "941385  pive playing around query time cant seem make ...   \n",
       "157446  pive trying solve hrefhttpstackoverflowcomques...   \n",
       "487600  pi building statusbar dwm want read unreadmail...   \n",
       "\n",
       "                                               Tag  \\\n",
       "515606                     ajax, jsf-2, primefaces   \n",
       "242428                             ruby-on-rails-3   \n",
       "941385                     sql, sql-server, oracle   \n",
       "157446  javascript, session, input, click, onclick   \n",
       "487600          c, email, ubuntu, thunderbird, dwm   \n",
       "\n",
       "                                                   A_Body  \n",
       "515606  understand correct want pass value hold javasc...  \n",
       "242428  use tag make print link lt linkto print yourli...  \n",
       "941385  youve got several small problems query string ...  \n",
       "157446  ok tips replace three lines youve added button...  \n",
       "487600  answer dont enough rep comment bellow answer a...  "
      ]
     },
     "execution_count": 5,
     "metadata": {},
     "output_type": "execute_result"
    }
   ],
   "source": [
    "df.sample(5)"
   ]
  },
  {
   "cell_type": "code",
   "execution_count": 6,
   "id": "bright-honolulu",
   "metadata": {},
   "outputs": [
    {
     "name": "stderr",
     "output_type": "stream",
     "text": [
      "[nltk_data] Downloading package stopwords to\n",
      "[nltk_data]     C:\\Users\\gosal\\AppData\\Roaming\\nltk_data...\n",
      "[nltk_data]   Package stopwords is already up-to-date!\n",
      "[nltk_data] Downloading package punkt to\n",
      "[nltk_data]     C:\\Users\\gosal\\AppData\\Roaming\\nltk_data...\n",
      "[nltk_data]   Package punkt is already up-to-date!\n"
     ]
    }
   ],
   "source": [
    "stop_words = stopwords.words('english')\n",
    "nltk.download('stopwords')\n",
    "nltk.download('punkt')\n",
    "\n",
    "stemmer = PorterStemmer()"
   ]
  },
  {
   "cell_type": "code",
   "execution_count": 7,
   "id": "vocal-chocolate",
   "metadata": {},
   "outputs": [],
   "source": [
    "#df['Q_Body'] = df[~df['Q_Body'].str.contains(r'(?<!\\S)(?!http|\\S*www\\.)\\S{12}')]\n",
    "#df.shape[0]"
   ]
  },
  {
   "cell_type": "markdown",
   "id": "sharing-american",
   "metadata": {},
   "source": [
    "**Note**: Stemming on Q_Body and A_Body column was not done in the Data Wrangling step, so resuming this step so all the 'text' columns in the dataframe are cleansed as a part of Text pre-processing"
   ]
  },
  {
   "cell_type": "code",
   "execution_count": 8,
   "id": "shared-gather",
   "metadata": {},
   "outputs": [
    {
     "data": {
      "text/plain": [
       "1455901"
      ]
     },
     "execution_count": 8,
     "metadata": {},
     "output_type": "execute_result"
    }
   ],
   "source": [
    "def stem_sentences(sentence):\n",
    "    tokens = sentence.split()\n",
    "    stemmed_tokens = [stemmer.stem(token) for token in tokens if len(token) < 20 ]\n",
    "    return ' '.join(stemmed_tokens)\n",
    "\n",
    "df['Q_Body'] = df['Q_Body'].apply(stem_sentences)\n",
    "df['A_Body'] = df['A_Body'].apply(stem_sentences)\n",
    "df.shape[0]"
   ]
  },
  {
   "cell_type": "code",
   "execution_count": 9,
   "id": "stunning-hampshire",
   "metadata": {},
   "outputs": [
    {
     "data": {
      "text/plain": [
       "Unnamed: 0     int64\n",
       "Q_Score        int64\n",
       "A_Score        int64\n",
       "Id             int64\n",
       "Title         object\n",
       "Q_Body        object\n",
       "Tag           object\n",
       "A_Body        object\n",
       "dtype: object"
      ]
     },
     "execution_count": 9,
     "metadata": {},
     "output_type": "execute_result"
    }
   ],
   "source": [
    "df.dtypes"
   ]
  },
  {
   "cell_type": "code",
   "execution_count": 10,
   "id": "direct-context",
   "metadata": {},
   "outputs": [
    {
     "data": {
      "text/html": [
       "<div>\n",
       "<style scoped>\n",
       "    .dataframe tbody tr th:only-of-type {\n",
       "        vertical-align: middle;\n",
       "    }\n",
       "\n",
       "    .dataframe tbody tr th {\n",
       "        vertical-align: top;\n",
       "    }\n",
       "\n",
       "    .dataframe thead th {\n",
       "        text-align: right;\n",
       "    }\n",
       "</style>\n",
       "<table border=\"1\" class=\"dataframe\">\n",
       "  <thead>\n",
       "    <tr style=\"text-align: right;\">\n",
       "      <th></th>\n",
       "      <th>Unnamed: 0</th>\n",
       "      <th>Q_Score</th>\n",
       "      <th>A_Score</th>\n",
       "      <th>Id</th>\n",
       "      <th>Title</th>\n",
       "      <th>Q_Body</th>\n",
       "      <th>Tag</th>\n",
       "      <th>A_Body</th>\n",
       "    </tr>\n",
       "  </thead>\n",
       "  <tbody>\n",
       "    <tr>\n",
       "      <th>0</th>\n",
       "      <td>0</td>\n",
       "      <td>7</td>\n",
       "      <td>1</td>\n",
       "      <td>2750</td>\n",
       "      <td>data verifications gettersetter elsewher</td>\n",
       "      <td>pim wonder good idea make stronggettersstrong ...</td>\n",
       "      <td>optimization, setter, getter, verification</td>\n",
       "      <td>valid captur separ getter setter valid method ...</td>\n",
       "    </tr>\n",
       "    <tr>\n",
       "      <th>1</th>\n",
       "      <td>1</td>\n",
       "      <td>7</td>\n",
       "      <td>3</td>\n",
       "      <td>2750</td>\n",
       "      <td>data verifications gettersetter elsewher</td>\n",
       "      <td>pim wonder good idea make stronggettersstrong ...</td>\n",
       "      <td>optimization, setter, getter, verification</td>\n",
       "      <td>perspect maintain code think much valid setter...</td>\n",
       "    </tr>\n",
       "    <tr>\n",
       "      <th>2</th>\n",
       "      <td>2</td>\n",
       "      <td>7</td>\n",
       "      <td>3</td>\n",
       "      <td>2750</td>\n",
       "      <td>data verifications gettersetter elsewher</td>\n",
       "      <td>pim wonder good idea make stronggettersstrong ...</td>\n",
       "      <td>optimization, setter, getter, verification</td>\n",
       "      <td>depend gener code fail fast valu set multipl p...</td>\n",
       "    </tr>\n",
       "    <tr>\n",
       "      <th>3</th>\n",
       "      <td>3</td>\n",
       "      <td>7</td>\n",
       "      <td>1</td>\n",
       "      <td>2750</td>\n",
       "      <td>data verifications gettersetter elsewher</td>\n",
       "      <td>pim wonder good idea make stronggettersstrong ...</td>\n",
       "      <td>optimization, setter, getter, verification</td>\n",
       "      <td>might wanna check domain driven design eric ev...</td>\n",
       "    </tr>\n",
       "  </tbody>\n",
       "</table>\n",
       "</div>"
      ],
      "text/plain": [
       "   Unnamed: 0  Q_Score  A_Score    Id  \\\n",
       "0           0        7        1  2750   \n",
       "1           1        7        3  2750   \n",
       "2           2        7        3  2750   \n",
       "3           3        7        1  2750   \n",
       "\n",
       "                                      Title  \\\n",
       "0  data verifications gettersetter elsewher   \n",
       "1  data verifications gettersetter elsewher   \n",
       "2  data verifications gettersetter elsewher   \n",
       "3  data verifications gettersetter elsewher   \n",
       "\n",
       "                                              Q_Body  \\\n",
       "0  pim wonder good idea make stronggettersstrong ...   \n",
       "1  pim wonder good idea make stronggettersstrong ...   \n",
       "2  pim wonder good idea make stronggettersstrong ...   \n",
       "3  pim wonder good idea make stronggettersstrong ...   \n",
       "\n",
       "                                          Tag  \\\n",
       "0  optimization, setter, getter, verification   \n",
       "1  optimization, setter, getter, verification   \n",
       "2  optimization, setter, getter, verification   \n",
       "3  optimization, setter, getter, verification   \n",
       "\n",
       "                                              A_Body  \n",
       "0  valid captur separ getter setter valid method ...  \n",
       "1  perspect maintain code think much valid setter...  \n",
       "2  depend gener code fail fast valu set multipl p...  \n",
       "3  might wanna check domain driven design eric ev...  "
      ]
     },
     "execution_count": 10,
     "metadata": {},
     "output_type": "execute_result"
    }
   ],
   "source": [
    "df.head(4)"
   ]
  },
  {
   "cell_type": "code",
   "execution_count": 11,
   "id": "received-berry",
   "metadata": {},
   "outputs": [],
   "source": [
    "#df['Q_Body'] = df['Q_Body'].apply(lambda x: ' '.join([word for word in x.split() if word not in (stop_words)]))"
   ]
  },
  {
   "cell_type": "markdown",
   "id": "respected-bailey",
   "metadata": {},
   "source": [
    "### 1. Standardize the magnitude of numeric features using a scaler"
   ]
  },
  {
   "cell_type": "code",
   "execution_count": 12,
   "id": "broken-plaza",
   "metadata": {},
   "outputs": [
    {
     "name": "stdout",
     "output_type": "stream",
     "text": [
      "Index(['Unnamed: 0', 'Q_Score', 'A_Score', 'Id'], dtype='object')\n"
     ]
    }
   ],
   "source": [
    "# Create subset of only the numeric columns\n",
    "df_numeric = df.select_dtypes(include=['int64','float'])\n",
    "print(df_numeric.columns)"
   ]
  },
  {
   "cell_type": "code",
   "execution_count": 13,
   "id": "friendly-cedar",
   "metadata": {},
   "outputs": [
    {
     "name": "stdout",
     "output_type": "stream",
     "text": [
      "Index(['Title', 'Q_Body', 'Tag', 'A_Body'], dtype='object')\n"
     ]
    }
   ],
   "source": [
    "# Create subset of only the categorical variable columns\n",
    "df_categorical = df.select_dtypes(include=['object'])\n",
    "print(df_categorical.columns)"
   ]
  },
  {
   "cell_type": "code",
   "execution_count": 14,
   "id": "demonstrated-emergency",
   "metadata": {},
   "outputs": [
    {
     "data": {
      "text/html": [
       "<div>\n",
       "<style scoped>\n",
       "    .dataframe tbody tr th:only-of-type {\n",
       "        vertical-align: middle;\n",
       "    }\n",
       "\n",
       "    .dataframe tbody tr th {\n",
       "        vertical-align: top;\n",
       "    }\n",
       "\n",
       "    .dataframe thead th {\n",
       "        text-align: right;\n",
       "    }\n",
       "</style>\n",
       "<table border=\"1\" class=\"dataframe\">\n",
       "  <thead>\n",
       "    <tr style=\"text-align: right;\">\n",
       "      <th></th>\n",
       "      <th>Q_Score</th>\n",
       "      <th>A_Score</th>\n",
       "    </tr>\n",
       "  </thead>\n",
       "  <tbody>\n",
       "    <tr>\n",
       "      <th>count</th>\n",
       "      <td>1.455901e+06</td>\n",
       "      <td>1.455901e+06</td>\n",
       "    </tr>\n",
       "    <tr>\n",
       "      <th>mean</th>\n",
       "      <td>9.834082e-01</td>\n",
       "      <td>1.038608e+00</td>\n",
       "    </tr>\n",
       "    <tr>\n",
       "      <th>std</th>\n",
       "      <td>1.674276e+00</td>\n",
       "      <td>1.273145e+00</td>\n",
       "    </tr>\n",
       "    <tr>\n",
       "      <th>min</th>\n",
       "      <td>-4.000000e+00</td>\n",
       "      <td>-3.000000e+00</td>\n",
       "    </tr>\n",
       "    <tr>\n",
       "      <th>25%</th>\n",
       "      <td>0.000000e+00</td>\n",
       "      <td>0.000000e+00</td>\n",
       "    </tr>\n",
       "    <tr>\n",
       "      <th>50%</th>\n",
       "      <td>1.000000e+00</td>\n",
       "      <td>1.000000e+00</td>\n",
       "    </tr>\n",
       "    <tr>\n",
       "      <th>75%</th>\n",
       "      <td>2.000000e+00</td>\n",
       "      <td>2.000000e+00</td>\n",
       "    </tr>\n",
       "    <tr>\n",
       "      <th>max</th>\n",
       "      <td>7.000000e+00</td>\n",
       "      <td>5.000000e+00</td>\n",
       "    </tr>\n",
       "  </tbody>\n",
       "</table>\n",
       "</div>"
      ],
      "text/plain": [
       "            Q_Score       A_Score\n",
       "count  1.455901e+06  1.455901e+06\n",
       "mean   9.834082e-01  1.038608e+00\n",
       "std    1.674276e+00  1.273145e+00\n",
       "min   -4.000000e+00 -3.000000e+00\n",
       "25%    0.000000e+00  0.000000e+00\n",
       "50%    1.000000e+00  1.000000e+00\n",
       "75%    2.000000e+00  2.000000e+00\n",
       "max    7.000000e+00  5.000000e+00"
      ]
     },
     "execution_count": 14,
     "metadata": {},
     "output_type": "execute_result"
    }
   ],
   "source": [
    "df_numeric[['Q_Score','A_Score']].describe()"
   ]
  },
  {
   "cell_type": "code",
   "execution_count": 15,
   "id": "visible-antenna",
   "metadata": {},
   "outputs": [
    {
     "name": "stdout",
     "output_type": "stream",
     "text": [
      "   Q_Score_scaled  A_Score_scaled\n",
      "0             1.0             0.2\n",
      "1             1.0             0.6\n",
      "2             1.0             0.6\n",
      "3             1.0             0.2\n",
      "4             1.0             0.2\n"
     ]
    }
   ],
   "source": [
    "# Instantiate StandardScaler to generate the absolute values are mapped in the range [0, 1].\n",
    "# This is optional step for our dataset since there are not many outliers, however, this condenses data even better\n",
    "\n",
    "scaler = MaxAbsScaler()\n",
    "\n",
    "# Fit SS_scaler to the data\n",
    "scaler.fit(df_numeric[['Q_Score','A_Score']])\n",
    "\n",
    "# Transform the data using the fitted scaler\n",
    "df_numeric[['Q_Score_scaled','A_Score_scaled']] = scaler.transform(df_numeric[['Q_Score','A_Score']])\n",
    "\n",
    "# Compare the origional and transformed column\n",
    "print(df_numeric[['Q_Score_scaled','A_Score_scaled']].head(5))"
   ]
  },
  {
   "cell_type": "code",
   "execution_count": 16,
   "id": "rational-integral",
   "metadata": {
    "scrolled": true
   },
   "outputs": [
    {
     "data": {
      "image/png": "[encoded data removed]",
      "text/plain": [
       "<Figure size 720x360 with 2 Axes>"
      ]
     },
     "metadata": {
      "needs_background": "light"
     },
     "output_type": "display_data"
    }
   ],
   "source": [
    "# Create a histogram for the 2 \n",
    "plt.rcParams[\"figure.figsize\"] = (10,5)\n",
    "\n",
    "df_numeric.hist(['Q_Score_scaled','A_Score_scaled'])\n",
    "plt.show()"
   ]
  },
  {
   "cell_type": "code",
   "execution_count": 17,
   "id": "dependent-lightning",
   "metadata": {},
   "outputs": [],
   "source": [
    "# Drop non scaled column\n",
    "#df_numeric.drop(columns=['Q_Score','A_Score'], inplace=True)\n",
    "#df_numeric.head(5)"
   ]
  },
  {
   "cell_type": "code",
   "execution_count": 18,
   "id": "printable-vacation",
   "metadata": {
    "scrolled": true
   },
   "outputs": [
    {
     "data": {
      "text/html": [
       "<div>\n",
       "<style scoped>\n",
       "    .dataframe tbody tr th:only-of-type {\n",
       "        vertical-align: middle;\n",
       "    }\n",
       "\n",
       "    .dataframe tbody tr th {\n",
       "        vertical-align: top;\n",
       "    }\n",
       "\n",
       "    .dataframe thead th {\n",
       "        text-align: right;\n",
       "    }\n",
       "</style>\n",
       "<table border=\"1\" class=\"dataframe\">\n",
       "  <thead>\n",
       "    <tr style=\"text-align: right;\">\n",
       "      <th></th>\n",
       "      <th>Q_Score_scaled</th>\n",
       "      <th>A_Score_scaled</th>\n",
       "    </tr>\n",
       "  </thead>\n",
       "  <tbody>\n",
       "    <tr>\n",
       "      <th>count</th>\n",
       "      <td>1.455901e+06</td>\n",
       "      <td>1.455901e+06</td>\n",
       "    </tr>\n",
       "    <tr>\n",
       "      <th>mean</th>\n",
       "      <td>1.404869e-01</td>\n",
       "      <td>2.077217e-01</td>\n",
       "    </tr>\n",
       "    <tr>\n",
       "      <th>std</th>\n",
       "      <td>2.391823e-01</td>\n",
       "      <td>2.546290e-01</td>\n",
       "    </tr>\n",
       "    <tr>\n",
       "      <th>min</th>\n",
       "      <td>-5.714286e-01</td>\n",
       "      <td>-6.000000e-01</td>\n",
       "    </tr>\n",
       "    <tr>\n",
       "      <th>25%</th>\n",
       "      <td>0.000000e+00</td>\n",
       "      <td>0.000000e+00</td>\n",
       "    </tr>\n",
       "    <tr>\n",
       "      <th>50%</th>\n",
       "      <td>1.428571e-01</td>\n",
       "      <td>2.000000e-01</td>\n",
       "    </tr>\n",
       "    <tr>\n",
       "      <th>75%</th>\n",
       "      <td>2.857143e-01</td>\n",
       "      <td>4.000000e-01</td>\n",
       "    </tr>\n",
       "    <tr>\n",
       "      <th>max</th>\n",
       "      <td>1.000000e+00</td>\n",
       "      <td>1.000000e+00</td>\n",
       "    </tr>\n",
       "  </tbody>\n",
       "</table>\n",
       "</div>"
      ],
      "text/plain": [
       "       Q_Score_scaled  A_Score_scaled\n",
       "count    1.455901e+06    1.455901e+06\n",
       "mean     1.404869e-01    2.077217e-01\n",
       "std      2.391823e-01    2.546290e-01\n",
       "min     -5.714286e-01   -6.000000e-01\n",
       "25%      0.000000e+00    0.000000e+00\n",
       "50%      1.428571e-01    2.000000e-01\n",
       "75%      2.857143e-01    4.000000e-01\n",
       "max      1.000000e+00    1.000000e+00"
      ]
     },
     "execution_count": 18,
     "metadata": {},
     "output_type": "execute_result"
    }
   ],
   "source": [
    "df_numeric[['Q_Score_scaled','A_Score_scaled']].describe()"
   ]
  },
  {
   "cell_type": "code",
   "execution_count": 19,
   "id": "private-stadium",
   "metadata": {},
   "outputs": [
    {
     "data": {
      "text/html": [
       "<div>\n",
       "<style scoped>\n",
       "    .dataframe tbody tr th:only-of-type {\n",
       "        vertical-align: middle;\n",
       "    }\n",
       "\n",
       "    .dataframe tbody tr th {\n",
       "        vertical-align: top;\n",
       "    }\n",
       "\n",
       "    .dataframe thead th {\n",
       "        text-align: right;\n",
       "    }\n",
       "</style>\n",
       "<table border=\"1\" class=\"dataframe\">\n",
       "  <thead>\n",
       "    <tr style=\"text-align: right;\">\n",
       "      <th></th>\n",
       "      <th>Title</th>\n",
       "      <th>Q_Body</th>\n",
       "      <th>Tag</th>\n",
       "      <th>A_Body</th>\n",
       "      <th>Unnamed: 0</th>\n",
       "      <th>Q_Score</th>\n",
       "      <th>A_Score</th>\n",
       "      <th>Id</th>\n",
       "      <th>Q_Score_scaled</th>\n",
       "      <th>A_Score_scaled</th>\n",
       "    </tr>\n",
       "  </thead>\n",
       "  <tbody>\n",
       "    <tr>\n",
       "      <th>0</th>\n",
       "      <td>data verifications gettersetter elsewher</td>\n",
       "      <td>pim wonder good idea make stronggettersstrong ...</td>\n",
       "      <td>optimization, setter, getter, verification</td>\n",
       "      <td>valid captur separ getter setter valid method ...</td>\n",
       "      <td>0</td>\n",
       "      <td>7</td>\n",
       "      <td>1</td>\n",
       "      <td>2750</td>\n",
       "      <td>1.0</td>\n",
       "      <td>0.2</td>\n",
       "    </tr>\n",
       "    <tr>\n",
       "      <th>1</th>\n",
       "      <td>data verifications gettersetter elsewher</td>\n",
       "      <td>pim wonder good idea make stronggettersstrong ...</td>\n",
       "      <td>optimization, setter, getter, verification</td>\n",
       "      <td>perspect maintain code think much valid setter...</td>\n",
       "      <td>1</td>\n",
       "      <td>7</td>\n",
       "      <td>3</td>\n",
       "      <td>2750</td>\n",
       "      <td>1.0</td>\n",
       "      <td>0.6</td>\n",
       "    </tr>\n",
       "    <tr>\n",
       "      <th>2</th>\n",
       "      <td>data verifications gettersetter elsewher</td>\n",
       "      <td>pim wonder good idea make stronggettersstrong ...</td>\n",
       "      <td>optimization, setter, getter, verification</td>\n",
       "      <td>depend gener code fail fast valu set multipl p...</td>\n",
       "      <td>2</td>\n",
       "      <td>7</td>\n",
       "      <td>3</td>\n",
       "      <td>2750</td>\n",
       "      <td>1.0</td>\n",
       "      <td>0.6</td>\n",
       "    </tr>\n",
       "    <tr>\n",
       "      <th>3</th>\n",
       "      <td>data verifications gettersetter elsewher</td>\n",
       "      <td>pim wonder good idea make stronggettersstrong ...</td>\n",
       "      <td>optimization, setter, getter, verification</td>\n",
       "      <td>might wanna check domain driven design eric ev...</td>\n",
       "      <td>3</td>\n",
       "      <td>7</td>\n",
       "      <td>1</td>\n",
       "      <td>2750</td>\n",
       "      <td>1.0</td>\n",
       "      <td>0.2</td>\n",
       "    </tr>\n",
       "    <tr>\n",
       "      <th>4</th>\n",
       "      <td>data verifications gettersetter elsewher</td>\n",
       "      <td>pim wonder good idea make stronggettersstrong ...</td>\n",
       "      <td>optimization, setter, getter, verification</td>\n",
       "      <td>like implement idataerrorinfo put valid logic ...</td>\n",
       "      <td>4</td>\n",
       "      <td>7</td>\n",
       "      <td>1</td>\n",
       "      <td>2750</td>\n",
       "      <td>1.0</td>\n",
       "      <td>0.2</td>\n",
       "    </tr>\n",
       "  </tbody>\n",
       "</table>\n",
       "</div>"
      ],
      "text/plain": [
       "                                      Title  \\\n",
       "0  data verifications gettersetter elsewher   \n",
       "1  data verifications gettersetter elsewher   \n",
       "2  data verifications gettersetter elsewher   \n",
       "3  data verifications gettersetter elsewher   \n",
       "4  data verifications gettersetter elsewher   \n",
       "\n",
       "                                              Q_Body  \\\n",
       "0  pim wonder good idea make stronggettersstrong ...   \n",
       "1  pim wonder good idea make stronggettersstrong ...   \n",
       "2  pim wonder good idea make stronggettersstrong ...   \n",
       "3  pim wonder good idea make stronggettersstrong ...   \n",
       "4  pim wonder good idea make stronggettersstrong ...   \n",
       "\n",
       "                                          Tag  \\\n",
       "0  optimization, setter, getter, verification   \n",
       "1  optimization, setter, getter, verification   \n",
       "2  optimization, setter, getter, verification   \n",
       "3  optimization, setter, getter, verification   \n",
       "4  optimization, setter, getter, verification   \n",
       "\n",
       "                                              A_Body  Unnamed: 0  Q_Score  \\\n",
       "0  valid captur separ getter setter valid method ...           0        7   \n",
       "1  perspect maintain code think much valid setter...           1        7   \n",
       "2  depend gener code fail fast valu set multipl p...           2        7   \n",
       "3  might wanna check domain driven design eric ev...           3        7   \n",
       "4  like implement idataerrorinfo put valid logic ...           4        7   \n",
       "\n",
       "   A_Score    Id  Q_Score_scaled  A_Score_scaled  \n",
       "0        1  2750             1.0             0.2  \n",
       "1        3  2750             1.0             0.6  \n",
       "2        3  2750             1.0             0.6  \n",
       "3        1  2750             1.0             0.2  \n",
       "4        1  2750             1.0             0.2  "
      ]
     },
     "execution_count": 19,
     "metadata": {},
     "output_type": "execute_result"
    }
   ],
   "source": [
    "df_numeric_scaled = pd.concat([df_categorical, df_numeric], axis=1, sort=False)\n",
    "df_numeric_scaled.head(5)"
   ]
  },
  {
   "cell_type": "code",
   "execution_count": 20,
   "id": "urban-intervention",
   "metadata": {},
   "outputs": [
    {
     "name": "stdout",
     "output_type": "stream",
     "text": [
      "<class 'pandas.core.frame.DataFrame'>\n",
      "RangeIndex: 1455901 entries, 0 to 1455900\n",
      "Data columns (total 10 columns):\n",
      " #   Column          Non-Null Count    Dtype  \n",
      "---  ------          --------------    -----  \n",
      " 0   Title           1455901 non-null  object \n",
      " 1   Q_Body          1455901 non-null  object \n",
      " 2   Tag             1455898 non-null  object \n",
      " 3   A_Body          1455901 non-null  object \n",
      " 4   Unnamed: 0      1455901 non-null  int64  \n",
      " 5   Q_Score         1455901 non-null  int64  \n",
      " 6   A_Score         1455901 non-null  int64  \n",
      " 7   Id              1455901 non-null  int64  \n",
      " 8   Q_Score_scaled  1455901 non-null  float64\n",
      " 9   A_Score_scaled  1455901 non-null  float64\n",
      "dtypes: float64(2), int64(4), object(4)\n",
      "memory usage: 111.1+ MB\n"
     ]
    }
   ],
   "source": [
    "df_numeric_scaled.info()"
   ]
  },
  {
   "cell_type": "code",
   "execution_count": 21,
   "id": "peaceful-literature",
   "metadata": {},
   "outputs": [
    {
     "name": "stdout",
     "output_type": "stream",
     "text": [
      "                                              Q_Body  \\\n",
      "0  pim wonder good idea make stronggettersstrong ...   \n",
      "1  pim wonder good idea make stronggettersstrong ...   \n",
      "\n",
      "                                          Tag  \n",
      "0  optimization, setter, getter, verification  \n",
      "1  optimization, setter, getter, verification                                                 A_Body  A_Score_scaled\n",
      "0  valid captur separ getter setter valid method ...             0.2\n",
      "1  perspect maintain code think much valid setter...             0.6\n"
     ]
    }
   ],
   "source": [
    "df_question_tag = df_numeric_scaled.drop(columns=['Title', 'A_Body', 'Unnamed: 0', 'Id', 'Q_Score_scaled','A_Score_scaled','Q_Score','A_Score'])\n",
    "df_answer_score = df_numeric_scaled.drop(columns=['Title','Q_Body','Tag','Unnamed: 0','Id','Q_Score_scaled', 'A_Score','Q_Score'])\n",
    "print(df_question_tag.head(2), df_answer_score.head(2))"
   ]
  },
  {
   "cell_type": "markdown",
   "id": "transsexual-computer",
   "metadata": {},
   "source": [
    "### 2. Perform TFIDF on categorical features to fit and transform data"
   ]
  },
  {
   "cell_type": "code",
   "execution_count": 22,
   "id": "grand-effects",
   "metadata": {},
   "outputs": [],
   "source": [
    "#a = np.zeros((200, 1455901), dtype='uint8')\n",
    "#mb= a.nbytes/8000\n",
    "#print('Megabytes needed to be allocated are',mb)"
   ]
  },
  {
   "cell_type": "markdown",
   "id": "behavioral-finance",
   "metadata": {},
   "source": [
    "- We also want a measure of how unique a word is i.e. how infrequently the word occurs across all documents (inverse document frequency or idf). So, the product of tf & idf (TF-IDF) of a word gives a product of how frequent this word is in the document multiplied by how unique the word is w.r.t. the entire corpus of documents.\n",
    "- Words in the document with a high tfidf score occur frequently in the document and provide the most information about that specific document."
   ]
  },
  {
   "cell_type": "markdown",
   "id": "infectious-closure",
   "metadata": {},
   "source": [
    "**TFIDF on** \n",
    "- Question body and Tags\n",
    "- Answer body and Scores\n",
    "\n",
    "Furthermore, create dataframes with the vectorized values before performing modeling"
   ]
  },
  {
   "cell_type": "code",
   "execution_count": 23,
   "id": "smart-scenario",
   "metadata": {
    "scrolled": false
   },
   "outputs": [],
   "source": [
    "from sklearn.model_selection import train_test_split\n",
    "from sklearn.feature_extraction.text import TfidfVectorizer\n",
    "\n",
    "#vectorizer = TfidfVectorizer(strip_accents='unicode', analyzer='word', ngram_range=(1,3), norm='l2')\n",
    "vectorizer = TfidfVectorizer(max_features=200, ngram_range=(1, 1), stop_words = 'english')"
   ]
  },
  {
   "cell_type": "code",
   "execution_count": 24,
   "id": "destroyed-provider",
   "metadata": {},
   "outputs": [
    {
     "name": "stdout",
     "output_type": "stream",
     "text": [
      "    10  abl  access  activ   ad  add  amp  anoth  anyon  app  ...  version  \\\n",
      "0  0.0  0.0     0.0    0.0  0.0  0.0  0.0    0.0    0.0  0.0  ...      0.0   \n",
      "1  0.0  0.0     0.0    0.0  0.0  0.0  0.0    0.0    0.0  0.0  ...      0.0   \n",
      "2  0.0  0.0     0.0    0.0  0.0  0.0  0.0    0.0    0.0  0.0  ...      0.0   \n",
      "3  0.0  0.0     0.0    0.0  0.0  0.0  0.0    0.0    0.0  0.0  ...      0.0   \n",
      "4  0.0  0.0     0.0    0.0  0.0  0.0  0.0    0.0    0.0  0.0  ...      0.0   \n",
      "\n",
      "   view  void  want  way  web  width  window  work  write  \n",
      "0   0.0   0.0   0.0  0.0  0.0    0.0     0.0   0.0    0.0  \n",
      "1   0.0   0.0   0.0  0.0  0.0    0.0     0.0   0.0    0.0  \n",
      "2   0.0   0.0   0.0  0.0  0.0    0.0     0.0   0.0    0.0  \n",
      "3   0.0   0.0   0.0  0.0  0.0    0.0     0.0   0.0    0.0  \n",
      "4   0.0   0.0   0.0  0.0  0.0    0.0     0.0   0.0    0.0  \n",
      "\n",
      "[5 rows x 200 columns]\n"
     ]
    }
   ],
   "source": [
    "tv_transformed_question= vectorizer.fit_transform(df_question_tag['Q_Body'])\n",
    "\n",
    "# Create a DataFrame with these features\n",
    "tv_df_question = pd.DataFrame(tv_transformed_question.toarray(), \n",
    "                     columns=vectorizer.get_feature_names())\n",
    "\n",
    "print(tv_df_question.head(5))"
   ]
  },
  {
   "cell_type": "code",
   "execution_count": 25,
   "id": "worth-miami",
   "metadata": {},
   "outputs": [
    {
     "name": "stdout",
     "output_type": "stream",
     "text": [
      "make       0.503706\n",
      "code       0.384240\n",
      "idea       0.324484\n",
      "databas    0.321080\n",
      "think      0.320592\n",
      "Name: 0, dtype: float64\n"
     ]
    }
   ],
   "source": [
    "sample_row = tv_df_question.iloc[0]\n",
    "\n",
    "# Print the top 5 words of the sorted output\n",
    "print(sample_row.sort_values(ascending=False).head(5))"
   ]
  },
  {
   "cell_type": "code",
   "execution_count": 26,
   "id": "emerging-expense",
   "metadata": {},
   "outputs": [
    {
     "name": "stdout",
     "output_type": "stream",
     "text": [
      "1455901 1455901\n"
     ]
    }
   ],
   "source": [
    "print(tv_df_question.shape[0], df_numeric_scaled.shape[0])"
   ]
  },
  {
   "cell_type": "code",
   "execution_count": 27,
   "id": "perfect-grade",
   "metadata": {},
   "outputs": [
    {
     "name": "stdout",
     "output_type": "stream",
     "text": [
      "    10  access  actual   ad  add  allow   alreadi  amp  anoth  answer  ...  \\\n",
      "0  0.0     0.0     0.0  0.0  0.0    0.0  0.221444  0.0    0.0     0.0  ...   \n",
      "1  0.0     0.0     0.0  0.0  0.0    0.0  0.000000  0.0    0.0     0.0  ...   \n",
      "2  0.0     0.0     0.0  0.0  0.0    0.0  0.000000  0.0    0.0     0.0  ...   \n",
      "3  0.0     0.0     0.0  0.0  0.0    0.0  0.000000  0.0    0.0     0.0  ...   \n",
      "4  0.0     0.0     0.0  0.0  0.0    0.0  0.000000  0.0    0.0     0.0  ...   \n",
      "\n",
      "   var  variabl  version  view  void    want       way    window  work  write  \n",
      "0  0.0      0.0      0.0   0.0   0.0  0.0000  0.315390  0.000000   0.0    0.0  \n",
      "1  0.0      0.0      0.0   0.0   0.0  0.0000  0.189883  0.000000   0.0    0.0  \n",
      "2  0.0      0.0      0.0   0.0   0.0  0.0000  0.000000  0.000000   0.0    0.0  \n",
      "3  0.0      0.0      0.0   0.0   0.0  0.0000  0.000000  0.000000   0.0    0.0  \n",
      "4  0.0      0.0      0.0   0.0   0.0  0.1412  0.154366  0.224284   0.0    0.0  \n",
      "\n",
      "[5 rows x 200 columns]\n"
     ]
    }
   ],
   "source": [
    "tv_transformed_answer= vectorizer.fit_transform(df_answer_score['A_Body'])\n",
    "\n",
    "# Create a DataFrame with these features\n",
    "tv_df_answer = pd.DataFrame(tv_transformed_answer.toarray(), \n",
    "                     columns=vectorizer.get_feature_names())\n",
    "\n",
    "print(tv_df_answer.head(5))"
   ]
  },
  {
   "cell_type": "code",
   "execution_count": 28,
   "id": "congressional-biology",
   "metadata": {},
   "outputs": [],
   "source": [
    "df_question_tfidf = pd.concat([df_numeric_scaled, tv_df_question], axis = 1, sort = False)\n",
    "df_final_question = df_question_tfidf.drop(columns=['Q_Body','Title', 'A_Body', 'Unnamed: 0', 'Id', 'Q_Score_scaled','A_Score_scaled','Q_Score','A_Score'])"
   ]
  },
  {
   "cell_type": "code",
   "execution_count": 29,
   "id": "toxic-thumb",
   "metadata": {},
   "outputs": [
    {
     "data": {
      "text/html": [
       "<div>\n",
       "<style scoped>\n",
       "    .dataframe tbody tr th:only-of-type {\n",
       "        vertical-align: middle;\n",
       "    }\n",
       "\n",
       "    .dataframe tbody tr th {\n",
       "        vertical-align: top;\n",
       "    }\n",
       "\n",
       "    .dataframe thead th {\n",
       "        text-align: right;\n",
       "    }\n",
       "</style>\n",
       "<table border=\"1\" class=\"dataframe\">\n",
       "  <thead>\n",
       "    <tr style=\"text-align: right;\">\n",
       "      <th></th>\n",
       "      <th>Tag</th>\n",
       "      <th>10</th>\n",
       "      <th>abl</th>\n",
       "      <th>access</th>\n",
       "      <th>activ</th>\n",
       "      <th>ad</th>\n",
       "      <th>add</th>\n",
       "      <th>amp</th>\n",
       "      <th>anoth</th>\n",
       "      <th>anyon</th>\n",
       "      <th>...</th>\n",
       "      <th>version</th>\n",
       "      <th>view</th>\n",
       "      <th>void</th>\n",
       "      <th>want</th>\n",
       "      <th>way</th>\n",
       "      <th>web</th>\n",
       "      <th>width</th>\n",
       "      <th>window</th>\n",
       "      <th>work</th>\n",
       "      <th>write</th>\n",
       "    </tr>\n",
       "  </thead>\n",
       "  <tbody>\n",
       "    <tr>\n",
       "      <th>0</th>\n",
       "      <td>optimization, setter, getter, verification</td>\n",
       "      <td>0.0</td>\n",
       "      <td>0.0</td>\n",
       "      <td>0.0</td>\n",
       "      <td>0.0</td>\n",
       "      <td>0.0</td>\n",
       "      <td>0.0</td>\n",
       "      <td>0.0</td>\n",
       "      <td>0.0</td>\n",
       "      <td>0.0</td>\n",
       "      <td>...</td>\n",
       "      <td>0.0</td>\n",
       "      <td>0.0</td>\n",
       "      <td>0.0</td>\n",
       "      <td>0.0</td>\n",
       "      <td>0.0</td>\n",
       "      <td>0.0</td>\n",
       "      <td>0.0</td>\n",
       "      <td>0.0</td>\n",
       "      <td>0.0</td>\n",
       "      <td>0.0</td>\n",
       "    </tr>\n",
       "    <tr>\n",
       "      <th>1</th>\n",
       "      <td>optimization, setter, getter, verification</td>\n",
       "      <td>0.0</td>\n",
       "      <td>0.0</td>\n",
       "      <td>0.0</td>\n",
       "      <td>0.0</td>\n",
       "      <td>0.0</td>\n",
       "      <td>0.0</td>\n",
       "      <td>0.0</td>\n",
       "      <td>0.0</td>\n",
       "      <td>0.0</td>\n",
       "      <td>...</td>\n",
       "      <td>0.0</td>\n",
       "      <td>0.0</td>\n",
       "      <td>0.0</td>\n",
       "      <td>0.0</td>\n",
       "      <td>0.0</td>\n",
       "      <td>0.0</td>\n",
       "      <td>0.0</td>\n",
       "      <td>0.0</td>\n",
       "      <td>0.0</td>\n",
       "      <td>0.0</td>\n",
       "    </tr>\n",
       "  </tbody>\n",
       "</table>\n",
       "<p>2 rows × 201 columns</p>\n",
       "</div>"
      ],
      "text/plain": [
       "                                          Tag   10  abl  access  activ   ad  \\\n",
       "0  optimization, setter, getter, verification  0.0  0.0     0.0    0.0  0.0   \n",
       "1  optimization, setter, getter, verification  0.0  0.0     0.0    0.0  0.0   \n",
       "\n",
       "   add  amp  anoth  anyon  ...  version  view  void  want  way  web  width  \\\n",
       "0  0.0  0.0    0.0    0.0  ...      0.0   0.0   0.0   0.0  0.0  0.0    0.0   \n",
       "1  0.0  0.0    0.0    0.0  ...      0.0   0.0   0.0   0.0  0.0  0.0    0.0   \n",
       "\n",
       "   window  work  write  \n",
       "0     0.0   0.0    0.0  \n",
       "1     0.0   0.0    0.0  \n",
       "\n",
       "[2 rows x 201 columns]"
      ]
     },
     "execution_count": 29,
     "metadata": {},
     "output_type": "execute_result"
    }
   ],
   "source": [
    "df_final_question.head(2)"
   ]
  },
  {
   "cell_type": "code",
   "execution_count": 30,
   "id": "incomplete-peter",
   "metadata": {},
   "outputs": [],
   "source": [
    "df_answer_tfidf = pd.concat([df_numeric_scaled, tv_df_answer], axis = 1, sort=False)\n",
    "df_final_answer = df_answer_tfidf.drop(columns=['Title','Q_Body','A_Body','Tag','Unnamed: 0','Id','Q_Score_scaled','Q_Score','A_Score'])"
   ]
  },
  {
   "cell_type": "code",
   "execution_count": 31,
   "id": "equipped-ambassador",
   "metadata": {},
   "outputs": [
    {
     "data": {
      "text/html": [
       "<div>\n",
       "<style scoped>\n",
       "    .dataframe tbody tr th:only-of-type {\n",
       "        vertical-align: middle;\n",
       "    }\n",
       "\n",
       "    .dataframe tbody tr th {\n",
       "        vertical-align: top;\n",
       "    }\n",
       "\n",
       "    .dataframe thead th {\n",
       "        text-align: right;\n",
       "    }\n",
       "</style>\n",
       "<table border=\"1\" class=\"dataframe\">\n",
       "  <thead>\n",
       "    <tr style=\"text-align: right;\">\n",
       "      <th></th>\n",
       "      <th>A_Score_scaled</th>\n",
       "      <th>10</th>\n",
       "      <th>access</th>\n",
       "      <th>actual</th>\n",
       "      <th>ad</th>\n",
       "      <th>add</th>\n",
       "      <th>allow</th>\n",
       "      <th>alreadi</th>\n",
       "      <th>amp</th>\n",
       "      <th>anoth</th>\n",
       "      <th>...</th>\n",
       "      <th>var</th>\n",
       "      <th>variabl</th>\n",
       "      <th>version</th>\n",
       "      <th>view</th>\n",
       "      <th>void</th>\n",
       "      <th>want</th>\n",
       "      <th>way</th>\n",
       "      <th>window</th>\n",
       "      <th>work</th>\n",
       "      <th>write</th>\n",
       "    </tr>\n",
       "  </thead>\n",
       "  <tbody>\n",
       "    <tr>\n",
       "      <th>0</th>\n",
       "      <td>0.2</td>\n",
       "      <td>0.0</td>\n",
       "      <td>0.0</td>\n",
       "      <td>0.0</td>\n",
       "      <td>0.0</td>\n",
       "      <td>0.0</td>\n",
       "      <td>0.0</td>\n",
       "      <td>0.221444</td>\n",
       "      <td>0.0</td>\n",
       "      <td>0.0</td>\n",
       "      <td>...</td>\n",
       "      <td>0.0</td>\n",
       "      <td>0.0</td>\n",
       "      <td>0.0</td>\n",
       "      <td>0.0</td>\n",
       "      <td>0.0</td>\n",
       "      <td>0.0</td>\n",
       "      <td>0.315390</td>\n",
       "      <td>0.0</td>\n",
       "      <td>0.0</td>\n",
       "      <td>0.0</td>\n",
       "    </tr>\n",
       "    <tr>\n",
       "      <th>1</th>\n",
       "      <td>0.6</td>\n",
       "      <td>0.0</td>\n",
       "      <td>0.0</td>\n",
       "      <td>0.0</td>\n",
       "      <td>0.0</td>\n",
       "      <td>0.0</td>\n",
       "      <td>0.0</td>\n",
       "      <td>0.000000</td>\n",
       "      <td>0.0</td>\n",
       "      <td>0.0</td>\n",
       "      <td>...</td>\n",
       "      <td>0.0</td>\n",
       "      <td>0.0</td>\n",
       "      <td>0.0</td>\n",
       "      <td>0.0</td>\n",
       "      <td>0.0</td>\n",
       "      <td>0.0</td>\n",
       "      <td>0.189883</td>\n",
       "      <td>0.0</td>\n",
       "      <td>0.0</td>\n",
       "      <td>0.0</td>\n",
       "    </tr>\n",
       "  </tbody>\n",
       "</table>\n",
       "<p>2 rows × 201 columns</p>\n",
       "</div>"
      ],
      "text/plain": [
       "   A_Score_scaled   10  access  actual   ad  add  allow   alreadi  amp  anoth  \\\n",
       "0             0.2  0.0     0.0     0.0  0.0  0.0    0.0  0.221444  0.0    0.0   \n",
       "1             0.6  0.0     0.0     0.0  0.0  0.0    0.0  0.000000  0.0    0.0   \n",
       "\n",
       "   ...  var  variabl  version  view  void  want       way  window  work  write  \n",
       "0  ...  0.0      0.0      0.0   0.0   0.0   0.0  0.315390     0.0   0.0    0.0  \n",
       "1  ...  0.0      0.0      0.0   0.0   0.0   0.0  0.189883     0.0   0.0    0.0  \n",
       "\n",
       "[2 rows x 201 columns]"
      ]
     },
     "execution_count": 31,
     "metadata": {},
     "output_type": "execute_result"
    }
   ],
   "source": [
    "df_final_answer.head(2)"
   ]
  },
  {
   "cell_type": "markdown",
   "id": "focal-purse",
   "metadata": {},
   "source": [
    "### 3. Training data development and Feature Selection"
   ]
  },
  {
   "cell_type": "code",
   "execution_count": 32,
   "id": "colored-furniture",
   "metadata": {},
   "outputs": [],
   "source": [
    "from sklearn.model_selection import train_test_split\n",
    "\n",
    "train_question_df, test_question_df = train_test_split(df_final_question, test_size=0.3)\n",
    "train_answer_df, test_answer_df = train_test_split(df_final_answer, test_size=0.3)"
   ]
  },
  {
   "cell_type": "code",
   "execution_count": 33,
   "id": "operating-lecture",
   "metadata": {},
   "outputs": [
    {
     "name": "stdout",
     "output_type": "stream",
     "text": [
      "          10  abl  access  activ   ad  add  amp  anoth  anyon       app  ...  \\\n",
      "1089787  0.0  0.0     0.0    0.0  0.0  0.0  0.0    0.0    0.0  0.148589  ...   \n",
      "1024791  0.0  0.0     0.0    0.0  0.0  0.0  0.0    0.0    0.0  0.000000  ...   \n",
      "\n",
      "         version  view  void  want       way  web  width  window     work  \\\n",
      "1089787      0.0   0.0   0.0   0.0  0.000000  0.0    0.0     0.0  0.09575   \n",
      "1024791      0.0   0.0   0.0   0.0  0.119837  0.0    0.0     0.0  0.00000   \n",
      "\n",
      "         write  \n",
      "1089787    0.0  \n",
      "1024791    0.0  \n",
      "\n",
      "[2 rows x 200 columns] 1089787     javascript, asp.net-mvc\n",
      "1024791    unit-testing, tfs, build\n",
      "Name: Tag, dtype: object\n"
     ]
    }
   ],
   "source": [
    "X_Question = train_question_df.loc[:, ~train_question_df.columns.isin(['Tag'])]\n",
    "y_Question = train_question_df['Tag']\n",
    "print(X_Question.head(2), y_Question.head(2))"
   ]
  },
  {
   "cell_type": "code",
   "execution_count": 34,
   "id": "recognized-writing",
   "metadata": {
    "scrolled": false
   },
   "outputs": [
    {
     "name": "stdout",
     "output_type": "stream",
     "text": [
      "          10  access  actual   ad      add  allow  alreadi  amp  anoth  \\\n",
      "1006988  0.0     0.0     0.0  0.0  0.44944    0.0      0.0  0.0    0.0   \n",
      "470760   0.0     0.0     0.0  0.0  0.00000    0.0      0.0  0.0    0.0   \n",
      "\n",
      "         answer  ...  var  variabl  version  view  void  want       way  \\\n",
      "1006988     0.0  ...  0.0      0.0  0.00000   0.0   0.0   0.0  0.422805   \n",
      "470760      0.0  ...  0.0      0.0  0.22447   0.0   0.0   0.0  0.000000   \n",
      "\n",
      "         window  work  write  \n",
      "1006988     0.0   0.0    0.0  \n",
      "470760      0.0   0.0    0.0  \n",
      "\n",
      "[2 rows x 200 columns] 1006988    0.2\n",
      "470760     0.4\n",
      "Name: A_Score_scaled, dtype: float64\n"
     ]
    }
   ],
   "source": [
    "X_Answer = train_answer_df.loc[:, ~train_answer_df.columns.isin(['A_Score_scaled'])]\n",
    "y_Answer = train_answer_df['A_Score_scaled']\n",
    "print(X_Answer.head(2), y_Answer.head(2))"
   ]
  },
  {
   "cell_type": "code",
   "execution_count": 35,
   "id": "ordered-spotlight",
   "metadata": {},
   "outputs": [],
   "source": [
    "#df_final_ques_tfidf.to_csv(\"../data/Question_Tags_tfidf.csv\")"
   ]
  },
  {
   "cell_type": "code",
   "execution_count": 36,
   "id": "utility-software",
   "metadata": {},
   "outputs": [],
   "source": [
    "#df_final_answer_tfidf.to_csv(\"../data/Answers_Votes_tfidf.csv\")"
   ]
  },
  {
   "cell_type": "code",
   "execution_count": null,
   "id": "subsequent-being",
   "metadata": {},
   "outputs": [],
   "source": [
    "from sklearn.decomposition import LatentDirichletAllocation\n",
    "\n",
    "topics = 20\n",
    "lda = LatentDirichletAllocation(n_components=topics, max_iter=5, learning_method='online', learning_offset=50,random_state=11).fit(tv_transformed_question)"
   ]
  },
  {
   "cell_type": "code",
   "execution_count": null,
   "id": "broad-universe",
   "metadata": {},
   "outputs": [],
   "source": [
    "def display_topics(model, feature_names, no_top_words):\n",
    "    for topic_idx, topic in enumerate(model.components_):\n",
    "        print(\"--------------------------------------------\")\n",
    "        print(\"Topic %d:\" % (topic_idx))\n",
    "        print(\" \".join([feature_names[i]\n",
    "                        for i in topic.argsort()[:-no_top_words - 1:-1]]))\n",
    "        print(\"--------------------------------------------\")\n",
    "        \n",
    "\n",
    "no_top_words = 10\n",
    "display_topics(lda, vectorizer_train.get_feature_names(), no_top_words)"
   ]
  },
  {
   "cell_type": "markdown",
   "id": "secondary-silly",
   "metadata": {},
   "source": [
    "## Modeling"
   ]
  },
  {
   "cell_type": "markdown",
   "id": "premier-programming",
   "metadata": {},
   "source": [
    "Perform multi label classification modeling on the ```df_question_tag``` dataframe that has Q_Body and Tag columns in order to determine what tag will be classified for a given question based on the body of question posted on Stackoverflow"
   ]
  },
  {
   "cell_type": "markdown",
   "id": "competent-minute",
   "metadata": {},
   "source": [
    "### Multi-Label Classification Techniques\n",
    "Most traditional learning algorithms are developed for single-label classification problems. Therefore a lot of approaches in the literature transform the multi-label problem into multiple single-label problems, so that the existing single-label algorithms can be used."
   ]
  },
  {
   "cell_type": "markdown",
   "id": "consistent-macintosh",
   "metadata": {},
   "source": [
    "- To solve multi-label classification problem, we can decompose it into multiple independent binary classification problems (one per category) using “one-to-rest” strategy, where we will build multiple independent classifiers and, for an unseen instance, choose the class for which the confidence is maximized.\n",
    "- The main assumption here is that the labels are mutually exclusive. You do not consider any underlying correlation between the classes in this method."
   ]
  },
  {
   "cell_type": "code",
   "execution_count": 37,
   "id": "contemporary-natural",
   "metadata": {},
   "outputs": [
    {
     "data": {
      "text/plain": [
       "0    optimization, setter, getter, verification\n",
       "1    optimization, setter, getter, verification\n",
       "Name: Tag, dtype: object"
      ]
     },
     "execution_count": 37,
     "metadata": {},
     "output_type": "execute_result"
    }
   ],
   "source": [
    "df_Tag = df_final_question['Tag']\n",
    "df_Tag.head(2)"
   ]
  },
  {
   "cell_type": "code",
   "execution_count": 38,
   "id": "instructional-forty",
   "metadata": {},
   "outputs": [
    {
     "data": {
      "text/plain": [
       "<AxesSubplot:>"
      ]
     },
     "execution_count": 38,
     "metadata": {},
     "output_type": "execute_result"
    },
    {
     "data": {
      "image/png": "[encoded data removed]",
      "text/plain": [
       "<Figure size 576x432 with 1 Axes>"
      ]
     },
     "metadata": {
      "needs_background": "light"
     },
     "output_type": "display_data"
    }
   ],
   "source": [
    "import matplotlib.pyplot as plt\n",
    "fig = plt.figure(figsize=(8,6))\n",
    "\n",
    "df_Tag.value_counts().head(10).plot.bar(ylim=0)"
   ]
  },
  {
   "cell_type": "code",
   "execution_count": null,
   "id": "significant-klein",
   "metadata": {},
   "outputs": [],
   "source": [
    "#Import ML models:\n",
    "import time\n",
    "from sklearn.model_selection import train_test_split\n",
    "from sklearn.model_selection import cross_val_score\n",
    "from sklearn.linear_model import LogisticRegression\n",
    "from sklearn.neighbors import KNeighborsClassifier\n",
    "from sklearn.model_selection import learning_curve, GridSearchCV\n",
    "from sklearn.ensemble import RandomForestClassifier, GradientBoostingClassifier\n",
    "from sklearn.naive_bayes import GaussianNB\n",
    "from sklearn import tree,metrics\n",
    "from sklearn.metrics import accuracy_score, f1_score, recall_score, precision_score, roc_auc_score, precision_recall_fscore_support as score\n",
    "from sklearn.metrics import plot_confusion_matrix, classification_report, confusion_matrix, roc_curve, auc"
   ]
  },
  {
   "cell_type": "code",
   "execution_count": null,
   "id": "productive-definition",
   "metadata": {},
   "outputs": [],
   "source": [
    "def avg_jacard(y_true,y_pred):\n",
    "    '''\n",
    "    see https://en.wikipedia.org/wiki/Multi-label_classification#Statistics_and_evaluation_metrics\n",
    "    '''\n",
    "    jacard = np.minimum(y_true,y_pred).sum(axis=1) / np.maximum(y,y_pred).sum(axis=1)\n",
    "    \n",
    "    return jacard.mean()*100\n",
    "\n",
    "def print_score(y_pred, clf):\n",
    "    print(\"Clf: \", clf.__class__.__name__)\n",
    "    print(\"Jacard score: {}\".format(avg_jacard(y_test, y_pred)))\n",
    "    print(\"Hamming loss: {}\".format(hamming_loss(y_pred, y_test)*100))\n",
    "    print(\"---\")    "
   ]
  },
  {
   "cell_type": "code",
   "execution_count": 39,
   "id": "unnecessary-london",
   "metadata": {},
   "outputs": [
    {
     "ename": "ValueError",
     "evalue": "Expected array-like (array or non-string sequence), got None",
     "output_type": "error",
     "traceback": [
      "\u001b[1;31m---------------------------------------------------------------------------\u001b[0m",
      "\u001b[1;31mValueError\u001b[0m                                Traceback (most recent call last)",
      "\u001b[1;32m<ipython-input-39-ebc6961f17db>\u001b[0m in \u001b[0;36m<module>\u001b[1;34m\u001b[0m\n\u001b[0;32m      8\u001b[0m \u001b[0mstart_train\u001b[0m \u001b[1;33m=\u001b[0m \u001b[0mtime\u001b[0m\u001b[1;33m.\u001b[0m\u001b[0mtime\u001b[0m\u001b[1;33m(\u001b[0m\u001b[1;33m)\u001b[0m\u001b[1;33m\u001b[0m\u001b[1;33m\u001b[0m\u001b[0m\n\u001b[0;32m      9\u001b[0m \u001b[1;31m# Training logistic regression model on train data\u001b[0m\u001b[1;33m\u001b[0m\u001b[1;33m\u001b[0m\u001b[1;33m\u001b[0m\u001b[0m\n\u001b[1;32m---> 10\u001b[1;33m \u001b[0mLogReg_pipeline\u001b[0m\u001b[1;33m.\u001b[0m\u001b[0mfit\u001b[0m\u001b[1;33m(\u001b[0m\u001b[0mX_Question\u001b[0m\u001b[1;33m)\u001b[0m\u001b[1;33m\u001b[0m\u001b[1;33m\u001b[0m\u001b[0m\n\u001b[0m\u001b[0;32m     11\u001b[0m \u001b[1;33m\u001b[0m\u001b[0m\n\u001b[0;32m     12\u001b[0m \u001b[0mend_train\u001b[0m \u001b[1;33m=\u001b[0m \u001b[0mtime\u001b[0m\u001b[1;33m.\u001b[0m\u001b[0mtime\u001b[0m\u001b[1;33m(\u001b[0m\u001b[1;33m)\u001b[0m\u001b[1;33m\u001b[0m\u001b[1;33m\u001b[0m\u001b[0m\n",
      "\u001b[1;32m~\\Anaconda3_2\\lib\\site-packages\\sklearn\\pipeline.py\u001b[0m in \u001b[0;36mfit\u001b[1;34m(self, X, y, **fit_params)\u001b[0m\n\u001b[0;32m    333\u001b[0m             \u001b[1;32mif\u001b[0m \u001b[0mself\u001b[0m\u001b[1;33m.\u001b[0m\u001b[0m_final_estimator\u001b[0m \u001b[1;33m!=\u001b[0m \u001b[1;34m'passthrough'\u001b[0m\u001b[1;33m:\u001b[0m\u001b[1;33m\u001b[0m\u001b[1;33m\u001b[0m\u001b[0m\n\u001b[0;32m    334\u001b[0m                 \u001b[0mfit_params_last_step\u001b[0m \u001b[1;33m=\u001b[0m \u001b[0mfit_params_steps\u001b[0m\u001b[1;33m[\u001b[0m\u001b[0mself\u001b[0m\u001b[1;33m.\u001b[0m\u001b[0msteps\u001b[0m\u001b[1;33m[\u001b[0m\u001b[1;33m-\u001b[0m\u001b[1;36m1\u001b[0m\u001b[1;33m]\u001b[0m\u001b[1;33m[\u001b[0m\u001b[1;36m0\u001b[0m\u001b[1;33m]\u001b[0m\u001b[1;33m]\u001b[0m\u001b[1;33m\u001b[0m\u001b[1;33m\u001b[0m\u001b[0m\n\u001b[1;32m--> 335\u001b[1;33m                 \u001b[0mself\u001b[0m\u001b[1;33m.\u001b[0m\u001b[0m_final_estimator\u001b[0m\u001b[1;33m.\u001b[0m\u001b[0mfit\u001b[0m\u001b[1;33m(\u001b[0m\u001b[0mXt\u001b[0m\u001b[1;33m,\u001b[0m \u001b[0my\u001b[0m\u001b[1;33m,\u001b[0m \u001b[1;33m**\u001b[0m\u001b[0mfit_params_last_step\u001b[0m\u001b[1;33m)\u001b[0m\u001b[1;33m\u001b[0m\u001b[1;33m\u001b[0m\u001b[0m\n\u001b[0m\u001b[0;32m    336\u001b[0m \u001b[1;33m\u001b[0m\u001b[0m\n\u001b[0;32m    337\u001b[0m         \u001b[1;32mreturn\u001b[0m \u001b[0mself\u001b[0m\u001b[1;33m\u001b[0m\u001b[1;33m\u001b[0m\u001b[0m\n",
      "\u001b[1;32m~\\Anaconda3_2\\lib\\site-packages\\sklearn\\multiclass.py\u001b[0m in \u001b[0;36mfit\u001b[1;34m(self, X, y)\u001b[0m\n\u001b[0;32m    232\u001b[0m         \u001b[1;31m# overall.\u001b[0m\u001b[1;33m\u001b[0m\u001b[1;33m\u001b[0m\u001b[1;33m\u001b[0m\u001b[0m\n\u001b[0;32m    233\u001b[0m         \u001b[0mself\u001b[0m\u001b[1;33m.\u001b[0m\u001b[0mlabel_binarizer_\u001b[0m \u001b[1;33m=\u001b[0m \u001b[0mLabelBinarizer\u001b[0m\u001b[1;33m(\u001b[0m\u001b[0msparse_output\u001b[0m\u001b[1;33m=\u001b[0m\u001b[1;32mTrue\u001b[0m\u001b[1;33m)\u001b[0m\u001b[1;33m\u001b[0m\u001b[1;33m\u001b[0m\u001b[0m\n\u001b[1;32m--> 234\u001b[1;33m         \u001b[0mY\u001b[0m \u001b[1;33m=\u001b[0m \u001b[0mself\u001b[0m\u001b[1;33m.\u001b[0m\u001b[0mlabel_binarizer_\u001b[0m\u001b[1;33m.\u001b[0m\u001b[0mfit_transform\u001b[0m\u001b[1;33m(\u001b[0m\u001b[0my\u001b[0m\u001b[1;33m)\u001b[0m\u001b[1;33m\u001b[0m\u001b[1;33m\u001b[0m\u001b[0m\n\u001b[0m\u001b[0;32m    235\u001b[0m         \u001b[0mY\u001b[0m \u001b[1;33m=\u001b[0m \u001b[0mY\u001b[0m\u001b[1;33m.\u001b[0m\u001b[0mtocsc\u001b[0m\u001b[1;33m(\u001b[0m\u001b[1;33m)\u001b[0m\u001b[1;33m\u001b[0m\u001b[1;33m\u001b[0m\u001b[0m\n\u001b[0;32m    236\u001b[0m         \u001b[0mself\u001b[0m\u001b[1;33m.\u001b[0m\u001b[0mclasses_\u001b[0m \u001b[1;33m=\u001b[0m \u001b[0mself\u001b[0m\u001b[1;33m.\u001b[0m\u001b[0mlabel_binarizer_\u001b[0m\u001b[1;33m.\u001b[0m\u001b[0mclasses_\u001b[0m\u001b[1;33m\u001b[0m\u001b[1;33m\u001b[0m\u001b[0m\n",
      "\u001b[1;32m~\\Anaconda3_2\\lib\\site-packages\\sklearn\\preprocessing\\_label.py\u001b[0m in \u001b[0;36mfit_transform\u001b[1;34m(self, y)\u001b[0m\n\u001b[0;32m    458\u001b[0m             \u001b[0mShape\u001b[0m \u001b[0mwill\u001b[0m \u001b[0mbe\u001b[0m \u001b[1;33m[\u001b[0m\u001b[0mn_samples\u001b[0m\u001b[1;33m,\u001b[0m \u001b[1;36m1\u001b[0m\u001b[1;33m]\u001b[0m \u001b[1;32mfor\u001b[0m \u001b[0mbinary\u001b[0m \u001b[0mproblems\u001b[0m\u001b[1;33m.\u001b[0m\u001b[1;33m\u001b[0m\u001b[1;33m\u001b[0m\u001b[0m\n\u001b[0;32m    459\u001b[0m         \"\"\"\n\u001b[1;32m--> 460\u001b[1;33m         \u001b[1;32mreturn\u001b[0m \u001b[0mself\u001b[0m\u001b[1;33m.\u001b[0m\u001b[0mfit\u001b[0m\u001b[1;33m(\u001b[0m\u001b[0my\u001b[0m\u001b[1;33m)\u001b[0m\u001b[1;33m.\u001b[0m\u001b[0mtransform\u001b[0m\u001b[1;33m(\u001b[0m\u001b[0my\u001b[0m\u001b[1;33m)\u001b[0m\u001b[1;33m\u001b[0m\u001b[1;33m\u001b[0m\u001b[0m\n\u001b[0m\u001b[0;32m    461\u001b[0m \u001b[1;33m\u001b[0m\u001b[0m\n\u001b[0;32m    462\u001b[0m     \u001b[1;32mdef\u001b[0m \u001b[0mtransform\u001b[0m\u001b[1;33m(\u001b[0m\u001b[0mself\u001b[0m\u001b[1;33m,\u001b[0m \u001b[0my\u001b[0m\u001b[1;33m)\u001b[0m\u001b[1;33m:\u001b[0m\u001b[1;33m\u001b[0m\u001b[1;33m\u001b[0m\u001b[0m\n",
      "\u001b[1;32m~\\Anaconda3_2\\lib\\site-packages\\sklearn\\preprocessing\\_label.py\u001b[0m in \u001b[0;36mfit\u001b[1;34m(self, y)\u001b[0m\n\u001b[0;32m    427\u001b[0m         \u001b[0mself\u001b[0m \u001b[1;33m:\u001b[0m \u001b[0mreturns\u001b[0m \u001b[0man\u001b[0m \u001b[0minstance\u001b[0m \u001b[0mof\u001b[0m \u001b[0mself\u001b[0m\u001b[1;33m.\u001b[0m\u001b[1;33m\u001b[0m\u001b[1;33m\u001b[0m\u001b[0m\n\u001b[0;32m    428\u001b[0m         \"\"\"\n\u001b[1;32m--> 429\u001b[1;33m         \u001b[0mself\u001b[0m\u001b[1;33m.\u001b[0m\u001b[0my_type_\u001b[0m \u001b[1;33m=\u001b[0m \u001b[0mtype_of_target\u001b[0m\u001b[1;33m(\u001b[0m\u001b[0my\u001b[0m\u001b[1;33m)\u001b[0m\u001b[1;33m\u001b[0m\u001b[1;33m\u001b[0m\u001b[0m\n\u001b[0m\u001b[0;32m    430\u001b[0m         \u001b[1;32mif\u001b[0m \u001b[1;34m'multioutput'\u001b[0m \u001b[1;32min\u001b[0m \u001b[0mself\u001b[0m\u001b[1;33m.\u001b[0m\u001b[0my_type_\u001b[0m\u001b[1;33m:\u001b[0m\u001b[1;33m\u001b[0m\u001b[1;33m\u001b[0m\u001b[0m\n\u001b[0;32m    431\u001b[0m             raise ValueError(\"Multioutput target data is not supported with \"\n",
      "\u001b[1;32m~\\Anaconda3_2\\lib\\site-packages\\sklearn\\utils\\multiclass.py\u001b[0m in \u001b[0;36mtype_of_target\u001b[1;34m(y)\u001b[0m\n\u001b[0;32m    242\u001b[0m     \u001b[1;32mif\u001b[0m \u001b[1;32mnot\u001b[0m \u001b[0mvalid\u001b[0m\u001b[1;33m:\u001b[0m\u001b[1;33m\u001b[0m\u001b[1;33m\u001b[0m\u001b[0m\n\u001b[0;32m    243\u001b[0m         raise ValueError('Expected array-like (array or non-string sequence), '\n\u001b[1;32m--> 244\u001b[1;33m                          'got %r' % y)\n\u001b[0m\u001b[0;32m    245\u001b[0m \u001b[1;33m\u001b[0m\u001b[0m\n\u001b[0;32m    246\u001b[0m     \u001b[0msparse_pandas\u001b[0m \u001b[1;33m=\u001b[0m \u001b[1;33m(\u001b[0m\u001b[0my\u001b[0m\u001b[1;33m.\u001b[0m\u001b[0m__class__\u001b[0m\u001b[1;33m.\u001b[0m\u001b[0m__name__\u001b[0m \u001b[1;32min\u001b[0m \u001b[1;33m[\u001b[0m\u001b[1;34m'SparseSeries'\u001b[0m\u001b[1;33m,\u001b[0m \u001b[1;34m'SparseArray'\u001b[0m\u001b[1;33m]\u001b[0m\u001b[1;33m)\u001b[0m\u001b[1;33m\u001b[0m\u001b[1;33m\u001b[0m\u001b[0m\n",
      "\u001b[1;31mValueError\u001b[0m: Expected array-like (array or non-string sequence), got None"
     ]
    }
   ],
   "source": [
    "from sklearn.pipeline import Pipeline\n",
    "from sklearn.multiclass import OneVsRestClassifier\n",
    "# Using pipeline for applying logistic regression and one vs rest classifier\n",
    "LogReg_pipeline = Pipeline([\n",
    "                ('clf', OneVsRestClassifier(LogisticRegression(solver='sag'), n_jobs=-1)),\n",
    "            ])\n",
    "    \n",
    "start_train = time.time()\n",
    "# Training logistic regression model on train data\n",
    "LogReg_pipeline.fit(X_Question)\n",
    "    \n",
    "end_train = time.time()\n",
    "training_time_lr = (end_train - start_train)\n",
    "\n",
    "start_predict = time.time()\n",
    "y_pred_lr = Logreg.predict(X_Question)\n",
    "end_predict = time.time()\n",
    "predict_time_lr = (end_predict - start_predict)\n",
    "\n",
    "# Print the training and prediction time\n",
    "print('Training time is:', training_time_lr)\n",
    "print('Prediction time is:', predict_time_lr)\n",
    "\n",
    "# Print the model performance from the testing data.\n",
    "print('====Naive Logistic Regression====')\n",
    "print('Accuracy score:', round(accuracy_score(y_Question, Logreg.predict(X_Question)),3))\n",
    "print('Precision score:', round(precision_score(y_Question, Logreg.predict(X_Question)),3))\n",
    "print('Recall score:', round(recall_score(y_Question, Logreg.predict(X_Question)),3))\n",
    "print('F1 score:', round(f1_score(y_Question, Logreg.predict(X_Question),average='weighted'),3))\n",
    "print('ROC AUC score:', round(roc_auc_score(y_Question,Logreg.predict(X_Question)),3))"
   ]
  },
  {
   "cell_type": "code",
   "execution_count": null,
   "id": "brutal-camcorder",
   "metadata": {},
   "outputs": [],
   "source": []
  },
  {
   "cell_type": "code",
   "execution_count": null,
   "id": "rocky-september",
   "metadata": {},
   "outputs": [],
   "source": []
  },
  {
   "cell_type": "code",
   "execution_count": null,
   "id": "necessary-tongue",
   "metadata": {},
   "outputs": [],
   "source": []
  },
  {
   "cell_type": "code",
   "execution_count": null,
   "id": "extreme-speed",
   "metadata": {},
   "outputs": [],
   "source": []
  },
  {
   "cell_type": "code",
   "execution_count": null,
   "id": "confidential-savage",
   "metadata": {},
   "outputs": [],
   "source": []
  },
  {
   "cell_type": "code",
   "execution_count": null,
   "id": "lasting-compact",
   "metadata": {},
   "outputs": [],
   "source": []
  },
  {
   "cell_type": "code",
   "execution_count": null,
   "id": "desirable-driver",
   "metadata": {},
   "outputs": [],
   "source": []
  },
  {
   "cell_type": "code",
   "execution_count": null,
   "id": "sexual-equipment",
   "metadata": {},
   "outputs": [],
   "source": []
  },
  {
   "cell_type": "code",
   "execution_count": null,
   "id": "tough-thousand",
   "metadata": {},
   "outputs": [],
   "source": []
  },
  {
   "cell_type": "code",
   "execution_count": null,
   "id": "complete-showcase",
   "metadata": {},
   "outputs": [],
   "source": []
  }
 ],
 "metadata": {
  "kernelspec": {
   "display_name": "Python 3",
   "language": "python",
   "name": "python3"
  },
  "language_info": {
   "codemirror_mode": {
    "name": "ipython",
    "version": 3
   },
   "file_extension": ".py",
   "mimetype": "text/x-python",
   "name": "python",
   "nbconvert_exporter": "python",
   "pygments_lexer": "ipython3",
   "version": "3.6.12"
  }
 },
 "nbformat": 4,
 "nbformat_minor": 5
}
