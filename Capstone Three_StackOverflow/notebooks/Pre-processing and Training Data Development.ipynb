{
 "cells": [
  {
   "cell_type": "markdown",
   "id": "prime-series",
   "metadata": {},
   "source": [
    "## I. Pre-processing and Training Data Development"
   ]
  },
  {
   "cell_type": "markdown",
   "id": "removable-haiti",
   "metadata": {},
   "source": [
    "- Goal is to create a cleaned development dataset you can use to complete the modeling step of this project."
   ]
  },
  {
   "cell_type": "code",
   "execution_count": 1,
   "id": "finnish-guyana",
   "metadata": {},
   "outputs": [],
   "source": [
    "# Import libraries\n",
    "import numpy as np\n",
    "import pandas as pd\n",
    "pd.options.mode.chained_assignment = None  # default='warn'\n",
    "\n",
    "import os\n",
    "from sklearn.preprocessing import MaxAbsScaler\n",
    "import matplotlib.pyplot as plt\n",
    "\n",
    "#suppress future warnings\n",
    "import warnings\n",
    "warnings.simplefilter(action='ignore', category=FutureWarning)\n",
    "warnings.simplefilter(action='ignore', category=UserWarning)\n",
    "\n",
    "# Show plots inline\n",
    "%matplotlib inline\n",
    "\n",
    "import re\n",
    "import nltk\n",
    "from nltk.tokenize import word_tokenize\n",
    "from nltk.corpus import stopwords\n",
    "from nltk.stem import PorterStemmer\n",
    "import stem"
   ]
  },
  {
   "cell_type": "code",
   "execution_count": 2,
   "id": "executed-participant",
   "metadata": {},
   "outputs": [
    {
     "data": {
      "text/plain": [
       "'C:\\\\Shalin\\\\Springboard bootcamp\\\\Springboard repo_github\\\\Springboard-DS-Track\\\\Capstone Three_StackOverflow\\\\notebooks'"
      ]
     },
     "execution_count": 2,
     "metadata": {},
     "output_type": "execute_result"
    }
   ],
   "source": [
    "os.getcwd()"
   ]
  },
  {
   "cell_type": "code",
   "execution_count": 3,
   "id": "deluxe-thirty",
   "metadata": {},
   "outputs": [],
   "source": [
    "df = pd.read_csv(\"..\\data\\Stackoverflow_cleansed.csv\")"
   ]
  },
  {
   "cell_type": "code",
   "execution_count": 4,
   "id": "stock-algeria",
   "metadata": {},
   "outputs": [
    {
     "data": {
      "text/plain": [
       "(1455901, 8)"
      ]
     },
     "execution_count": 4,
     "metadata": {},
     "output_type": "execute_result"
    }
   ],
   "source": [
    "df.shape"
   ]
  },
  {
   "cell_type": "code",
   "execution_count": 5,
   "id": "inappropriate-network",
   "metadata": {},
   "outputs": [
    {
     "data": {
      "text/html": [
       "<div>\n",
       "<style scoped>\n",
       "    .dataframe tbody tr th:only-of-type {\n",
       "        vertical-align: middle;\n",
       "    }\n",
       "\n",
       "    .dataframe tbody tr th {\n",
       "        vertical-align: top;\n",
       "    }\n",
       "\n",
       "    .dataframe thead th {\n",
       "        text-align: right;\n",
       "    }\n",
       "</style>\n",
       "<table border=\"1\" class=\"dataframe\">\n",
       "  <thead>\n",
       "    <tr style=\"text-align: right;\">\n",
       "      <th></th>\n",
       "      <th>Unnamed: 0</th>\n",
       "      <th>Q_Score</th>\n",
       "      <th>A_Score</th>\n",
       "      <th>Id</th>\n",
       "      <th>Title</th>\n",
       "      <th>Q_Body</th>\n",
       "      <th>Tag</th>\n",
       "      <th>A_Body</th>\n",
       "    </tr>\n",
       "  </thead>\n",
       "  <tbody>\n",
       "    <tr>\n",
       "      <th>343225</th>\n",
       "      <td>421527</td>\n",
       "      <td>3</td>\n",
       "      <td>4</td>\n",
       "      <td>9425910</td>\n",
       "      <td>load unload javascript runtim</td>\n",
       "      <td>pis possible add remove javascript files css f...</td>\n",
       "      <td>javascript</td>\n",
       "      <td>cant block javascript gets loaded browser exec...</td>\n",
       "    </tr>\n",
       "    <tr>\n",
       "      <th>525208</th>\n",
       "      <td>638003</td>\n",
       "      <td>0</td>\n",
       "      <td>0</td>\n",
       "      <td>14260960</td>\n",
       "      <td>adding linearlayout current view doesnt work</td>\n",
       "      <td>pi trying add linearlayout scrolview code code...</td>\n",
       "      <td>android, android-layout, android-linearlayout,...</td>\n",
       "      <td>build different imageview make works like line...</td>\n",
       "    </tr>\n",
       "    <tr>\n",
       "      <th>818764</th>\n",
       "      <td>980220</td>\n",
       "      <td>0</td>\n",
       "      <td>-1</td>\n",
       "      <td>22257600</td>\n",
       "      <td>scoped mutex lock</td>\n",
       "      <td>pi never really worked mutexes need control ac...</td>\n",
       "      <td>c++, c++11, mutex, raii</td>\n",
       "      <td>trick may come handy works mainstream vc clang...</td>\n",
       "    </tr>\n",
       "    <tr>\n",
       "      <th>880897</th>\n",
       "      <td>1051840</td>\n",
       "      <td>-3</td>\n",
       "      <td>0</td>\n",
       "      <td>23967980</td>\n",
       "      <td>basic steps reading excel files matlab</td>\n",
       "      <td>precodegtgt numtxtrawxlsreadcuserslincoln wach...</td>\n",
       "      <td>excel, matlab, xlsread</td>\n",
       "      <td>error pretty obvious says file found make sure...</td>\n",
       "    </tr>\n",
       "    <tr>\n",
       "      <th>370917</th>\n",
       "      <td>454767</td>\n",
       "      <td>0</td>\n",
       "      <td>0</td>\n",
       "      <td>10142810</td>\n",
       "      <td>possible install crystal reports feature using...</td>\n",
       "      <td>pso know take bootstrap crystal reports use pr...</td>\n",
       "      <td>installer, wix, wix3.5</td>\n",
       "      <td>according crystal reports website using either...</td>\n",
       "    </tr>\n",
       "  </tbody>\n",
       "</table>\n",
       "</div>"
      ],
      "text/plain": [
       "        Unnamed: 0  Q_Score  A_Score        Id  \\\n",
       "343225      421527        3        4   9425910   \n",
       "525208      638003        0        0  14260960   \n",
       "818764      980220        0       -1  22257600   \n",
       "880897     1051840       -3        0  23967980   \n",
       "370917      454767        0        0  10142810   \n",
       "\n",
       "                                                    Title  \\\n",
       "343225                      load unload javascript runtim   \n",
       "525208       adding linearlayout current view doesnt work   \n",
       "818764                                  scoped mutex lock   \n",
       "880897             basic steps reading excel files matlab   \n",
       "370917  possible install crystal reports feature using...   \n",
       "\n",
       "                                                   Q_Body  \\\n",
       "343225  pis possible add remove javascript files css f...   \n",
       "525208  pi trying add linearlayout scrolview code code...   \n",
       "818764  pi never really worked mutexes need control ac...   \n",
       "880897  precodegtgt numtxtrawxlsreadcuserslincoln wach...   \n",
       "370917  pso know take bootstrap crystal reports use pr...   \n",
       "\n",
       "                                                      Tag  \\\n",
       "343225                                         javascript   \n",
       "525208  android, android-layout, android-linearlayout,...   \n",
       "818764                            c++, c++11, mutex, raii   \n",
       "880897                             excel, matlab, xlsread   \n",
       "370917                             installer, wix, wix3.5   \n",
       "\n",
       "                                                   A_Body  \n",
       "343225  cant block javascript gets loaded browser exec...  \n",
       "525208  build different imageview make works like line...  \n",
       "818764  trick may come handy works mainstream vc clang...  \n",
       "880897  error pretty obvious says file found make sure...  \n",
       "370917  according crystal reports website using either...  "
      ]
     },
     "execution_count": 5,
     "metadata": {},
     "output_type": "execute_result"
    }
   ],
   "source": [
    "df.sample(5)"
   ]
  },
  {
   "cell_type": "code",
   "execution_count": 6,
   "id": "sophisticated-empty",
   "metadata": {},
   "outputs": [
    {
     "data": {
      "text/plain": [
       "java                                               11396\n",
       "javascript, jquery                                 10896\n",
       "android                                             9937\n",
       "javascript                                          9759\n",
       "php                                                 9687\n",
       "                                                   ...  \n",
       "jsp, forms, submit                                     1\n",
       "windows-phone-8, out-of-memory                         1\n",
       "security, guid                                         1\n",
       "ssis, business-intelligence, staging                   1\n",
       "objective-c, xcode, nsthread, nsautoreleasepool        1\n",
       "Name: Tag, Length: 511628, dtype: int64"
      ]
     },
     "execution_count": 6,
     "metadata": {},
     "output_type": "execute_result"
    }
   ],
   "source": [
    "df.Tag.value_counts()"
   ]
  },
  {
   "cell_type": "code",
   "execution_count": 7,
   "id": "bright-honolulu",
   "metadata": {},
   "outputs": [
    {
     "name": "stderr",
     "output_type": "stream",
     "text": [
      "[nltk_data] Downloading package stopwords to\n",
      "[nltk_data]     C:\\Users\\gosal\\AppData\\Roaming\\nltk_data...\n",
      "[nltk_data]   Package stopwords is already up-to-date!\n",
      "[nltk_data] Downloading package punkt to\n",
      "[nltk_data]     C:\\Users\\gosal\\AppData\\Roaming\\nltk_data...\n",
      "[nltk_data]   Package punkt is already up-to-date!\n"
     ]
    }
   ],
   "source": [
    "stop_words = stopwords.words('english')\n",
    "nltk.download('stopwords')\n",
    "nltk.download('punkt')\n",
    "\n",
    "stemmer = PorterStemmer()"
   ]
  },
  {
   "cell_type": "code",
   "execution_count": 8,
   "id": "vocal-chocolate",
   "metadata": {},
   "outputs": [],
   "source": [
    "#df['Q_Body'] = df[~df['Q_Body'].str.contains(r'(?<!\\S)(?!http|\\S*www\\.)\\S{12}')]\n",
    "#df.shape[0]"
   ]
  },
  {
   "cell_type": "markdown",
   "id": "sharing-american",
   "metadata": {},
   "source": [
    "**Note**: Stemming on Q_Body and A_Body column was not done in the Data Wrangling step, so resuming this step so all the 'text' columns in the dataframe are cleansed as a part of Text pre-processing"
   ]
  },
  {
   "cell_type": "code",
   "execution_count": 9,
   "id": "shared-gather",
   "metadata": {},
   "outputs": [
    {
     "data": {
      "text/plain": [
       "1455901"
      ]
     },
     "execution_count": 9,
     "metadata": {},
     "output_type": "execute_result"
    }
   ],
   "source": [
    "def stem_sentences(sentence):\n",
    "    tokens = sentence.split()\n",
    "    stemmed_tokens = [stemmer.stem(token) for token in tokens if len(token) < 20 ]\n",
    "    return ' '.join(stemmed_tokens)\n",
    "\n",
    "df['Q_Body'] = df['Q_Body'].apply(stem_sentences)\n",
    "df['A_Body'] = df['A_Body'].apply(stem_sentences)\n",
    "df.shape[0]"
   ]
  },
  {
   "cell_type": "code",
   "execution_count": 10,
   "id": "stunning-hampshire",
   "metadata": {},
   "outputs": [
    {
     "data": {
      "text/plain": [
       "Unnamed: 0     int64\n",
       "Q_Score        int64\n",
       "A_Score        int64\n",
       "Id             int64\n",
       "Title         object\n",
       "Q_Body        object\n",
       "Tag           object\n",
       "A_Body        object\n",
       "dtype: object"
      ]
     },
     "execution_count": 10,
     "metadata": {},
     "output_type": "execute_result"
    }
   ],
   "source": [
    "df.dtypes"
   ]
  },
  {
   "cell_type": "code",
   "execution_count": 11,
   "id": "direct-context",
   "metadata": {},
   "outputs": [
    {
     "data": {
      "text/html": [
       "<div>\n",
       "<style scoped>\n",
       "    .dataframe tbody tr th:only-of-type {\n",
       "        vertical-align: middle;\n",
       "    }\n",
       "\n",
       "    .dataframe tbody tr th {\n",
       "        vertical-align: top;\n",
       "    }\n",
       "\n",
       "    .dataframe thead th {\n",
       "        text-align: right;\n",
       "    }\n",
       "</style>\n",
       "<table border=\"1\" class=\"dataframe\">\n",
       "  <thead>\n",
       "    <tr style=\"text-align: right;\">\n",
       "      <th></th>\n",
       "      <th>Unnamed: 0</th>\n",
       "      <th>Q_Score</th>\n",
       "      <th>A_Score</th>\n",
       "      <th>Id</th>\n",
       "      <th>Title</th>\n",
       "      <th>Q_Body</th>\n",
       "      <th>Tag</th>\n",
       "      <th>A_Body</th>\n",
       "    </tr>\n",
       "  </thead>\n",
       "  <tbody>\n",
       "    <tr>\n",
       "      <th>0</th>\n",
       "      <td>0</td>\n",
       "      <td>7</td>\n",
       "      <td>1</td>\n",
       "      <td>2750</td>\n",
       "      <td>data verifications gettersetter elsewher</td>\n",
       "      <td>pim wonder good idea make stronggettersstrong ...</td>\n",
       "      <td>optimization, setter, getter, verification</td>\n",
       "      <td>valid captur separ getter setter valid method ...</td>\n",
       "    </tr>\n",
       "    <tr>\n",
       "      <th>1</th>\n",
       "      <td>1</td>\n",
       "      <td>7</td>\n",
       "      <td>3</td>\n",
       "      <td>2750</td>\n",
       "      <td>data verifications gettersetter elsewher</td>\n",
       "      <td>pim wonder good idea make stronggettersstrong ...</td>\n",
       "      <td>optimization, setter, getter, verification</td>\n",
       "      <td>perspect maintain code think much valid setter...</td>\n",
       "    </tr>\n",
       "    <tr>\n",
       "      <th>2</th>\n",
       "      <td>2</td>\n",
       "      <td>7</td>\n",
       "      <td>3</td>\n",
       "      <td>2750</td>\n",
       "      <td>data verifications gettersetter elsewher</td>\n",
       "      <td>pim wonder good idea make stronggettersstrong ...</td>\n",
       "      <td>optimization, setter, getter, verification</td>\n",
       "      <td>depend gener code fail fast valu set multipl p...</td>\n",
       "    </tr>\n",
       "    <tr>\n",
       "      <th>3</th>\n",
       "      <td>3</td>\n",
       "      <td>7</td>\n",
       "      <td>1</td>\n",
       "      <td>2750</td>\n",
       "      <td>data verifications gettersetter elsewher</td>\n",
       "      <td>pim wonder good idea make stronggettersstrong ...</td>\n",
       "      <td>optimization, setter, getter, verification</td>\n",
       "      <td>might wanna check domain driven design eric ev...</td>\n",
       "    </tr>\n",
       "  </tbody>\n",
       "</table>\n",
       "</div>"
      ],
      "text/plain": [
       "   Unnamed: 0  Q_Score  A_Score    Id  \\\n",
       "0           0        7        1  2750   \n",
       "1           1        7        3  2750   \n",
       "2           2        7        3  2750   \n",
       "3           3        7        1  2750   \n",
       "\n",
       "                                      Title  \\\n",
       "0  data verifications gettersetter elsewher   \n",
       "1  data verifications gettersetter elsewher   \n",
       "2  data verifications gettersetter elsewher   \n",
       "3  data verifications gettersetter elsewher   \n",
       "\n",
       "                                              Q_Body  \\\n",
       "0  pim wonder good idea make stronggettersstrong ...   \n",
       "1  pim wonder good idea make stronggettersstrong ...   \n",
       "2  pim wonder good idea make stronggettersstrong ...   \n",
       "3  pim wonder good idea make stronggettersstrong ...   \n",
       "\n",
       "                                          Tag  \\\n",
       "0  optimization, setter, getter, verification   \n",
       "1  optimization, setter, getter, verification   \n",
       "2  optimization, setter, getter, verification   \n",
       "3  optimization, setter, getter, verification   \n",
       "\n",
       "                                              A_Body  \n",
       "0  valid captur separ getter setter valid method ...  \n",
       "1  perspect maintain code think much valid setter...  \n",
       "2  depend gener code fail fast valu set multipl p...  \n",
       "3  might wanna check domain driven design eric ev...  "
      ]
     },
     "execution_count": 11,
     "metadata": {},
     "output_type": "execute_result"
    }
   ],
   "source": [
    "df.head(4)"
   ]
  },
  {
   "cell_type": "code",
   "execution_count": 12,
   "id": "received-berry",
   "metadata": {},
   "outputs": [],
   "source": [
    "#df['Q_Body'] = df['Q_Body'].apply(lambda x: ' '.join([word for word in x.split() if word not in (stop_words)]))"
   ]
  },
  {
   "cell_type": "markdown",
   "id": "respected-bailey",
   "metadata": {},
   "source": [
    "#### 1. Standardize the magnitude of numeric features using a scaler"
   ]
  },
  {
   "cell_type": "code",
   "execution_count": 13,
   "id": "broken-plaza",
   "metadata": {},
   "outputs": [
    {
     "name": "stdout",
     "output_type": "stream",
     "text": [
      "Index(['Unnamed: 0', 'Q_Score', 'A_Score', 'Id'], dtype='object')\n"
     ]
    }
   ],
   "source": [
    "# Create subset of only the numeric columns\n",
    "df_numeric = df.select_dtypes(include=['int64','float'])\n",
    "print(df_numeric.columns)"
   ]
  },
  {
   "cell_type": "code",
   "execution_count": 14,
   "id": "friendly-cedar",
   "metadata": {},
   "outputs": [
    {
     "name": "stdout",
     "output_type": "stream",
     "text": [
      "Index(['Title', 'Q_Body', 'Tag', 'A_Body'], dtype='object')\n"
     ]
    }
   ],
   "source": [
    "# Create subset of only the categorical variable columns\n",
    "df_categorical = df.select_dtypes(include=['object'])\n",
    "print(df_categorical.columns)"
   ]
  },
  {
   "cell_type": "code",
   "execution_count": 15,
   "id": "demonstrated-emergency",
   "metadata": {},
   "outputs": [
    {
     "data": {
      "text/html": [
       "<div>\n",
       "<style scoped>\n",
       "    .dataframe tbody tr th:only-of-type {\n",
       "        vertical-align: middle;\n",
       "    }\n",
       "\n",
       "    .dataframe tbody tr th {\n",
       "        vertical-align: top;\n",
       "    }\n",
       "\n",
       "    .dataframe thead th {\n",
       "        text-align: right;\n",
       "    }\n",
       "</style>\n",
       "<table border=\"1\" class=\"dataframe\">\n",
       "  <thead>\n",
       "    <tr style=\"text-align: right;\">\n",
       "      <th></th>\n",
       "      <th>Q_Score</th>\n",
       "      <th>A_Score</th>\n",
       "    </tr>\n",
       "  </thead>\n",
       "  <tbody>\n",
       "    <tr>\n",
       "      <th>count</th>\n",
       "      <td>1.455901e+06</td>\n",
       "      <td>1.455901e+06</td>\n",
       "    </tr>\n",
       "    <tr>\n",
       "      <th>mean</th>\n",
       "      <td>9.834082e-01</td>\n",
       "      <td>1.038608e+00</td>\n",
       "    </tr>\n",
       "    <tr>\n",
       "      <th>std</th>\n",
       "      <td>1.674276e+00</td>\n",
       "      <td>1.273145e+00</td>\n",
       "    </tr>\n",
       "    <tr>\n",
       "      <th>min</th>\n",
       "      <td>-4.000000e+00</td>\n",
       "      <td>-3.000000e+00</td>\n",
       "    </tr>\n",
       "    <tr>\n",
       "      <th>25%</th>\n",
       "      <td>0.000000e+00</td>\n",
       "      <td>0.000000e+00</td>\n",
       "    </tr>\n",
       "    <tr>\n",
       "      <th>50%</th>\n",
       "      <td>1.000000e+00</td>\n",
       "      <td>1.000000e+00</td>\n",
       "    </tr>\n",
       "    <tr>\n",
       "      <th>75%</th>\n",
       "      <td>2.000000e+00</td>\n",
       "      <td>2.000000e+00</td>\n",
       "    </tr>\n",
       "    <tr>\n",
       "      <th>max</th>\n",
       "      <td>7.000000e+00</td>\n",
       "      <td>5.000000e+00</td>\n",
       "    </tr>\n",
       "  </tbody>\n",
       "</table>\n",
       "</div>"
      ],
      "text/plain": [
       "            Q_Score       A_Score\n",
       "count  1.455901e+06  1.455901e+06\n",
       "mean   9.834082e-01  1.038608e+00\n",
       "std    1.674276e+00  1.273145e+00\n",
       "min   -4.000000e+00 -3.000000e+00\n",
       "25%    0.000000e+00  0.000000e+00\n",
       "50%    1.000000e+00  1.000000e+00\n",
       "75%    2.000000e+00  2.000000e+00\n",
       "max    7.000000e+00  5.000000e+00"
      ]
     },
     "execution_count": 15,
     "metadata": {},
     "output_type": "execute_result"
    }
   ],
   "source": [
    "df_numeric[['Q_Score','A_Score']].describe()"
   ]
  },
  {
   "cell_type": "code",
   "execution_count": 16,
   "id": "visible-antenna",
   "metadata": {},
   "outputs": [
    {
     "name": "stdout",
     "output_type": "stream",
     "text": [
      "   Q_Score_scaled  A_Score_scaled\n",
      "0             1.0             0.2\n",
      "1             1.0             0.6\n",
      "2             1.0             0.6\n",
      "3             1.0             0.2\n",
      "4             1.0             0.2\n"
     ]
    }
   ],
   "source": [
    "# Instantiate StandardScaler to generate the absolute values are mapped in the range [0, 1].\n",
    "# This is optional step for our dataset since there are not many outliers, however, this condenses data even better\n",
    "\n",
    "scaler = MaxAbsScaler()\n",
    "\n",
    "# Fit SS_scaler to the data\n",
    "scaler.fit(df_numeric[['Q_Score','A_Score']])\n",
    "\n",
    "# Transform the data using the fitted scaler\n",
    "df_numeric[['Q_Score_scaled','A_Score_scaled']] = scaler.transform(df_numeric[['Q_Score','A_Score']])\n",
    "\n",
    "# Compare the origional and transformed column\n",
    "print(df_numeric[['Q_Score_scaled','A_Score_scaled']].head(5))"
   ]
  },
  {
   "cell_type": "code",
   "execution_count": 17,
   "id": "rational-integral",
   "metadata": {
    "scrolled": true
   },
   "outputs": [
    {
     "data": {
      "image/png": "[encoded data removed]",
      "text/plain": [
       "<Figure size 720x360 with 2 Axes>"
      ]
     },
     "metadata": {
      "needs_background": "light"
     },
     "output_type": "display_data"
    }
   ],
   "source": [
    "# Create a histogram for the 2 \n",
    "plt.rcParams[\"figure.figsize\"] = (10,5)\n",
    "\n",
    "df_numeric.hist(['Q_Score_scaled','A_Score_scaled'])\n",
    "plt.show()"
   ]
  },
  {
   "cell_type": "code",
   "execution_count": 18,
   "id": "dependent-lightning",
   "metadata": {},
   "outputs": [],
   "source": [
    "# Drop non scaled column\n",
    "#df_numeric.drop(columns=['Q_Score','A_Score'], inplace=True)\n",
    "#df_numeric.head(5)"
   ]
  },
  {
   "cell_type": "code",
   "execution_count": 19,
   "id": "printable-vacation",
   "metadata": {
    "scrolled": true
   },
   "outputs": [
    {
     "data": {
      "text/html": [
       "<div>\n",
       "<style scoped>\n",
       "    .dataframe tbody tr th:only-of-type {\n",
       "        vertical-align: middle;\n",
       "    }\n",
       "\n",
       "    .dataframe tbody tr th {\n",
       "        vertical-align: top;\n",
       "    }\n",
       "\n",
       "    .dataframe thead th {\n",
       "        text-align: right;\n",
       "    }\n",
       "</style>\n",
       "<table border=\"1\" class=\"dataframe\">\n",
       "  <thead>\n",
       "    <tr style=\"text-align: right;\">\n",
       "      <th></th>\n",
       "      <th>Q_Score_scaled</th>\n",
       "      <th>A_Score_scaled</th>\n",
       "    </tr>\n",
       "  </thead>\n",
       "  <tbody>\n",
       "    <tr>\n",
       "      <th>count</th>\n",
       "      <td>1.455901e+06</td>\n",
       "      <td>1.455901e+06</td>\n",
       "    </tr>\n",
       "    <tr>\n",
       "      <th>mean</th>\n",
       "      <td>1.404869e-01</td>\n",
       "      <td>2.077217e-01</td>\n",
       "    </tr>\n",
       "    <tr>\n",
       "      <th>std</th>\n",
       "      <td>2.391823e-01</td>\n",
       "      <td>2.546290e-01</td>\n",
       "    </tr>\n",
       "    <tr>\n",
       "      <th>min</th>\n",
       "      <td>-5.714286e-01</td>\n",
       "      <td>-6.000000e-01</td>\n",
       "    </tr>\n",
       "    <tr>\n",
       "      <th>25%</th>\n",
       "      <td>0.000000e+00</td>\n",
       "      <td>0.000000e+00</td>\n",
       "    </tr>\n",
       "    <tr>\n",
       "      <th>50%</th>\n",
       "      <td>1.428571e-01</td>\n",
       "      <td>2.000000e-01</td>\n",
       "    </tr>\n",
       "    <tr>\n",
       "      <th>75%</th>\n",
       "      <td>2.857143e-01</td>\n",
       "      <td>4.000000e-01</td>\n",
       "    </tr>\n",
       "    <tr>\n",
       "      <th>max</th>\n",
       "      <td>1.000000e+00</td>\n",
       "      <td>1.000000e+00</td>\n",
       "    </tr>\n",
       "  </tbody>\n",
       "</table>\n",
       "</div>"
      ],
      "text/plain": [
       "       Q_Score_scaled  A_Score_scaled\n",
       "count    1.455901e+06    1.455901e+06\n",
       "mean     1.404869e-01    2.077217e-01\n",
       "std      2.391823e-01    2.546290e-01\n",
       "min     -5.714286e-01   -6.000000e-01\n",
       "25%      0.000000e+00    0.000000e+00\n",
       "50%      1.428571e-01    2.000000e-01\n",
       "75%      2.857143e-01    4.000000e-01\n",
       "max      1.000000e+00    1.000000e+00"
      ]
     },
     "execution_count": 19,
     "metadata": {},
     "output_type": "execute_result"
    }
   ],
   "source": [
    "df_numeric[['Q_Score_scaled','A_Score_scaled']].describe()"
   ]
  },
  {
   "cell_type": "code",
   "execution_count": 20,
   "id": "private-stadium",
   "metadata": {},
   "outputs": [
    {
     "data": {
      "text/html": [
       "<div>\n",
       "<style scoped>\n",
       "    .dataframe tbody tr th:only-of-type {\n",
       "        vertical-align: middle;\n",
       "    }\n",
       "\n",
       "    .dataframe tbody tr th {\n",
       "        vertical-align: top;\n",
       "    }\n",
       "\n",
       "    .dataframe thead th {\n",
       "        text-align: right;\n",
       "    }\n",
       "</style>\n",
       "<table border=\"1\" class=\"dataframe\">\n",
       "  <thead>\n",
       "    <tr style=\"text-align: right;\">\n",
       "      <th></th>\n",
       "      <th>Title</th>\n",
       "      <th>Q_Body</th>\n",
       "      <th>Tag</th>\n",
       "      <th>A_Body</th>\n",
       "      <th>Unnamed: 0</th>\n",
       "      <th>Q_Score</th>\n",
       "      <th>A_Score</th>\n",
       "      <th>Id</th>\n",
       "      <th>Q_Score_scaled</th>\n",
       "      <th>A_Score_scaled</th>\n",
       "    </tr>\n",
       "  </thead>\n",
       "  <tbody>\n",
       "    <tr>\n",
       "      <th>0</th>\n",
       "      <td>data verifications gettersetter elsewher</td>\n",
       "      <td>pim wonder good idea make stronggettersstrong ...</td>\n",
       "      <td>optimization, setter, getter, verification</td>\n",
       "      <td>valid captur separ getter setter valid method ...</td>\n",
       "      <td>0</td>\n",
       "      <td>7</td>\n",
       "      <td>1</td>\n",
       "      <td>2750</td>\n",
       "      <td>1.0</td>\n",
       "      <td>0.2</td>\n",
       "    </tr>\n",
       "    <tr>\n",
       "      <th>1</th>\n",
       "      <td>data verifications gettersetter elsewher</td>\n",
       "      <td>pim wonder good idea make stronggettersstrong ...</td>\n",
       "      <td>optimization, setter, getter, verification</td>\n",
       "      <td>perspect maintain code think much valid setter...</td>\n",
       "      <td>1</td>\n",
       "      <td>7</td>\n",
       "      <td>3</td>\n",
       "      <td>2750</td>\n",
       "      <td>1.0</td>\n",
       "      <td>0.6</td>\n",
       "    </tr>\n",
       "    <tr>\n",
       "      <th>2</th>\n",
       "      <td>data verifications gettersetter elsewher</td>\n",
       "      <td>pim wonder good idea make stronggettersstrong ...</td>\n",
       "      <td>optimization, setter, getter, verification</td>\n",
       "      <td>depend gener code fail fast valu set multipl p...</td>\n",
       "      <td>2</td>\n",
       "      <td>7</td>\n",
       "      <td>3</td>\n",
       "      <td>2750</td>\n",
       "      <td>1.0</td>\n",
       "      <td>0.6</td>\n",
       "    </tr>\n",
       "    <tr>\n",
       "      <th>3</th>\n",
       "      <td>data verifications gettersetter elsewher</td>\n",
       "      <td>pim wonder good idea make stronggettersstrong ...</td>\n",
       "      <td>optimization, setter, getter, verification</td>\n",
       "      <td>might wanna check domain driven design eric ev...</td>\n",
       "      <td>3</td>\n",
       "      <td>7</td>\n",
       "      <td>1</td>\n",
       "      <td>2750</td>\n",
       "      <td>1.0</td>\n",
       "      <td>0.2</td>\n",
       "    </tr>\n",
       "    <tr>\n",
       "      <th>4</th>\n",
       "      <td>data verifications gettersetter elsewher</td>\n",
       "      <td>pim wonder good idea make stronggettersstrong ...</td>\n",
       "      <td>optimization, setter, getter, verification</td>\n",
       "      <td>like implement idataerrorinfo put valid logic ...</td>\n",
       "      <td>4</td>\n",
       "      <td>7</td>\n",
       "      <td>1</td>\n",
       "      <td>2750</td>\n",
       "      <td>1.0</td>\n",
       "      <td>0.2</td>\n",
       "    </tr>\n",
       "  </tbody>\n",
       "</table>\n",
       "</div>"
      ],
      "text/plain": [
       "                                      Title  \\\n",
       "0  data verifications gettersetter elsewher   \n",
       "1  data verifications gettersetter elsewher   \n",
       "2  data verifications gettersetter elsewher   \n",
       "3  data verifications gettersetter elsewher   \n",
       "4  data verifications gettersetter elsewher   \n",
       "\n",
       "                                              Q_Body  \\\n",
       "0  pim wonder good idea make stronggettersstrong ...   \n",
       "1  pim wonder good idea make stronggettersstrong ...   \n",
       "2  pim wonder good idea make stronggettersstrong ...   \n",
       "3  pim wonder good idea make stronggettersstrong ...   \n",
       "4  pim wonder good idea make stronggettersstrong ...   \n",
       "\n",
       "                                          Tag  \\\n",
       "0  optimization, setter, getter, verification   \n",
       "1  optimization, setter, getter, verification   \n",
       "2  optimization, setter, getter, verification   \n",
       "3  optimization, setter, getter, verification   \n",
       "4  optimization, setter, getter, verification   \n",
       "\n",
       "                                              A_Body  Unnamed: 0  Q_Score  \\\n",
       "0  valid captur separ getter setter valid method ...           0        7   \n",
       "1  perspect maintain code think much valid setter...           1        7   \n",
       "2  depend gener code fail fast valu set multipl p...           2        7   \n",
       "3  might wanna check domain driven design eric ev...           3        7   \n",
       "4  like implement idataerrorinfo put valid logic ...           4        7   \n",
       "\n",
       "   A_Score    Id  Q_Score_scaled  A_Score_scaled  \n",
       "0        1  2750             1.0             0.2  \n",
       "1        3  2750             1.0             0.6  \n",
       "2        3  2750             1.0             0.6  \n",
       "3        1  2750             1.0             0.2  \n",
       "4        1  2750             1.0             0.2  "
      ]
     },
     "execution_count": 20,
     "metadata": {},
     "output_type": "execute_result"
    }
   ],
   "source": [
    "df_numeric_scaled = pd.concat([df_categorical, df_numeric], axis=1, sort=False)\n",
    "df_numeric_scaled.head(5)"
   ]
  },
  {
   "cell_type": "code",
   "execution_count": 21,
   "id": "urban-intervention",
   "metadata": {},
   "outputs": [
    {
     "name": "stdout",
     "output_type": "stream",
     "text": [
      "<class 'pandas.core.frame.DataFrame'>\n",
      "RangeIndex: 1455901 entries, 0 to 1455900\n",
      "Data columns (total 10 columns):\n",
      " #   Column          Non-Null Count    Dtype  \n",
      "---  ------          --------------    -----  \n",
      " 0   Title           1455901 non-null  object \n",
      " 1   Q_Body          1455901 non-null  object \n",
      " 2   Tag             1455898 non-null  object \n",
      " 3   A_Body          1455901 non-null  object \n",
      " 4   Unnamed: 0      1455901 non-null  int64  \n",
      " 5   Q_Score         1455901 non-null  int64  \n",
      " 6   A_Score         1455901 non-null  int64  \n",
      " 7   Id              1455901 non-null  int64  \n",
      " 8   Q_Score_scaled  1455901 non-null  float64\n",
      " 9   A_Score_scaled  1455901 non-null  float64\n",
      "dtypes: float64(2), int64(4), object(4)\n",
      "memory usage: 111.1+ MB\n"
     ]
    }
   ],
   "source": [
    "df_numeric_scaled.info()"
   ]
  },
  {
   "cell_type": "code",
   "execution_count": 22,
   "id": "peaceful-literature",
   "metadata": {
    "scrolled": true
   },
   "outputs": [
    {
     "name": "stdout",
     "output_type": "stream",
     "text": [
      "                                              Q_Body  \\\n",
      "0  pim wonder good idea make stronggettersstrong ...   \n",
      "1  pim wonder good idea make stronggettersstrong ...   \n",
      "\n",
      "                                          Tag  \n",
      "0  optimization, setter, getter, verification  \n",
      "1  optimization, setter, getter, verification  \n"
     ]
    }
   ],
   "source": [
    "df_question = df_numeric_scaled.drop(columns=['Title', 'A_Body', 'Unnamed: 0', 'Id', 'Q_Score_scaled','A_Score_scaled','Q_Score','A_Score'])\n",
    "print(df_question.head(2))"
   ]
  },
  {
   "cell_type": "markdown",
   "id": "conservative-friendly",
   "metadata": {},
   "source": [
    "#### 2. Split ```Tag``` column into multiple columns delimited by ```,```"
   ]
  },
  {
   "cell_type": "code",
   "execution_count": 23,
   "id": "spare-brook",
   "metadata": {},
   "outputs": [],
   "source": [
    "df_question_tag_split = df_question['Tag'].str.split(',').apply(pd.Series)"
   ]
  },
  {
   "cell_type": "code",
   "execution_count": 24,
   "id": "finite-tampa",
   "metadata": {},
   "outputs": [
    {
     "data": {
      "text/html": [
       "<div>\n",
       "<style scoped>\n",
       "    .dataframe tbody tr th:only-of-type {\n",
       "        vertical-align: middle;\n",
       "    }\n",
       "\n",
       "    .dataframe tbody tr th {\n",
       "        vertical-align: top;\n",
       "    }\n",
       "\n",
       "    .dataframe thead th {\n",
       "        text-align: right;\n",
       "    }\n",
       "</style>\n",
       "<table border=\"1\" class=\"dataframe\">\n",
       "  <thead>\n",
       "    <tr style=\"text-align: right;\">\n",
       "      <th></th>\n",
       "      <th>0</th>\n",
       "      <th>1</th>\n",
       "      <th>2</th>\n",
       "      <th>3</th>\n",
       "      <th>4</th>\n",
       "    </tr>\n",
       "  </thead>\n",
       "  <tbody>\n",
       "    <tr>\n",
       "      <th>0</th>\n",
       "      <td>optimization</td>\n",
       "      <td>setter</td>\n",
       "      <td>getter</td>\n",
       "      <td>verification</td>\n",
       "      <td>0</td>\n",
       "    </tr>\n",
       "    <tr>\n",
       "      <th>7</th>\n",
       "      <td>windows</td>\n",
       "      <td>64bit</td>\n",
       "      <td>wmi</td>\n",
       "      <td>0</td>\n",
       "      <td>0</td>\n",
       "    </tr>\n",
       "  </tbody>\n",
       "</table>\n",
       "</div>"
      ],
      "text/plain": [
       "              0        1        2              3  4\n",
       "0  optimization   setter   getter   verification  0\n",
       "7       windows    64bit      wmi              0  0"
      ]
     },
     "execution_count": 24,
     "metadata": {},
     "output_type": "execute_result"
    }
   ],
   "source": [
    "df_question_tags = df_question_tag_split.replace(np.nan,0).drop_duplicates()\n",
    "df_question_tags.head(2)"
   ]
  },
  {
   "cell_type": "code",
   "execution_count": 25,
   "id": "soviet-copper",
   "metadata": {},
   "outputs": [],
   "source": [
    "#top_20_tags = df_question_tag['Tag'].value_counts().head(20)\n",
    "#top_20_list = [top_20_tags]\n",
    "#top_20_tags = ['java','javascript, jquery','android', 'javascript', 'php', 'python', 'jquery', 'c#', 'php, mysql', \n",
    "#               'c', 'javascript, jquery, html', 'javascript, jquery, html, css', 'mysql, sql', 'r', 'java, android', \n",
    "#               'sql, sql-server', 'javascript, html']\n",
    "               \n",
    "#df_tag_top_20 = df_question_tag.loc[df_question_tag['Tag'].isin(top_20_tags)]\n",
    "#question_top_20 = df_question_tag[df_question_tag['Tag'].isin(top_20_tags)]\n",
    "#question_top_20_tag = question_top_20['Q_Body']\n",
    "#print(question_top_20_tag.shape[0], df_tag_top_20.shape[0])"
   ]
  },
  {
   "cell_type": "code",
   "execution_count": 26,
   "id": "exclusive-search",
   "metadata": {},
   "outputs": [
    {
     "name": "stdout",
     "output_type": "stream",
     "text": [
      "511629 1455901\n"
     ]
    }
   ],
   "source": [
    "print(df_question_tags.shape[0], df_question.shape[0])"
   ]
  },
  {
   "cell_type": "code",
   "execution_count": 27,
   "id": "known-juice",
   "metadata": {},
   "outputs": [
    {
     "data": {
      "text/plain": [
       "1455901"
      ]
     },
     "execution_count": 27,
     "metadata": {},
     "output_type": "execute_result"
    }
   ],
   "source": [
    "df_merged = pd.concat([df_question, df_question_tags], axis = 1, sort=False)\n",
    "df_merged.shape[0]"
   ]
  },
  {
   "cell_type": "code",
   "execution_count": 28,
   "id": "extra-sterling",
   "metadata": {},
   "outputs": [
    {
     "data": {
      "text/plain": [
       "511628"
      ]
     },
     "execution_count": 28,
     "metadata": {},
     "output_type": "execute_result"
    }
   ],
   "source": [
    "df_merged = df_merged.drop_duplicates().dropna()\n",
    "df_merged.shape[0]"
   ]
  },
  {
   "cell_type": "code",
   "execution_count": 29,
   "id": "swedish-knock",
   "metadata": {},
   "outputs": [
    {
     "name": "stdout",
     "output_type": "stream",
     "text": [
      "511628                                               Q_Body          Tag1     Tag2  \\\n",
      "0  pim wonder good idea make stronggettersstrong ...  optimization   setter   \n",
      "7  pive work project access wmi get inform softwa...       windows    64bit   \n",
      "\n",
      "      Tag3           Tag4 Tag5  \n",
      "0   getter   verification    0  \n",
      "7      wmi              0    0  \n"
     ]
    }
   ],
   "source": [
    "df_merged = df_merged.rename(columns={0:'Tag1',1:'Tag2',2:'Tag3',3:'Tag4',4:'Tag5'}).drop(columns={'Tag'})\n",
    "print(df_merged.shape[0], df_merged.head(2))"
   ]
  },
  {
   "cell_type": "markdown",
   "id": "transsexual-computer",
   "metadata": {},
   "source": [
    "#### 3. Perform TFIDF on categorical features to fit and transform data"
   ]
  },
  {
   "cell_type": "markdown",
   "id": "behavioral-finance",
   "metadata": {},
   "source": [
    "- We also want a measure of how unique a word is i.e. how infrequently the word occurs across all documents (inverse document frequency or idf). So, the product of tf & idf (TF-IDF) of a word gives a product of how frequent this word is in the document multiplied by how unique the word is w.r.t. the entire corpus of documents.\n",
    "- Words in the document with a high tfidf score occur frequently in the document and provide the most information about that specific document."
   ]
  },
  {
   "cell_type": "markdown",
   "id": "infectious-closure",
   "metadata": {},
   "source": [
    "**TFIDF on** \n",
    "- Question body and Tags\n",
    "- Answer body and Scores (Not scope of this notebook)\n",
    "\n",
    "Furthermore, create dataframes with the vectorized values before performing modeling"
   ]
  },
  {
   "cell_type": "code",
   "execution_count": 30,
   "id": "smart-scenario",
   "metadata": {
    "scrolled": false
   },
   "outputs": [],
   "source": [
    "from sklearn.model_selection import train_test_split\n",
    "from sklearn.feature_extraction.text import TfidfVectorizer\n",
    "\n",
    "#vectorizer = TfidfVectorizer(strip_accents='unicode', analyzer='word', ngram_range=(1,3), norm='l2')\n",
    "vectorizer = TfidfVectorizer(max_features=200, ngram_range=(1, 1), stop_words = 'english')"
   ]
  },
  {
   "cell_type": "code",
   "execution_count": 31,
   "id": "destroyed-provider",
   "metadata": {},
   "outputs": [
    {
     "name": "stdout",
     "output_type": "stream",
     "text": [
      "         10  abl    access       ad       add       amp  anoth     anyon  app  \\\n",
      "0  0.000000  0.0  0.000000  0.00000  0.000000  0.000000    0.0  0.000000  0.0   \n",
      "1  0.134065  0.0  0.124256  0.00000  0.000000  0.000000    0.0  0.000000  0.0   \n",
      "2  0.000000  0.0  0.000000  0.00000  0.000000  0.000000    0.0  0.271155  0.0   \n",
      "3  0.000000  0.0  0.000000  0.00000  0.000000  0.250347    0.0  0.000000  0.0   \n",
      "4  0.000000  0.0  0.000000  0.33942  0.123464  0.000000    0.0  0.000000  0.0   \n",
      "\n",
      "     applic  ...  variabl   version      view  void      want  way  web  \\\n",
      "0  0.000000  ...      0.0  0.000000  0.000000   0.0  0.000000  0.0  0.0   \n",
      "1  0.000000  ...      0.0  0.386785  0.000000   0.0  0.075587  0.0  0.0   \n",
      "2  0.000000  ...      0.0  0.000000  0.563634   0.0  0.000000  0.0  0.0   \n",
      "3  0.175741  ...      0.0  0.000000  0.000000   0.0  0.000000  0.0  0.0   \n",
      "4  0.000000  ...      0.0  0.000000  0.000000   0.0  0.169048  0.0  0.0   \n",
      "\n",
      "     window      work  write  \n",
      "0  0.000000  0.000000    0.0  \n",
      "1  0.376922  0.219904    0.0  \n",
      "2  0.000000  0.000000    0.0  \n",
      "3  0.000000  0.000000    0.0  \n",
      "4  0.000000  0.040984    0.0  \n",
      "\n",
      "[5 rows x 200 columns]\n"
     ]
    }
   ],
   "source": [
    "tfidf_question= vectorizer.fit_transform(df_merged['Q_Body'])\n",
    "\n",
    "# Create a DataFrame with these features\n",
    "tv_df_question = pd.DataFrame(tfidf_question.toarray(), \n",
    "                     columns=vectorizer.get_feature_names())\n",
    "\n",
    "print(tv_df_question.head(5))"
   ]
  },
  {
   "cell_type": "code",
   "execution_count": 32,
   "id": "worth-miami",
   "metadata": {},
   "outputs": [
    {
     "name": "stdout",
     "output_type": "stream",
     "text": [
      "make       0.503336\n",
      "code       0.389381\n",
      "databas    0.321536\n",
      "think      0.319719\n",
      "idea       0.318799\n",
      "Name: 0, dtype: float64\n"
     ]
    }
   ],
   "source": [
    "sample_row = tv_df_question.iloc[0]\n",
    "\n",
    "# Print the top 5 words of the sorted output\n",
    "print(sample_row.sort_values(ascending=False).head(5))"
   ]
  },
  {
   "cell_type": "code",
   "execution_count": 33,
   "id": "civilian-evolution",
   "metadata": {},
   "outputs": [
    {
     "data": {
      "text/html": [
       "<div>\n",
       "<style scoped>\n",
       "    .dataframe tbody tr th:only-of-type {\n",
       "        vertical-align: middle;\n",
       "    }\n",
       "\n",
       "    .dataframe tbody tr th {\n",
       "        vertical-align: top;\n",
       "    }\n",
       "\n",
       "    .dataframe thead th {\n",
       "        text-align: right;\n",
       "    }\n",
       "</style>\n",
       "<table border=\"1\" class=\"dataframe\">\n",
       "  <thead>\n",
       "    <tr style=\"text-align: right;\">\n",
       "      <th></th>\n",
       "      <th>10</th>\n",
       "      <th>abl</th>\n",
       "      <th>access</th>\n",
       "      <th>ad</th>\n",
       "      <th>add</th>\n",
       "      <th>amp</th>\n",
       "      <th>anoth</th>\n",
       "      <th>anyon</th>\n",
       "      <th>app</th>\n",
       "      <th>applic</th>\n",
       "      <th>...</th>\n",
       "      <th>web</th>\n",
       "      <th>window</th>\n",
       "      <th>work</th>\n",
       "      <th>write</th>\n",
       "      <th>Q_Body</th>\n",
       "      <th>Tag1</th>\n",
       "      <th>Tag2</th>\n",
       "      <th>Tag3</th>\n",
       "      <th>Tag4</th>\n",
       "      <th>Tag5</th>\n",
       "    </tr>\n",
       "  </thead>\n",
       "  <tbody>\n",
       "    <tr>\n",
       "      <th>0</th>\n",
       "      <td>0.000000</td>\n",
       "      <td>0.0</td>\n",
       "      <td>0.000000</td>\n",
       "      <td>0.0</td>\n",
       "      <td>0.0</td>\n",
       "      <td>0.0</td>\n",
       "      <td>0.0</td>\n",
       "      <td>0.0</td>\n",
       "      <td>0.0</td>\n",
       "      <td>0.0</td>\n",
       "      <td>...</td>\n",
       "      <td>0.0</td>\n",
       "      <td>0.000000</td>\n",
       "      <td>0.000000</td>\n",
       "      <td>0.0</td>\n",
       "      <td>pim wonder good idea make stronggettersstrong ...</td>\n",
       "      <td>optimization</td>\n",
       "      <td>setter</td>\n",
       "      <td>getter</td>\n",
       "      <td>verification</td>\n",
       "      <td>0</td>\n",
       "    </tr>\n",
       "    <tr>\n",
       "      <th>1</th>\n",
       "      <td>0.134065</td>\n",
       "      <td>0.0</td>\n",
       "      <td>0.124256</td>\n",
       "      <td>0.0</td>\n",
       "      <td>0.0</td>\n",
       "      <td>0.0</td>\n",
       "      <td>0.0</td>\n",
       "      <td>0.0</td>\n",
       "      <td>0.0</td>\n",
       "      <td>0.0</td>\n",
       "      <td>...</td>\n",
       "      <td>0.0</td>\n",
       "      <td>0.376922</td>\n",
       "      <td>0.219904</td>\n",
       "      <td>0.0</td>\n",
       "      <td>NaN</td>\n",
       "      <td>NaN</td>\n",
       "      <td>NaN</td>\n",
       "      <td>NaN</td>\n",
       "      <td>NaN</td>\n",
       "      <td>NaN</td>\n",
       "    </tr>\n",
       "  </tbody>\n",
       "</table>\n",
       "<p>2 rows × 206 columns</p>\n",
       "</div>"
      ],
      "text/plain": [
       "         10  abl    access   ad  add  amp  anoth  anyon  app  applic  ...  \\\n",
       "0  0.000000  0.0  0.000000  0.0  0.0  0.0    0.0    0.0  0.0     0.0  ...   \n",
       "1  0.134065  0.0  0.124256  0.0  0.0  0.0    0.0    0.0  0.0     0.0  ...   \n",
       "\n",
       "   web    window      work  write  \\\n",
       "0  0.0  0.000000  0.000000    0.0   \n",
       "1  0.0  0.376922  0.219904    0.0   \n",
       "\n",
       "                                              Q_Body          Tag1     Tag2  \\\n",
       "0  pim wonder good idea make stronggettersstrong ...  optimization   setter   \n",
       "1                                                NaN           NaN      NaN   \n",
       "\n",
       "      Tag3           Tag4  Tag5  \n",
       "0   getter   verification     0  \n",
       "1      NaN            NaN   NaN  \n",
       "\n",
       "[2 rows x 206 columns]"
      ]
     },
     "execution_count": 33,
     "metadata": {},
     "output_type": "execute_result"
    }
   ],
   "source": [
    "df_final = pd.concat([tv_df_question, df_merged], axis = 1, sort=False)\n",
    "df_final.head(2)"
   ]
  },
  {
   "cell_type": "code",
   "execution_count": 34,
   "id": "endangered-hindu",
   "metadata": {},
   "outputs": [
    {
     "name": "stdout",
     "output_type": "stream",
     "text": [
      "842097          10  abl    access   ad  add       amp  anoth     anyon  app  \\\n",
      "0  0.000000  0.0  0.000000  0.0  0.0  0.000000    0.0  0.000000  0.0   \n",
      "1  0.134065  0.0  0.124256  0.0  0.0  0.000000    0.0  0.000000  0.0   \n",
      "2  0.000000  0.0  0.000000  0.0  0.0  0.000000    0.0  0.271155  0.0   \n",
      "3  0.000000  0.0  0.000000  0.0  0.0  0.250347    0.0  0.000000  0.0   \n",
      "\n",
      "     applic  ...  way  web    window      work  write          Tag1     Tag2  \\\n",
      "0  0.000000  ...  0.0  0.0  0.000000  0.000000    0.0  optimization   setter   \n",
      "1  0.000000  ...  0.0  0.0  0.376922  0.219904    0.0           NaN      NaN   \n",
      "2  0.000000  ...  0.0  0.0  0.000000  0.000000    0.0           NaN      NaN   \n",
      "3  0.175741  ...  0.0  0.0  0.000000  0.000000    0.0           NaN      NaN   \n",
      "\n",
      "      Tag3           Tag4  Tag5  \n",
      "0   getter   verification     0  \n",
      "1      NaN            NaN   NaN  \n",
      "2      NaN            NaN   NaN  \n",
      "3      NaN            NaN   NaN  \n",
      "\n",
      "[4 rows x 205 columns]\n"
     ]
    }
   ],
   "source": [
    "df_final = df_final.drop(columns={'Q_Body'})\n",
    "print(df_final.shape[0], df_final.head(4))"
   ]
  },
  {
   "cell_type": "code",
   "execution_count": 35,
   "id": "toxic-thumb",
   "metadata": {},
   "outputs": [
    {
     "name": "stdout",
     "output_type": "stream",
     "text": [
      "181159      10  abl  access   ad       add  amp  anoth  anyon  app    applic  ...  \\\n",
      "0   0.0  0.0     0.0  0.0  0.000000  0.0    0.0    0.0  0.0  0.000000  ...   \n",
      "7   0.0  0.0     0.0  0.0  0.134123  0.0    0.0    0.0  0.0  0.000000  ...   \n",
      "9   0.0  0.0     0.0  0.0  0.000000  0.0    0.0    0.0  0.0  0.227786  ...   \n",
      "13  0.0  0.0     0.0  0.0  0.000000  0.0    0.0    0.0  0.0  0.000000  ...   \n",
      "\n",
      "    way  web    window  work    write          Tag1                   Tag2  \\\n",
      "0   0.0  0.0  0.000000   0.0  0.00000  optimization                 setter   \n",
      "7   0.0  0.0  0.000000   0.0  0.00000       windows                  64bit   \n",
      "9   0.0  0.0  0.000000   0.0  0.51629           sql             sql-server   \n",
      "13  0.0  0.0  0.732616   0.0  0.00000       asp.net   business-logic-layer   \n",
      "\n",
      "                 Tag3           Tag4  Tag5  \n",
      "0              getter   verification     0  \n",
      "7                 wmi              0     0  \n",
      "9            database        diagram     0  \n",
      "13   objectdatasource              0     0  \n",
      "\n",
      "[4 rows x 205 columns]\n"
     ]
    }
   ],
   "source": [
    "df_final = df_final.dropna()\n",
    "print(df_final.shape[0], df_final.head(4))"
   ]
  },
  {
   "cell_type": "code",
   "execution_count": 36,
   "id": "spiritual-republican",
   "metadata": {},
   "outputs": [
    {
     "data": {
      "text/plain": [
       "10        float64\n",
       "abl       float64\n",
       "access    float64\n",
       "ad        float64\n",
       "add       float64\n",
       "           ...   \n",
       "Tag1       object\n",
       "Tag2       object\n",
       "Tag3       object\n",
       "Tag4       object\n",
       "Tag5       object\n",
       "Length: 205, dtype: object"
      ]
     },
     "execution_count": 36,
     "metadata": {},
     "output_type": "execute_result"
    }
   ],
   "source": [
    "df_final.dtypes"
   ]
  },
  {
   "cell_type": "markdown",
   "id": "sudden-chrome",
   "metadata": {},
   "source": [
    "#### 4. Convert categorical variables into numeric variables"
   ]
  },
  {
   "cell_type": "code",
   "execution_count": 37,
   "id": "understanding-audience",
   "metadata": {},
   "outputs": [
    {
     "name": "stdout",
     "output_type": "stream",
     "text": [
      "c#            18329\n",
      "java          15608\n",
      "php           12673\n",
      "javascript    10157\n",
      "c++            7666\n",
      "Name: Tag1, dtype: int64  jquery     3772\n",
      " .net       3705\n",
      " asp.net    2723\n",
      "0           2598\n",
      " html       2441\n",
      "Name: Tag2, dtype: int64 0        30219\n",
      " html      966\n",
      " ios       827\n",
      " ajax      728\n",
      " css       683\n",
      "Name: Tag3, dtype: int64 0        93765\n",
      " json      205\n",
      " ajax      186\n",
      " ipad      169\n",
      " css       165\n",
      "Name: Tag4, dtype: int64 0                  148171\n",
      " cordova               41\n",
      " post                  35\n",
      " drop-down-menu        35\n",
      " css3                  35\n",
      "Name: Tag5, dtype: int64\n"
     ]
    }
   ],
   "source": [
    "print(df_final['Tag1'].value_counts().head(5), df_final['Tag2'].value_counts().head(5), \n",
    "      df_final['Tag3'].value_counts().head(5), df_final['Tag4'].value_counts().head(5), \n",
    "      df_final['Tag5'].value_counts().head(5))"
   ]
  },
  {
   "cell_type": "markdown",
   "id": "colored-sample",
   "metadata": {},
   "source": [
    "**Apply one hot encoding using ```get_dummies```**"
   ]
  },
  {
   "cell_type": "code",
   "execution_count": 38,
   "id": "chicken-rescue",
   "metadata": {},
   "outputs": [
    {
     "name": "stdout",
     "output_type": "stream",
     "text": [
      "    10  abl  access   ad       add  amp  anoth  anyon  app  applic  ...  way  \\\n",
      "0  0.0  0.0     0.0  0.0  0.000000  0.0    0.0    0.0  0.0     0.0  ...  0.0   \n",
      "7  0.0  0.0     0.0  0.0  0.134123  0.0    0.0    0.0  0.0     0.0  ...  0.0   \n",
      "\n",
      "   web  window  work  write   Tag1   Tag2   Tag3   Tag4   Tag5  \n",
      "0  0.0     0.0   0.0    0.0  False  False  False  False  False  \n",
      "7  0.0     0.0   0.0    0.0  False  False  False  False  False  \n",
      "\n",
      "[2 rows x 205 columns] 181159\n"
     ]
    }
   ],
   "source": [
    "# Pick top 10 tags and apply one hot encoding on the dataframe to assign true/ false based on top 10 tag being found or not \n",
    "# for every questions across dataframe\n",
    "# drop_first=True is important to use, as it helps in reducing the extra column created during dummy variable creation. \n",
    "# which reduces the correlations created among dummy variables.\n",
    "\n",
    "tags = ['c#','java','php','javascript','c++','.net','asp.net','html','ios','ajax']\n",
    "df_tag = df_final[['Tag1','Tag2','Tag3','Tag4','Tag5']]\n",
    "final_top_10_tags= pd.get_dummies(df_tag.isin(tags), drop_first=True)\n",
    "\n",
    "df_ques = df_final.drop(['Tag1','Tag2','Tag3','Tag4','Tag5'], axis=1)\n",
    "\n",
    "df_final = pd.concat([df_ques, final_top_10_tags], axis=1)\n",
    "print(df_final.head(2), df_final.shape[0])"
   ]
  },
  {
   "cell_type": "code",
   "execution_count": 39,
   "id": "banned-technology",
   "metadata": {},
   "outputs": [
    {
     "data": {
      "text/html": [
       "<div>\n",
       "<style scoped>\n",
       "    .dataframe tbody tr th:only-of-type {\n",
       "        vertical-align: middle;\n",
       "    }\n",
       "\n",
       "    .dataframe tbody tr th {\n",
       "        vertical-align: top;\n",
       "    }\n",
       "\n",
       "    .dataframe thead th {\n",
       "        text-align: right;\n",
       "    }\n",
       "</style>\n",
       "<table border=\"1\" class=\"dataframe\">\n",
       "  <thead>\n",
       "    <tr style=\"text-align: right;\">\n",
       "      <th></th>\n",
       "      <th>10</th>\n",
       "      <th>abl</th>\n",
       "      <th>access</th>\n",
       "      <th>ad</th>\n",
       "      <th>add</th>\n",
       "      <th>amp</th>\n",
       "      <th>anoth</th>\n",
       "      <th>anyon</th>\n",
       "      <th>app</th>\n",
       "      <th>applic</th>\n",
       "      <th>...</th>\n",
       "      <th>way</th>\n",
       "      <th>web</th>\n",
       "      <th>window</th>\n",
       "      <th>work</th>\n",
       "      <th>write</th>\n",
       "      <th>Tag1</th>\n",
       "      <th>Tag2</th>\n",
       "      <th>Tag3</th>\n",
       "      <th>Tag4</th>\n",
       "      <th>Tag5</th>\n",
       "    </tr>\n",
       "  </thead>\n",
       "  <tbody>\n",
       "    <tr>\n",
       "      <th>282058</th>\n",
       "      <td>0.0</td>\n",
       "      <td>0.000000</td>\n",
       "      <td>0.0</td>\n",
       "      <td>0.0</td>\n",
       "      <td>0.0</td>\n",
       "      <td>0.000000</td>\n",
       "      <td>0.0</td>\n",
       "      <td>0.300133</td>\n",
       "      <td>0.0</td>\n",
       "      <td>0.0</td>\n",
       "      <td>...</td>\n",
       "      <td>0.0</td>\n",
       "      <td>0.0</td>\n",
       "      <td>0.000000</td>\n",
       "      <td>0.0</td>\n",
       "      <td>0.0</td>\n",
       "      <td>1</td>\n",
       "      <td>0</td>\n",
       "      <td>0</td>\n",
       "      <td>0</td>\n",
       "      <td>0</td>\n",
       "    </tr>\n",
       "    <tr>\n",
       "      <th>41228</th>\n",
       "      <td>0.0</td>\n",
       "      <td>0.148285</td>\n",
       "      <td>0.0</td>\n",
       "      <td>0.0</td>\n",
       "      <td>0.0</td>\n",
       "      <td>0.192761</td>\n",
       "      <td>0.0</td>\n",
       "      <td>0.000000</td>\n",
       "      <td>0.0</td>\n",
       "      <td>0.0</td>\n",
       "      <td>...</td>\n",
       "      <td>0.0</td>\n",
       "      <td>0.0</td>\n",
       "      <td>0.160851</td>\n",
       "      <td>0.0</td>\n",
       "      <td>0.0</td>\n",
       "      <td>0</td>\n",
       "      <td>0</td>\n",
       "      <td>0</td>\n",
       "      <td>0</td>\n",
       "      <td>0</td>\n",
       "    </tr>\n",
       "  </tbody>\n",
       "</table>\n",
       "<p>2 rows × 205 columns</p>\n",
       "</div>"
      ],
      "text/plain": [
       "         10       abl  access   ad  add       amp  anoth     anyon  app  \\\n",
       "282058  0.0  0.000000     0.0  0.0  0.0  0.000000    0.0  0.300133  0.0   \n",
       "41228   0.0  0.148285     0.0  0.0  0.0  0.192761    0.0  0.000000  0.0   \n",
       "\n",
       "        applic  ...  way  web    window  work  write  Tag1  Tag2  Tag3  Tag4  \\\n",
       "282058     0.0  ...  0.0  0.0  0.000000   0.0    0.0     1     0     0     0   \n",
       "41228      0.0  ...  0.0  0.0  0.160851   0.0    0.0     0     0     0     0   \n",
       "\n",
       "        Tag5  \n",
       "282058     0  \n",
       "41228      0  \n",
       "\n",
       "[2 rows x 205 columns]"
      ]
     },
     "execution_count": 39,
     "metadata": {},
     "output_type": "execute_result"
    }
   ],
   "source": [
    "df_final[['Tag1','Tag2','Tag3','Tag4','Tag5']] *= 1\n",
    "df_final.sample(2)"
   ]
  },
  {
   "cell_type": "markdown",
   "id": "focal-purse",
   "metadata": {},
   "source": [
    "#### 5. Training data development and Feature Selection"
   ]
  },
  {
   "cell_type": "code",
   "execution_count": 40,
   "id": "colored-furniture",
   "metadata": {},
   "outputs": [],
   "source": [
    "from sklearn.model_selection import train_test_split\n",
    "\n",
    "train_question_df, test_question_df = train_test_split(df_final, test_size=0.3)"
   ]
  },
  {
   "cell_type": "code",
   "execution_count": 41,
   "id": "opposed-extreme",
   "metadata": {},
   "outputs": [
    {
     "name": "stdout",
     "output_type": "stream",
     "text": [
      "126811 54348\n"
     ]
    }
   ],
   "source": [
    "print(train_question_df.shape[0], test_question_df.shape[0])"
   ]
  },
  {
   "cell_type": "code",
   "execution_count": 43,
   "id": "operating-lecture",
   "metadata": {},
   "outputs": [
    {
     "name": "stdout",
     "output_type": "stream",
     "text": [
      "         10  abl  access   ad  add  amp  anoth  anyon  app  applic  ...  \\\n",
      "213883  0.0  0.0     0.0  0.0  0.0  0.0    0.0    0.0  0.0     0.0  ...   \n",
      "423545  0.0  0.0     0.0  0.0  0.0  0.0    0.0    0.0  0.0     0.0  ...   \n",
      "\n",
      "        variabl  version  view      void  want       way  web  window  \\\n",
      "213883      0.0      0.0   0.0  0.106088   0.0  0.081609  0.0     0.0   \n",
      "423545      0.0      0.0   0.0  0.000000   0.0  0.129565  0.0     0.0   \n",
      "\n",
      "            work  write  \n",
      "213883  0.069366    0.0  \n",
      "423545  0.440510    0.0  \n",
      "\n",
      "[2 rows x 200 columns]         Tag1  Tag2  Tag3  Tag4  Tag5\n",
      "213883     1     0     0     0     0\n",
      "423545     1     0     0     0     0\n"
     ]
    }
   ],
   "source": [
    "X_train = train_question_df.loc[:, '10':'write']\n",
    "y_train = train_question_df.loc[:, 'Tag1':'Tag5']\n",
    "print(X_train.head(2), y_train.head(2))"
   ]
  },
  {
   "cell_type": "code",
   "execution_count": 44,
   "id": "mineral-honduras",
   "metadata": {},
   "outputs": [
    {
     "name": "stdout",
     "output_type": "stream",
     "text": [
      "         10       abl  access   ad  add  amp  anoth  anyon  app  applic  ...  \\\n",
      "120972  0.0  0.340075     0.0  0.0  0.0  0.0    0.0    0.0  0.0     0.0  ...   \n",
      "414837  0.0  0.000000     0.0  0.0  0.0  0.0    0.0    0.0  0.0     0.0  ...   \n",
      "\n",
      "        variabl  version  view  void  want  way  web  window  work  write  \n",
      "120972      0.0      0.0   0.0   0.0   0.0  0.0  0.0     0.0   0.0    0.0  \n",
      "414837      0.0      0.0   0.0   0.0   0.0  0.0  0.0     0.0   0.0    0.0  \n",
      "\n",
      "[2 rows x 200 columns]         Tag1  Tag2  Tag3  Tag4  Tag5\n",
      "120972     0     0     0     0     0\n",
      "414837     0     0     0     0     0\n"
     ]
    }
   ],
   "source": [
    "X_test = test_question_df.loc[:, '10':'write']\n",
    "y_test = test_question_df.loc[:, 'Tag1':'Tag5']\n",
    "print(X_test.head(2), y_test.head(2))"
   ]
  },
  {
   "cell_type": "code",
   "execution_count": 45,
   "id": "conservative-brick",
   "metadata": {},
   "outputs": [
    {
     "name": "stdout",
     "output_type": "stream",
     "text": [
      "         10  abl  access   ad  add  amp  anoth  anyon  app  applic  ...  \\\n",
      "213883  0.0  0.0     0.0  0.0  0.0  0.0    0.0    0.0  0.0     0.0  ...   \n",
      "423545  0.0  0.0     0.0  0.0  0.0  0.0    0.0    0.0  0.0     0.0  ...   \n",
      "\n",
      "        variabl  version  view      void  want       way  web  window  \\\n",
      "213883      0.0      0.0   0.0  0.106088   0.0  0.081609  0.0     0.0   \n",
      "423545      0.0      0.0   0.0  0.000000   0.0  0.129565  0.0     0.0   \n",
      "\n",
      "            work  write  \n",
      "213883  0.069366    0.0  \n",
      "423545  0.440510    0.0  \n",
      "\n",
      "[2 rows x 200 columns]         Tag1  Tag2  Tag3  Tag4  Tag5\n",
      "213883     1     0     0     0     0\n",
      "423545     1     0     0     0     0\n"
     ]
    }
   ],
   "source": [
    "print(X_train.head(2), y_train.head(2))"
   ]
  },
  {
   "cell_type": "code",
   "execution_count": 46,
   "id": "frozen-interpretation",
   "metadata": {},
   "outputs": [
    {
     "name": "stdout",
     "output_type": "stream",
     "text": [
      "         10       abl  access   ad  add  amp  anoth  anyon  app  applic  ...  \\\n",
      "120972  0.0  0.340075     0.0  0.0  0.0  0.0    0.0    0.0  0.0     0.0  ...   \n",
      "414837  0.0  0.000000     0.0  0.0  0.0  0.0    0.0    0.0  0.0     0.0  ...   \n",
      "\n",
      "        variabl  version  view  void  want  way  web  window  work  write  \n",
      "120972      0.0      0.0   0.0   0.0   0.0  0.0  0.0     0.0   0.0    0.0  \n",
      "414837      0.0      0.0   0.0   0.0   0.0  0.0  0.0     0.0   0.0    0.0  \n",
      "\n",
      "[2 rows x 200 columns]         Tag1  Tag2  Tag3  Tag4  Tag5\n",
      "120972     0     0     0     0     0\n",
      "414837     0     0     0     0     0\n"
     ]
    }
   ],
   "source": [
    "print(X_test.head(2), y_test.head(2))"
   ]
  },
  {
   "cell_type": "markdown",
   "id": "secondary-silly",
   "metadata": {},
   "source": [
    "## II. Modeling"
   ]
  },
  {
   "cell_type": "markdown",
   "id": "premier-programming",
   "metadata": {},
   "source": [
    "Perform multi label classification modeling on the ```df_final``` dataframe that has Q_Body and Tag columns in order to determine what tag will be classified for a given question based on the body of question posted on Stackoverflow"
   ]
  },
  {
   "cell_type": "markdown",
   "id": "competent-minute",
   "metadata": {},
   "source": [
    "### Multi-Label Classification Techniques\n",
    "Most traditional learning algorithms are developed for single-label classification problems. Therefore a lot of approaches in the literature transform the multi-label problem into multiple single-label problems, so that the existing single-label algorithms can be used."
   ]
  },
  {
   "cell_type": "markdown",
   "id": "consistent-macintosh",
   "metadata": {},
   "source": [
    "- To solve multi-label classification problem, we can decompose it into multiple independent binary classification problems (one per category) using “one-to-rest” strategy, where we will build multiple independent classifiers and, for an unseen instance, choose the class for which the confidence is maximized.\n",
    "- The main assumption here is that the labels are mutually exclusive. You do not consider any underlying correlation between the classes in this method."
   ]
  },
  {
   "cell_type": "markdown",
   "id": "allied-vitamin",
   "metadata": {},
   "source": [
    "#### 1. Import all ML libraries"
   ]
  },
  {
   "cell_type": "code",
   "execution_count": 53,
   "id": "alive-movement",
   "metadata": {},
   "outputs": [],
   "source": [
    "#Import ML models:\n",
    "import time\n",
    "from sklearn.model_selection import train_test_split\n",
    "from sklearn.model_selection import cross_val_score\n",
    "\n",
    "from sklearn.multiclass import OneVsRestClassifier\n",
    "from sklearn.dummy import DummyClassifier\n",
    "from sklearn.linear_model import SGDClassifier\n",
    "from sklearn.naive_bayes import MultinomialNB\n",
    "from sklearn.linear_model import LogisticRegression\n",
    "from sklearn.svm import LinearSVC\n",
    "from sklearn.linear_model import Perceptron\n",
    "from sklearn.linear_model import PassiveAggressiveClassifier\n",
    "from sklearn.neural_network import MLPClassifier\n",
    "\n",
    "\n",
    "from tensorflow.keras.models import Sequential\n",
    "from tensorflow.keras.layers import Dense, Dropout, Activation\n",
    "from tensorflow.keras.optimizers import SGD\n",
    "#from sklearn.neighbors import KNeighborsClassifier\n",
    "#from sklearn.model_selection import learning_curve, GridSearchCV\n",
    "from sklearn.ensemble import RandomForestClassifier, GradientBoostingClassifier\n",
    "#from sklearn.naive_bayes import GaussianNB\n",
    "from sklearn import tree,metrics\n",
    "from sklearn.metrics import accuracy_score, f1_score, recall_score, precision_score, roc_auc_score, precision_recall_fscore_support as score, hamming_loss\n",
    "from sklearn.metrics import plot_confusion_matrix, classification_report, confusion_matrix, roc_curve, auc"
   ]
  },
  {
   "cell_type": "markdown",
   "id": "racial-alberta",
   "metadata": {},
   "source": [
    "#### 2 Apply Deep learning applied model using keras"
   ]
  },
  {
   "cell_type": "code",
   "execution_count": 50,
   "id": "transparent-breach",
   "metadata": {},
   "outputs": [
    {
     "name": "stdout",
     "output_type": "stream",
     "text": [
      "Epoch 1/5\n",
      "126811/126811 [==============================] - 46s 359us/step - loss: 0.5184\n",
      "Epoch 2/5\n",
      "126811/126811 [==============================] - 53s 421us/step - loss: 0.2124\n",
      "Epoch 3/5\n",
      "126811/126811 [==============================] - 53s 422us/step - loss: 0.1533\n",
      "Epoch 4/5\n",
      "126811/126811 [==============================] - 54s 422us/step - loss: 0.1443\n",
      "Epoch 5/5\n",
      "126811/126811 [==============================] - 54s 424us/step - loss: 0.1413\n",
      "====Sigmoid Activation  Model====\n"
     ]
    }
   ],
   "source": [
    "model = Sequential()\n",
    "model.add(Dense(5000, activation='relu', input_dim=X_train.shape[1]))\n",
    "model.add(Dropout(0.1))\n",
    "model.add(Dense(600, activation='relu'))\n",
    "model.add(Dropout(0.1))\n",
    "model.add(Dense(y_train.shape[1], activation='sigmoid'))\n",
    "\n",
    "sgd = SGD(lr=0.01, decay=1e-6, momentum=0.9, nesterov=True)\n",
    "model.compile(loss='binary_crossentropy', optimizer=sgd)\n",
    "\n",
    "model.fit(X_train, y_train, epochs=5, batch_size=2000)\n",
    "\n",
    "y_pred = model.predict(X_test)\n",
    "np.argmax(y_pred, axis=1)\n",
    "# score = compare preds and y_test\n",
    "# Print the model performance from the testing data.\n",
    "print('====Sigmoid Activation  Model====')\n",
    "#print(\"Jacard score: {}\".format(avg_jacard(y_test, y_pred)))\n",
    "#print(\"Hamming loss: {}\".format(hamming_loss(y_pred, y_test)*100))"
   ]
  },
  {
   "cell_type": "markdown",
   "id": "three-detection",
   "metadata": {},
   "source": [
    "#### 3. Apply other multi label classification models"
   ]
  },
  {
   "cell_type": "code",
   "execution_count": 51,
   "id": "worthy-cinema",
   "metadata": {},
   "outputs": [],
   "source": [
    "def avg_jacard(y_true,y_pred):\n",
    "    '''\n",
    "    see https://en.wikipedia.org/wiki/Multi-label_classification#Statistics_and_evaluation_metrics\n",
    "    '''\n",
    "    jacard = np.minimum(y_true,y_pred).sum(axis=1) / np.maximum(y_true,y_pred).sum(axis=1)\n",
    "    \n",
    "    return jacard.mean()*100\n",
    "\n",
    "def print_score(y_pred, clf):\n",
    "    print(\"Clf: \", clf.__class__.__name__)\n",
    "    print(\"Jacard score: {}\".format(avg_jacard(y_test, y_pred)))\n",
    "    print(\"Hamming loss: {}\".format(hamming_loss(y_pred, y_test)*100))\n",
    "    print(\"---\")"
   ]
  },
  {
   "cell_type": "code",
   "execution_count": 54,
   "id": "cognitive-construction",
   "metadata": {},
   "outputs": [
    {
     "name": "stdout",
     "output_type": "stream",
     "text": [
      "DummyClassifier() Classifier\n",
      "Clf:  OneVsRestClassifier\n",
      "Jacard score: 26.642778390297682\n",
      "Hamming loss: 9.793920659453889\n",
      "---\n",
      "Perceptron() Classifier\n",
      "Clf:  OneVsRestClassifier\n",
      "Jacard score: 39.859345738534486\n",
      "Hamming loss: 11.108780451902554\n",
      "---\n",
      "PassiveAggressiveClassifier() Classifier\n",
      "Clf:  OneVsRestClassifier\n",
      "Jacard score: 24.73924286004823\n",
      "Hamming loss: 9.532641495547214\n",
      "---\n",
      "MLPClassifier() Classifier\n",
      "Clf:  OneVsRestClassifier\n",
      "Jacard score: 26.766364440513048\n",
      "Hamming loss: 9.749392801943033\n",
      "---\n",
      "RandomForestClassifier() Classifier\n",
      "Clf:  OneVsRestClassifier\n",
      "Jacard score: 9.403782738884887\n",
      "Hamming loss: 8.795907853094869\n",
      "---\n"
     ]
    }
   ],
   "source": [
    "dummy = DummyClassifier()\n",
    "#sgd = SGDClassifier()\n",
    "#lr = LogisticRegression()\n",
    "#mn = MultinomialNB()\n",
    "#svc = LinearSVC()\n",
    "perceptron = Perceptron()\n",
    "pac = PassiveAggressiveClassifier()\n",
    "mlpc = MLPClassifier()\n",
    "rfc = RandomForestClassifier()\n",
    "\n",
    "for classifier in [dummy, perceptron, pac, mlpc, rfc]:\n",
    "    clf = OneVsRestClassifier(classifier)\n",
    "    clf.fit(X_train, y_train)\n",
    "    y_pred = clf.predict(X_test)\n",
    "    y_pred[y_pred>=0.5] = 1\n",
    "    y_pred[y_pred<0.5] = 0\n",
    "    print(\"{} Classifier\".format(classifier))\n",
    "    print_score(y_pred, clf)"
   ]
  },
  {
   "cell_type": "markdown",
   "id": "nearby-density",
   "metadata": {},
   "source": [
    "#### 4. GridSearch CV on Best classifier - Perceptron "
   ]
  },
  {
   "cell_type": "code",
   "execution_count": 63,
   "id": "suburban-linux",
   "metadata": {
    "scrolled": false
   },
   "outputs": [
    {
     "name": "stdout",
     "output_type": "stream",
     "text": [
      "Fitting 3 folds for each of 36 candidates, totalling 108 fits\n"
     ]
    },
    {
     "name": "stderr",
     "output_type": "stream",
     "text": [
      "[Parallel(n_jobs=-1)]: Using backend LokyBackend with 8 concurrent workers.\n",
      "[Parallel(n_jobs=-1)]: Done  34 tasks      | elapsed:   14.1s\n",
      "[Parallel(n_jobs=-1)]: Done 108 out of 108 | elapsed:   24.6s finished\n"
     ]
    },
    {
     "ename": "ValueError",
     "evalue": "y should be a 1d array, got an array of shape (126811, 5) instead.",
     "output_type": "error",
     "traceback": [
      "\u001b[1;31m---------------------------------------------------------------------------\u001b[0m",
      "\u001b[1;31mValueError\u001b[0m                                Traceback (most recent call last)",
      "\u001b[1;32m<ipython-input-63-abb79c75a83e>\u001b[0m in \u001b[0;36m<module>\u001b[1;34m\u001b[0m\n\u001b[0;32m     10\u001b[0m \u001b[0mgv_perceptron\u001b[0m \u001b[1;33m=\u001b[0m \u001b[0mGridSearchCV\u001b[0m\u001b[1;33m(\u001b[0m\u001b[0mestimator\u001b[0m\u001b[1;33m=\u001b[0m\u001b[0mperceptron\u001b[0m\u001b[1;33m,\u001b[0m \u001b[0mparam_grid\u001b[0m\u001b[1;33m=\u001b[0m\u001b[0mparam_grid\u001b[0m\u001b[1;33m,\u001b[0m \u001b[0mcv\u001b[0m\u001b[1;33m=\u001b[0m\u001b[1;36m3\u001b[0m\u001b[1;33m,\u001b[0m \u001b[0mn_jobs\u001b[0m\u001b[1;33m=\u001b[0m\u001b[1;33m-\u001b[0m\u001b[1;36m1\u001b[0m\u001b[1;33m,\u001b[0m \u001b[0mverbose\u001b[0m\u001b[1;33m=\u001b[0m\u001b[1;36m1\u001b[0m\u001b[1;33m)\u001b[0m\u001b[1;33m\u001b[0m\u001b[1;33m\u001b[0m\u001b[0m\n\u001b[0;32m     11\u001b[0m \u001b[1;33m\u001b[0m\u001b[0m\n\u001b[1;32m---> 12\u001b[1;33m \u001b[0mperc_model\u001b[0m \u001b[1;33m=\u001b[0m \u001b[0mgv_perceptron\u001b[0m\u001b[1;33m.\u001b[0m\u001b[0mfit\u001b[0m\u001b[1;33m(\u001b[0m\u001b[0mX_train\u001b[0m\u001b[1;33m,\u001b[0m \u001b[0my_train\u001b[0m\u001b[1;33m)\u001b[0m\u001b[1;33m\u001b[0m\u001b[1;33m\u001b[0m\u001b[0m\n\u001b[0m\u001b[0;32m     13\u001b[0m \u001b[1;33m\u001b[0m\u001b[0m\n\u001b[0;32m     14\u001b[0m \u001b[0mprint\u001b[0m\u001b[1;33m(\u001b[0m\u001b[0mperc_model\u001b[0m\u001b[1;33m.\u001b[0m\u001b[0mbest_estimator_\u001b[0m\u001b[1;33m)\u001b[0m\u001b[1;33m\u001b[0m\u001b[1;33m\u001b[0m\u001b[0m\n",
      "\u001b[1;32m~\\Anaconda3_2\\lib\\site-packages\\sklearn\\utils\\validation.py\u001b[0m in \u001b[0;36minner_f\u001b[1;34m(*args, **kwargs)\u001b[0m\n\u001b[0;32m     70\u001b[0m                           FutureWarning)\n\u001b[0;32m     71\u001b[0m         \u001b[0mkwargs\u001b[0m\u001b[1;33m.\u001b[0m\u001b[0mupdate\u001b[0m\u001b[1;33m(\u001b[0m\u001b[1;33m{\u001b[0m\u001b[0mk\u001b[0m\u001b[1;33m:\u001b[0m \u001b[0marg\u001b[0m \u001b[1;32mfor\u001b[0m \u001b[0mk\u001b[0m\u001b[1;33m,\u001b[0m \u001b[0marg\u001b[0m \u001b[1;32min\u001b[0m \u001b[0mzip\u001b[0m\u001b[1;33m(\u001b[0m\u001b[0msig\u001b[0m\u001b[1;33m.\u001b[0m\u001b[0mparameters\u001b[0m\u001b[1;33m,\u001b[0m \u001b[0margs\u001b[0m\u001b[1;33m)\u001b[0m\u001b[1;33m}\u001b[0m\u001b[1;33m)\u001b[0m\u001b[1;33m\u001b[0m\u001b[1;33m\u001b[0m\u001b[0m\n\u001b[1;32m---> 72\u001b[1;33m         \u001b[1;32mreturn\u001b[0m \u001b[0mf\u001b[0m\u001b[1;33m(\u001b[0m\u001b[1;33m**\u001b[0m\u001b[0mkwargs\u001b[0m\u001b[1;33m)\u001b[0m\u001b[1;33m\u001b[0m\u001b[1;33m\u001b[0m\u001b[0m\n\u001b[0m\u001b[0;32m     73\u001b[0m     \u001b[1;32mreturn\u001b[0m \u001b[0minner_f\u001b[0m\u001b[1;33m\u001b[0m\u001b[1;33m\u001b[0m\u001b[0m\n\u001b[0;32m     74\u001b[0m \u001b[1;33m\u001b[0m\u001b[0m\n",
      "\u001b[1;32m~\\Anaconda3_2\\lib\\site-packages\\sklearn\\model_selection\\_search.py\u001b[0m in \u001b[0;36mfit\u001b[1;34m(self, X, y, groups, **fit_params)\u001b[0m\n\u001b[0;32m    763\u001b[0m             \u001b[0mrefit_start_time\u001b[0m \u001b[1;33m=\u001b[0m \u001b[0mtime\u001b[0m\u001b[1;33m.\u001b[0m\u001b[0mtime\u001b[0m\u001b[1;33m(\u001b[0m\u001b[1;33m)\u001b[0m\u001b[1;33m\u001b[0m\u001b[1;33m\u001b[0m\u001b[0m\n\u001b[0;32m    764\u001b[0m             \u001b[1;32mif\u001b[0m \u001b[0my\u001b[0m \u001b[1;32mis\u001b[0m \u001b[1;32mnot\u001b[0m \u001b[1;32mNone\u001b[0m\u001b[1;33m:\u001b[0m\u001b[1;33m\u001b[0m\u001b[1;33m\u001b[0m\u001b[0m\n\u001b[1;32m--> 765\u001b[1;33m                 \u001b[0mself\u001b[0m\u001b[1;33m.\u001b[0m\u001b[0mbest_estimator_\u001b[0m\u001b[1;33m.\u001b[0m\u001b[0mfit\u001b[0m\u001b[1;33m(\u001b[0m\u001b[0mX\u001b[0m\u001b[1;33m,\u001b[0m \u001b[0my\u001b[0m\u001b[1;33m,\u001b[0m \u001b[1;33m**\u001b[0m\u001b[0mfit_params\u001b[0m\u001b[1;33m)\u001b[0m\u001b[1;33m\u001b[0m\u001b[1;33m\u001b[0m\u001b[0m\n\u001b[0m\u001b[0;32m    766\u001b[0m             \u001b[1;32melse\u001b[0m\u001b[1;33m:\u001b[0m\u001b[1;33m\u001b[0m\u001b[1;33m\u001b[0m\u001b[0m\n\u001b[0;32m    767\u001b[0m                 \u001b[0mself\u001b[0m\u001b[1;33m.\u001b[0m\u001b[0mbest_estimator_\u001b[0m\u001b[1;33m.\u001b[0m\u001b[0mfit\u001b[0m\u001b[1;33m(\u001b[0m\u001b[0mX\u001b[0m\u001b[1;33m,\u001b[0m \u001b[1;33m**\u001b[0m\u001b[0mfit_params\u001b[0m\u001b[1;33m)\u001b[0m\u001b[1;33m\u001b[0m\u001b[1;33m\u001b[0m\u001b[0m\n",
      "\u001b[1;32m~\\Anaconda3_2\\lib\\site-packages\\sklearn\\linear_model\\_stochastic_gradient.py\u001b[0m in \u001b[0;36mfit\u001b[1;34m(self, X, y, coef_init, intercept_init, sample_weight)\u001b[0m\n\u001b[0;32m    726\u001b[0m                          \u001b[0mloss\u001b[0m\u001b[1;33m=\u001b[0m\u001b[0mself\u001b[0m\u001b[1;33m.\u001b[0m\u001b[0mloss\u001b[0m\u001b[1;33m,\u001b[0m \u001b[0mlearning_rate\u001b[0m\u001b[1;33m=\u001b[0m\u001b[0mself\u001b[0m\u001b[1;33m.\u001b[0m\u001b[0mlearning_rate\u001b[0m\u001b[1;33m,\u001b[0m\u001b[1;33m\u001b[0m\u001b[1;33m\u001b[0m\u001b[0m\n\u001b[0;32m    727\u001b[0m                          \u001b[0mcoef_init\u001b[0m\u001b[1;33m=\u001b[0m\u001b[0mcoef_init\u001b[0m\u001b[1;33m,\u001b[0m \u001b[0mintercept_init\u001b[0m\u001b[1;33m=\u001b[0m\u001b[0mintercept_init\u001b[0m\u001b[1;33m,\u001b[0m\u001b[1;33m\u001b[0m\u001b[1;33m\u001b[0m\u001b[0m\n\u001b[1;32m--> 728\u001b[1;33m                          sample_weight=sample_weight)\n\u001b[0m\u001b[0;32m    729\u001b[0m \u001b[1;33m\u001b[0m\u001b[0m\n\u001b[0;32m    730\u001b[0m \u001b[1;33m\u001b[0m\u001b[0m\n",
      "\u001b[1;32m~\\Anaconda3_2\\lib\\site-packages\\sklearn\\linear_model\\_stochastic_gradient.py\u001b[0m in \u001b[0;36m_fit\u001b[1;34m(self, X, y, alpha, C, loss, learning_rate, coef_init, intercept_init, sample_weight)\u001b[0m\n\u001b[0;32m    539\u001b[0m         X, y = self._validate_data(X, y, accept_sparse='csr',\n\u001b[0;32m    540\u001b[0m                                    \u001b[0mdtype\u001b[0m\u001b[1;33m=\u001b[0m\u001b[0mnp\u001b[0m\u001b[1;33m.\u001b[0m\u001b[0mfloat64\u001b[0m\u001b[1;33m,\u001b[0m \u001b[0morder\u001b[0m\u001b[1;33m=\u001b[0m\u001b[1;34m\"C\"\u001b[0m\u001b[1;33m,\u001b[0m\u001b[1;33m\u001b[0m\u001b[1;33m\u001b[0m\u001b[0m\n\u001b[1;32m--> 541\u001b[1;33m                                    accept_large_sparse=False)\n\u001b[0m\u001b[0;32m    542\u001b[0m \u001b[1;33m\u001b[0m\u001b[0m\n\u001b[0;32m    543\u001b[0m         \u001b[1;31m# labels can be encoded as float, int, or string literals\u001b[0m\u001b[1;33m\u001b[0m\u001b[1;33m\u001b[0m\u001b[1;33m\u001b[0m\u001b[0m\n",
      "\u001b[1;32m~\\Anaconda3_2\\lib\\site-packages\\sklearn\\base.py\u001b[0m in \u001b[0;36m_validate_data\u001b[1;34m(self, X, y, reset, validate_separately, **check_params)\u001b[0m\n\u001b[0;32m    430\u001b[0m                 \u001b[0my\u001b[0m \u001b[1;33m=\u001b[0m \u001b[0mcheck_array\u001b[0m\u001b[1;33m(\u001b[0m\u001b[0my\u001b[0m\u001b[1;33m,\u001b[0m \u001b[1;33m**\u001b[0m\u001b[0mcheck_y_params\u001b[0m\u001b[1;33m)\u001b[0m\u001b[1;33m\u001b[0m\u001b[1;33m\u001b[0m\u001b[0m\n\u001b[0;32m    431\u001b[0m             \u001b[1;32melse\u001b[0m\u001b[1;33m:\u001b[0m\u001b[1;33m\u001b[0m\u001b[1;33m\u001b[0m\u001b[0m\n\u001b[1;32m--> 432\u001b[1;33m                 \u001b[0mX\u001b[0m\u001b[1;33m,\u001b[0m \u001b[0my\u001b[0m \u001b[1;33m=\u001b[0m \u001b[0mcheck_X_y\u001b[0m\u001b[1;33m(\u001b[0m\u001b[0mX\u001b[0m\u001b[1;33m,\u001b[0m \u001b[0my\u001b[0m\u001b[1;33m,\u001b[0m \u001b[1;33m**\u001b[0m\u001b[0mcheck_params\u001b[0m\u001b[1;33m)\u001b[0m\u001b[1;33m\u001b[0m\u001b[1;33m\u001b[0m\u001b[0m\n\u001b[0m\u001b[0;32m    433\u001b[0m             \u001b[0mout\u001b[0m \u001b[1;33m=\u001b[0m \u001b[0mX\u001b[0m\u001b[1;33m,\u001b[0m \u001b[0my\u001b[0m\u001b[1;33m\u001b[0m\u001b[1;33m\u001b[0m\u001b[0m\n\u001b[0;32m    434\u001b[0m \u001b[1;33m\u001b[0m\u001b[0m\n",
      "\u001b[1;32m~\\Anaconda3_2\\lib\\site-packages\\sklearn\\utils\\validation.py\u001b[0m in \u001b[0;36minner_f\u001b[1;34m(*args, **kwargs)\u001b[0m\n\u001b[0;32m     70\u001b[0m                           FutureWarning)\n\u001b[0;32m     71\u001b[0m         \u001b[0mkwargs\u001b[0m\u001b[1;33m.\u001b[0m\u001b[0mupdate\u001b[0m\u001b[1;33m(\u001b[0m\u001b[1;33m{\u001b[0m\u001b[0mk\u001b[0m\u001b[1;33m:\u001b[0m \u001b[0marg\u001b[0m \u001b[1;32mfor\u001b[0m \u001b[0mk\u001b[0m\u001b[1;33m,\u001b[0m \u001b[0marg\u001b[0m \u001b[1;32min\u001b[0m \u001b[0mzip\u001b[0m\u001b[1;33m(\u001b[0m\u001b[0msig\u001b[0m\u001b[1;33m.\u001b[0m\u001b[0mparameters\u001b[0m\u001b[1;33m,\u001b[0m \u001b[0margs\u001b[0m\u001b[1;33m)\u001b[0m\u001b[1;33m}\u001b[0m\u001b[1;33m)\u001b[0m\u001b[1;33m\u001b[0m\u001b[1;33m\u001b[0m\u001b[0m\n\u001b[1;32m---> 72\u001b[1;33m         \u001b[1;32mreturn\u001b[0m \u001b[0mf\u001b[0m\u001b[1;33m(\u001b[0m\u001b[1;33m**\u001b[0m\u001b[0mkwargs\u001b[0m\u001b[1;33m)\u001b[0m\u001b[1;33m\u001b[0m\u001b[1;33m\u001b[0m\u001b[0m\n\u001b[0m\u001b[0;32m     73\u001b[0m     \u001b[1;32mreturn\u001b[0m \u001b[0minner_f\u001b[0m\u001b[1;33m\u001b[0m\u001b[1;33m\u001b[0m\u001b[0m\n\u001b[0;32m     74\u001b[0m \u001b[1;33m\u001b[0m\u001b[0m\n",
      "\u001b[1;32m~\\Anaconda3_2\\lib\\site-packages\\sklearn\\utils\\validation.py\u001b[0m in \u001b[0;36mcheck_X_y\u001b[1;34m(X, y, accept_sparse, accept_large_sparse, dtype, order, copy, force_all_finite, ensure_2d, allow_nd, multi_output, ensure_min_samples, ensure_min_features, y_numeric, estimator)\u001b[0m\n\u001b[0;32m    805\u001b[0m                         ensure_2d=False, dtype=None)\n\u001b[0;32m    806\u001b[0m     \u001b[1;32melse\u001b[0m\u001b[1;33m:\u001b[0m\u001b[1;33m\u001b[0m\u001b[1;33m\u001b[0m\u001b[0m\n\u001b[1;32m--> 807\u001b[1;33m         \u001b[0my\u001b[0m \u001b[1;33m=\u001b[0m \u001b[0mcolumn_or_1d\u001b[0m\u001b[1;33m(\u001b[0m\u001b[0my\u001b[0m\u001b[1;33m,\u001b[0m \u001b[0mwarn\u001b[0m\u001b[1;33m=\u001b[0m\u001b[1;32mTrue\u001b[0m\u001b[1;33m)\u001b[0m\u001b[1;33m\u001b[0m\u001b[1;33m\u001b[0m\u001b[0m\n\u001b[0m\u001b[0;32m    808\u001b[0m         \u001b[0m_assert_all_finite\u001b[0m\u001b[1;33m(\u001b[0m\u001b[0my\u001b[0m\u001b[1;33m)\u001b[0m\u001b[1;33m\u001b[0m\u001b[1;33m\u001b[0m\u001b[0m\n\u001b[0;32m    809\u001b[0m     \u001b[1;32mif\u001b[0m \u001b[0my_numeric\u001b[0m \u001b[1;32mand\u001b[0m \u001b[0my\u001b[0m\u001b[1;33m.\u001b[0m\u001b[0mdtype\u001b[0m\u001b[1;33m.\u001b[0m\u001b[0mkind\u001b[0m \u001b[1;33m==\u001b[0m \u001b[1;34m'O'\u001b[0m\u001b[1;33m:\u001b[0m\u001b[1;33m\u001b[0m\u001b[1;33m\u001b[0m\u001b[0m\n",
      "\u001b[1;32m~\\Anaconda3_2\\lib\\site-packages\\sklearn\\utils\\validation.py\u001b[0m in \u001b[0;36minner_f\u001b[1;34m(*args, **kwargs)\u001b[0m\n\u001b[0;32m     70\u001b[0m                           FutureWarning)\n\u001b[0;32m     71\u001b[0m         \u001b[0mkwargs\u001b[0m\u001b[1;33m.\u001b[0m\u001b[0mupdate\u001b[0m\u001b[1;33m(\u001b[0m\u001b[1;33m{\u001b[0m\u001b[0mk\u001b[0m\u001b[1;33m:\u001b[0m \u001b[0marg\u001b[0m \u001b[1;32mfor\u001b[0m \u001b[0mk\u001b[0m\u001b[1;33m,\u001b[0m \u001b[0marg\u001b[0m \u001b[1;32min\u001b[0m \u001b[0mzip\u001b[0m\u001b[1;33m(\u001b[0m\u001b[0msig\u001b[0m\u001b[1;33m.\u001b[0m\u001b[0mparameters\u001b[0m\u001b[1;33m,\u001b[0m \u001b[0margs\u001b[0m\u001b[1;33m)\u001b[0m\u001b[1;33m}\u001b[0m\u001b[1;33m)\u001b[0m\u001b[1;33m\u001b[0m\u001b[1;33m\u001b[0m\u001b[0m\n\u001b[1;32m---> 72\u001b[1;33m         \u001b[1;32mreturn\u001b[0m \u001b[0mf\u001b[0m\u001b[1;33m(\u001b[0m\u001b[1;33m**\u001b[0m\u001b[0mkwargs\u001b[0m\u001b[1;33m)\u001b[0m\u001b[1;33m\u001b[0m\u001b[1;33m\u001b[0m\u001b[0m\n\u001b[0m\u001b[0;32m     73\u001b[0m     \u001b[1;32mreturn\u001b[0m \u001b[0minner_f\u001b[0m\u001b[1;33m\u001b[0m\u001b[1;33m\u001b[0m\u001b[0m\n\u001b[0;32m     74\u001b[0m \u001b[1;33m\u001b[0m\u001b[0m\n",
      "\u001b[1;32m~\\Anaconda3_2\\lib\\site-packages\\sklearn\\utils\\validation.py\u001b[0m in \u001b[0;36mcolumn_or_1d\u001b[1;34m(y, warn)\u001b[0m\n\u001b[0;32m    845\u001b[0m     raise ValueError(\n\u001b[0;32m    846\u001b[0m         \u001b[1;34m\"y should be a 1d array, \"\u001b[0m\u001b[1;33m\u001b[0m\u001b[1;33m\u001b[0m\u001b[0m\n\u001b[1;32m--> 847\u001b[1;33m         \"got an array of shape {} instead.\".format(shape))\n\u001b[0m\u001b[0;32m    848\u001b[0m \u001b[1;33m\u001b[0m\u001b[0m\n\u001b[0;32m    849\u001b[0m \u001b[1;33m\u001b[0m\u001b[0m\n",
      "\u001b[1;31mValueError\u001b[0m: y should be a 1d array, got an array of shape (126811, 5) instead."
     ]
    }
   ],
   "source": [
    "from sklearn.model_selection import GridSearchCV\n",
    "\n",
    "perceptron = Perceptron()\n",
    "\n",
    "param_grid = {\"penalty\":[\"l2\",\"l1\",\"elasticnet\"],\n",
    "              \"alpha\":[0.001,0.01,0.1],\n",
    "              \"max_iter\":[5,10],\n",
    "              \"tol\":[1e-3, 1e-4]}\n",
    "\n",
    "gv_perceptron = GridSearchCV(estimator=perceptron, param_grid=param_grid, cv=3, n_jobs=-1, verbose=1)\n",
    "\n",
    "perc_model = gv_perceptron.fit(X_train, y_train)\n",
    "\n",
    "print(perc_model.best_estimator_) \n",
    "print(perc_model.best_params_) \n",
    "print(perc_model.best_score_)"
   ]
  },
  {
   "cell_type": "code",
   "execution_count": null,
   "id": "hearing-incidence",
   "metadata": {},
   "outputs": [],
   "source": []
  }
 ],
 "metadata": {
  "kernelspec": {
   "display_name": "Python 3",
   "language": "python",
   "name": "python3"
  },
  "language_info": {
   "codemirror_mode": {
    "name": "ipython",
    "version": 3
   },
   "file_extension": ".py",
   "mimetype": "text/x-python",
   "name": "python",
   "nbconvert_exporter": "python",
   "pygments_lexer": "ipython3",
   "version": "3.6.12"
  }
 },
 "nbformat": 4,
 "nbformat_minor": 5
}
