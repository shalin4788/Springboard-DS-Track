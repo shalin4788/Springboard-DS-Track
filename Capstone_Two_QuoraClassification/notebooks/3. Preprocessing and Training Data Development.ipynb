{
 "cells": [
  {
   "cell_type": "markdown",
   "metadata": {},
   "source": [
    " ## Pre-processing and Training Data Development"
   ]
  },
  {
   "cell_type": "markdown",
   "metadata": {},
   "source": [
    "- Goal is to create a cleaned development dataset you can use to complete the modeling step of this project. "
   ]
  },
  {
   "cell_type": "code",
   "execution_count": 1,
   "metadata": {},
   "outputs": [
    {
     "name": "stderr",
     "output_type": "stream",
     "text": [
      "\n",
      "Bad key \"text.kerning_factor\" on line 4 in\n",
      "C:\\Users\\gosal\\Anaconda3_2\\lib\\site-packages\\matplotlib\\mpl-data\\stylelib\\_classic_test_patch.mplstyle.\n",
      "You probably need to get an updated matplotlibrc file from\n",
      "http://github.com/matplotlib/matplotlib/blob/master/matplotlibrc.template\n",
      "or from the matplotlib source distribution\n"
     ]
    }
   ],
   "source": [
    "# Import libraries\n",
    "import pandas as pd\n",
    "pd.options.mode.chained_assignment = None  # default='warn'\n",
    "\n",
    "import os\n",
    "from sklearn.preprocessing import MaxAbsScaler\n",
    "import matplotlib.pyplot as plt\n",
    "\n",
    "#suppress future warnings\n",
    "import warnings\n",
    "warnings.simplefilter(action='ignore', category=FutureWarning)\n",
    "warnings.simplefilter(action='ignore', category=UserWarning)\n",
    "\n",
    "# Show plots inline\n",
    "%matplotlib inline"
   ]
  },
  {
   "cell_type": "code",
   "execution_count": 2,
   "metadata": {},
   "outputs": [
    {
     "data": {
      "text/plain": [
       "'C:\\\\Shalin\\\\Springboard bootcamp\\\\projects\\\\Capstone project 2\\\\Capstone Two'"
      ]
     },
     "execution_count": 2,
     "metadata": {},
     "output_type": "execute_result"
    }
   ],
   "source": [
    "os.getcwd()"
   ]
  },
  {
   "cell_type": "code",
   "execution_count": 3,
   "metadata": {},
   "outputs": [],
   "source": [
    "df = pd.read_csv(\"data/Quora_cleaned.csv\")"
   ]
  },
  {
   "cell_type": "code",
   "execution_count": 4,
   "metadata": {},
   "outputs": [
    {
     "data": {
      "text/plain": [
       "(1024881, 6)"
      ]
     },
     "execution_count": 4,
     "metadata": {},
     "output_type": "execute_result"
    }
   ],
   "source": [
    "df.shape"
   ]
  },
  {
   "cell_type": "code",
   "execution_count": 5,
   "metadata": {},
   "outputs": [
    {
     "data": {
      "text/html": [
       "<div>\n",
       "<style scoped>\n",
       "    .dataframe tbody tr th:only-of-type {\n",
       "        vertical-align: middle;\n",
       "    }\n",
       "\n",
       "    .dataframe tbody tr th {\n",
       "        vertical-align: top;\n",
       "    }\n",
       "\n",
       "    .dataframe thead th {\n",
       "        text-align: right;\n",
       "    }\n",
       "</style>\n",
       "<table border=\"1\" class=\"dataframe\">\n",
       "  <thead>\n",
       "    <tr style=\"text-align: right;\">\n",
       "      <th></th>\n",
       "      <th>Unnamed: 0</th>\n",
       "      <th>qid</th>\n",
       "      <th>question_stemmed</th>\n",
       "      <th>target</th>\n",
       "      <th>question_length</th>\n",
       "      <th>total_words</th>\n",
       "    </tr>\n",
       "  </thead>\n",
       "  <tbody>\n",
       "    <tr>\n",
       "      <th>0</th>\n",
       "      <td>460851</td>\n",
       "      <td>5a3f6882c1fc8319eff1</td>\n",
       "      <td>didnt genghiz khan thee great khan abolish des...</td>\n",
       "      <td>1</td>\n",
       "      <td>212</td>\n",
       "      <td>32</td>\n",
       "    </tr>\n",
       "    <tr>\n",
       "      <th>1</th>\n",
       "      <td>158221</td>\n",
       "      <td>1ef37766a923f24f2182</td>\n",
       "      <td>didnt genghi khan thee great khan abolish dest...</td>\n",
       "      <td>1</td>\n",
       "      <td>209</td>\n",
       "      <td>32</td>\n",
       "    </tr>\n",
       "    <tr>\n",
       "      <th>2</th>\n",
       "      <td>393959</td>\n",
       "      <td>4d2e2796dd1ced2c8e64</td>\n",
       "      <td>prospect intern student httpwwwophammainquorac...</td>\n",
       "      <td>0</td>\n",
       "      <td>209</td>\n",
       "      <td>12</td>\n",
       "    </tr>\n",
       "    <tr>\n",
       "      <th>3</th>\n",
       "      <td>753959</td>\n",
       "      <td>93b9389889ad4aa8518a</td>\n",
       "      <td>waz genghiz khanz thee great khanz go get libe...</td>\n",
       "      <td>1</td>\n",
       "      <td>207</td>\n",
       "      <td>32</td>\n",
       "    </tr>\n",
       "    <tr>\n",
       "      <th>4</th>\n",
       "      <td>251508</td>\n",
       "      <td>313a5512fefd7dbf0fba</td>\n",
       "      <td>safe north east indian assam arunach pradesh m...</td>\n",
       "      <td>0</td>\n",
       "      <td>204</td>\n",
       "      <td>27</td>\n",
       "    </tr>\n",
       "  </tbody>\n",
       "</table>\n",
       "</div>"
      ],
      "text/plain": [
       "   Unnamed: 0                   qid  \\\n",
       "0      460851  5a3f6882c1fc8319eff1   \n",
       "1      158221  1ef37766a923f24f2182   \n",
       "2      393959  4d2e2796dd1ced2c8e64   \n",
       "3      753959  93b9389889ad4aa8518a   \n",
       "4      251508  313a5512fefd7dbf0fba   \n",
       "\n",
       "                                    question_stemmed  target  question_length  \\\n",
       "0  didnt genghiz khan thee great khan abolish des...       1              212   \n",
       "1  didnt genghi khan thee great khan abolish dest...       1              209   \n",
       "2  prospect intern student httpwwwophammainquorac...       0              209   \n",
       "3  waz genghiz khanz thee great khanz go get libe...       1              207   \n",
       "4  safe north east indian assam arunach pradesh m...       0              204   \n",
       "\n",
       "   total_words  \n",
       "0           32  \n",
       "1           32  \n",
       "2           12  \n",
       "3           32  \n",
       "4           27  "
      ]
     },
     "execution_count": 5,
     "metadata": {},
     "output_type": "execute_result"
    }
   ],
   "source": [
    "df.head(5)"
   ]
  },
  {
   "cell_type": "code",
   "execution_count": 6,
   "metadata": {},
   "outputs": [],
   "source": [
    "df['question_stemmed']= df['question_stemmed'].str.replace('”', '')\n",
    "df['question_stemmed']= df['question_stemmed'].str.replace('“', '')"
   ]
  },
  {
   "cell_type": "code",
   "execution_count": 7,
   "metadata": {},
   "outputs": [
    {
     "name": "stdout",
     "output_type": "stream",
     "text": [
      "<class 'pandas.core.frame.DataFrame'>\n",
      "RangeIndex: 1024881 entries, 0 to 1024880\n",
      "Data columns (total 6 columns):\n",
      " #   Column            Non-Null Count    Dtype \n",
      "---  ------            --------------    ----- \n",
      " 0   Unnamed: 0        1024881 non-null  int64 \n",
      " 1   qid               1024881 non-null  object\n",
      " 2   question_stemmed  1024881 non-null  object\n",
      " 3   target            1024881 non-null  int64 \n",
      " 4   question_length   1024881 non-null  int64 \n",
      " 5   total_words       1024881 non-null  int64 \n",
      "dtypes: int64(4), object(2)\n",
      "memory usage: 46.9+ MB\n"
     ]
    }
   ],
   "source": [
    "df.info()"
   ]
  },
  {
   "cell_type": "code",
   "execution_count": 8,
   "metadata": {},
   "outputs": [
    {
     "data": {
      "text/html": [
       "<div>\n",
       "<style scoped>\n",
       "    .dataframe tbody tr th:only-of-type {\n",
       "        vertical-align: middle;\n",
       "    }\n",
       "\n",
       "    .dataframe tbody tr th {\n",
       "        vertical-align: top;\n",
       "    }\n",
       "\n",
       "    .dataframe thead th {\n",
       "        text-align: right;\n",
       "    }\n",
       "</style>\n",
       "<table border=\"1\" class=\"dataframe\">\n",
       "  <thead>\n",
       "    <tr style=\"text-align: right;\">\n",
       "      <th></th>\n",
       "      <th>qid</th>\n",
       "      <th>question_stemmed</th>\n",
       "      <th>target</th>\n",
       "      <th>question_length</th>\n",
       "      <th>total_words</th>\n",
       "    </tr>\n",
       "  </thead>\n",
       "  <tbody>\n",
       "    <tr>\n",
       "      <th>0</th>\n",
       "      <td>5a3f6882c1fc8319eff1</td>\n",
       "      <td>didnt genghiz khan thee great khan abolish des...</td>\n",
       "      <td>1</td>\n",
       "      <td>212</td>\n",
       "      <td>32</td>\n",
       "    </tr>\n",
       "    <tr>\n",
       "      <th>1</th>\n",
       "      <td>1ef37766a923f24f2182</td>\n",
       "      <td>didnt genghi khan thee great khan abolish dest...</td>\n",
       "      <td>1</td>\n",
       "      <td>209</td>\n",
       "      <td>32</td>\n",
       "    </tr>\n",
       "    <tr>\n",
       "      <th>2</th>\n",
       "      <td>4d2e2796dd1ced2c8e64</td>\n",
       "      <td>prospect intern student httpwwwophammainquorac...</td>\n",
       "      <td>0</td>\n",
       "      <td>209</td>\n",
       "      <td>12</td>\n",
       "    </tr>\n",
       "    <tr>\n",
       "      <th>3</th>\n",
       "      <td>93b9389889ad4aa8518a</td>\n",
       "      <td>waz genghiz khanz thee great khanz go get libe...</td>\n",
       "      <td>1</td>\n",
       "      <td>207</td>\n",
       "      <td>32</td>\n",
       "    </tr>\n",
       "    <tr>\n",
       "      <th>4</th>\n",
       "      <td>313a5512fefd7dbf0fba</td>\n",
       "      <td>safe north east indian assam arunach pradesh m...</td>\n",
       "      <td>0</td>\n",
       "      <td>204</td>\n",
       "      <td>27</td>\n",
       "    </tr>\n",
       "    <tr>\n",
       "      <th>5</th>\n",
       "      <td>1d49a0610c8be715e275</td>\n",
       "      <td>much public school teacher salari benefit sout...</td>\n",
       "      <td>0</td>\n",
       "      <td>200</td>\n",
       "      <td>26</td>\n",
       "    </tr>\n",
       "    <tr>\n",
       "      <th>6</th>\n",
       "      <td>8727cf4973780583dd19</td>\n",
       "      <td>would arrang follow term act skill alia bhatt ...</td>\n",
       "      <td>0</td>\n",
       "      <td>199</td>\n",
       "      <td>28</td>\n",
       "    </tr>\n",
       "    <tr>\n",
       "      <th>7</th>\n",
       "      <td>4a24f6189a1c20915f68</td>\n",
       "      <td>qué carrera estudiar para ser un científico co...</td>\n",
       "      <td>0</td>\n",
       "      <td>197</td>\n",
       "      <td>34</td>\n",
       "    </tr>\n",
       "    <tr>\n",
       "      <th>8</th>\n",
       "      <td>2d686cc72efb2b7b5435</td>\n",
       "      <td>relat sport take ibuprofen aspirin acetaminoph...</td>\n",
       "      <td>0</td>\n",
       "      <td>194</td>\n",
       "      <td>28</td>\n",
       "    </tr>\n",
       "    <tr>\n",
       "      <th>9</th>\n",
       "      <td>6700a979fa215d451fc3</td>\n",
       "      <td>listen everyon next 911 major nuclear attack h...</td>\n",
       "      <td>1</td>\n",
       "      <td>194</td>\n",
       "      <td>34</td>\n",
       "    </tr>\n",
       "  </tbody>\n",
       "</table>\n",
       "</div>"
      ],
      "text/plain": [
       "                    qid                                   question_stemmed  \\\n",
       "0  5a3f6882c1fc8319eff1  didnt genghiz khan thee great khan abolish des...   \n",
       "1  1ef37766a923f24f2182  didnt genghi khan thee great khan abolish dest...   \n",
       "2  4d2e2796dd1ced2c8e64  prospect intern student httpwwwophammainquorac...   \n",
       "3  93b9389889ad4aa8518a  waz genghiz khanz thee great khanz go get libe...   \n",
       "4  313a5512fefd7dbf0fba  safe north east indian assam arunach pradesh m...   \n",
       "5  1d49a0610c8be715e275  much public school teacher salari benefit sout...   \n",
       "6  8727cf4973780583dd19  would arrang follow term act skill alia bhatt ...   \n",
       "7  4a24f6189a1c20915f68  qué carrera estudiar para ser un científico co...   \n",
       "8  2d686cc72efb2b7b5435  relat sport take ibuprofen aspirin acetaminoph...   \n",
       "9  6700a979fa215d451fc3  listen everyon next 911 major nuclear attack h...   \n",
       "\n",
       "   target  question_length  total_words  \n",
       "0       1              212           32  \n",
       "1       1              209           32  \n",
       "2       0              209           12  \n",
       "3       1              207           32  \n",
       "4       0              204           27  \n",
       "5       0              200           26  \n",
       "6       0              199           28  \n",
       "7       0              197           34  \n",
       "8       0              194           28  \n",
       "9       1              194           34  "
      ]
     },
     "execution_count": 8,
     "metadata": {},
     "output_type": "execute_result"
    }
   ],
   "source": [
    "# Drop index columns\n",
    "df.drop('Unnamed: 0',axis=1, inplace=True)\n",
    "df.head(10)"
   ]
  },
  {
   "cell_type": "code",
   "execution_count": 9,
   "metadata": {},
   "outputs": [
    {
     "data": {
      "text/html": [
       "<div>\n",
       "<style scoped>\n",
       "    .dataframe tbody tr th:only-of-type {\n",
       "        vertical-align: middle;\n",
       "    }\n",
       "\n",
       "    .dataframe tbody tr th {\n",
       "        vertical-align: top;\n",
       "    }\n",
       "\n",
       "    .dataframe thead th {\n",
       "        text-align: right;\n",
       "    }\n",
       "</style>\n",
       "<table border=\"1\" class=\"dataframe\">\n",
       "  <thead>\n",
       "    <tr style=\"text-align: right;\">\n",
       "      <th></th>\n",
       "      <th>qid</th>\n",
       "      <th>question_final</th>\n",
       "      <th>target</th>\n",
       "      <th>question_length</th>\n",
       "      <th>total_words</th>\n",
       "    </tr>\n",
       "  </thead>\n",
       "  <tbody>\n",
       "    <tr>\n",
       "      <th>0</th>\n",
       "      <td>5a3f6882c1fc8319eff1</td>\n",
       "      <td>didnt genghiz khan thee great khan abolish des...</td>\n",
       "      <td>1</td>\n",
       "      <td>212</td>\n",
       "      <td>32</td>\n",
       "    </tr>\n",
       "    <tr>\n",
       "      <th>1</th>\n",
       "      <td>1ef37766a923f24f2182</td>\n",
       "      <td>didnt genghi khan thee great khan abolish dest...</td>\n",
       "      <td>1</td>\n",
       "      <td>209</td>\n",
       "      <td>32</td>\n",
       "    </tr>\n",
       "    <tr>\n",
       "      <th>2</th>\n",
       "      <td>4d2e2796dd1ced2c8e64</td>\n",
       "      <td>prospect intern student httpwwwophammainquorac...</td>\n",
       "      <td>0</td>\n",
       "      <td>209</td>\n",
       "      <td>12</td>\n",
       "    </tr>\n",
       "    <tr>\n",
       "      <th>3</th>\n",
       "      <td>93b9389889ad4aa8518a</td>\n",
       "      <td>waz genghiz khanz thee great khanz go get libe...</td>\n",
       "      <td>1</td>\n",
       "      <td>207</td>\n",
       "      <td>32</td>\n",
       "    </tr>\n",
       "    <tr>\n",
       "      <th>4</th>\n",
       "      <td>313a5512fefd7dbf0fba</td>\n",
       "      <td>safe north east indian assam arunach pradesh m...</td>\n",
       "      <td>0</td>\n",
       "      <td>204</td>\n",
       "      <td>27</td>\n",
       "    </tr>\n",
       "  </tbody>\n",
       "</table>\n",
       "</div>"
      ],
      "text/plain": [
       "                    qid                                     question_final  \\\n",
       "0  5a3f6882c1fc8319eff1  didnt genghiz khan thee great khan abolish des...   \n",
       "1  1ef37766a923f24f2182  didnt genghi khan thee great khan abolish dest...   \n",
       "2  4d2e2796dd1ced2c8e64  prospect intern student httpwwwophammainquorac...   \n",
       "3  93b9389889ad4aa8518a  waz genghiz khanz thee great khanz go get libe...   \n",
       "4  313a5512fefd7dbf0fba  safe north east indian assam arunach pradesh m...   \n",
       "\n",
       "   target  question_length  total_words  \n",
       "0       1              212           32  \n",
       "1       1              209           32  \n",
       "2       0              209           12  \n",
       "3       1              207           32  \n",
       "4       0              204           27  "
      ]
     },
     "execution_count": 9,
     "metadata": {},
     "output_type": "execute_result"
    }
   ],
   "source": [
    "# Rename question_stemmed column\n",
    "df = df.rename(columns = {\"question_stemmed\":\"question_final\"})\n",
    "df.head()"
   ]
  },
  {
   "cell_type": "code",
   "execution_count": 10,
   "metadata": {},
   "outputs": [
    {
     "name": "stdout",
     "output_type": "stream",
     "text": [
      "qid                object\n",
      "question_final     object\n",
      "target              int64\n",
      "question_length     int64\n",
      "total_words         int64\n",
      "dtype: object\n"
     ]
    }
   ],
   "source": [
    "# Print the data type of each column\n",
    "print(df.dtypes)"
   ]
  },
  {
   "cell_type": "markdown",
   "metadata": {},
   "source": [
    "### Standardize the magnitude of numeric features using a scaler"
   ]
  },
  {
   "cell_type": "code",
   "execution_count": 11,
   "metadata": {},
   "outputs": [
    {
     "name": "stdout",
     "output_type": "stream",
     "text": [
      "                                      question_final  question_length  \\\n",
      "0  didnt genghiz khan thee great khan abolish des...              212   \n",
      "1  didnt genghi khan thee great khan abolish dest...              209   \n",
      "2  prospect intern student httpwwwophammainquorac...              209   \n",
      "3  waz genghiz khanz thee great khanz go get libe...              207   \n",
      "4  safe north east indian assam arunach pradesh m...              204   \n",
      "\n",
      "   total_words  avg_word_length  \n",
      "0           32         6.625000  \n",
      "1           32         6.531250  \n",
      "2           12        17.416667  \n",
      "3           32         6.468750  \n",
      "4           27         7.555556  \n"
     ]
    }
   ],
   "source": [
    "# Find the average length of word\n",
    "df['avg_word_length'] = df['question_length'] / df['total_words']\n",
    "\n",
    "# Print the first 5 rows of these columns\n",
    "print(df[['question_final', 'question_length', 'total_words', 'avg_word_length']].head(5))"
   ]
  },
  {
   "cell_type": "code",
   "execution_count": 12,
   "metadata": {},
   "outputs": [
    {
     "name": "stdout",
     "output_type": "stream",
     "text": [
      "Index(['target', 'question_length', 'total_words', 'avg_word_length'], dtype='object')\n"
     ]
    }
   ],
   "source": [
    "# Create subset of only the numeric columns\n",
    "numeric_df = df.select_dtypes(include=['int64','float'])\n",
    "print(numeric_df.columns)"
   ]
  },
  {
   "cell_type": "code",
   "execution_count": 13,
   "metadata": {},
   "outputs": [
    {
     "name": "stdout",
     "output_type": "stream",
     "text": [
      "Index(['qid', 'question_final'], dtype='object')\n"
     ]
    }
   ],
   "source": [
    "# Create subset of only the categorical variable columns\n",
    "categorical_df = df.select_dtypes(include=['object'])\n",
    "print(categorical_df.columns)"
   ]
  },
  {
   "cell_type": "code",
   "execution_count": 14,
   "metadata": {},
   "outputs": [
    {
     "data": {
      "text/plain": [
       "count    1.024881e+06\n",
       "mean     6.039560e+00\n",
       "std      9.063825e-01\n",
       "min      1.933333e+00\n",
       "25%      5.444444e+00\n",
       "50%      6.000000e+00\n",
       "75%      6.571429e+00\n",
       "max      5.300000e+01\n",
       "Name: avg_word_length, dtype: float64"
      ]
     },
     "execution_count": 14,
     "metadata": {},
     "output_type": "execute_result"
    }
   ],
   "source": [
    "numeric_df['avg_word_length'].describe()"
   ]
  },
  {
   "cell_type": "code",
   "execution_count": 15,
   "metadata": {},
   "outputs": [
    {
     "name": "stdout",
     "output_type": "stream",
     "text": [
      "   avg_word_length_scaled  avg_word_length\n",
      "0                0.125000         6.625000\n",
      "1                0.123231         6.531250\n",
      "2                0.328616        17.416667\n",
      "3                0.122052         6.468750\n",
      "4                0.142558         7.555556\n"
     ]
    }
   ],
   "source": [
    "# Instantiate StandardScaler to generate the absolute values are mapped in the range [0, 1].\n",
    "# This is optional step for our dataset since there are not many outliers, however, this condenses data even better\n",
    "\n",
    "scaler = MaxAbsScaler()\n",
    "\n",
    "# Fit SS_scaler to the data\n",
    "scaler.fit(numeric_df[['avg_word_length']])\n",
    "\n",
    "# Transform the data using the fitted scaler\n",
    "numeric_df['avg_word_length_scaled'] = scaler.transform(numeric_df[['avg_word_length']])\n",
    "\n",
    "# Compare the origional and transformed column\n",
    "print(numeric_df[['avg_word_length_scaled', 'avg_word_length']].head(5))"
   ]
  },
  {
   "cell_type": "code",
   "execution_count": 16,
   "metadata": {
    "scrolled": false
   },
   "outputs": [
    {
     "data": {
      "image/png": "[encoded data removed]",
      "text/plain": [
       "<Figure size 720x360 with 2 Axes>"
      ]
     },
     "metadata": {
      "needs_background": "light"
     },
     "output_type": "display_data"
    }
   ],
   "source": [
    "# Create a histogram for the 2 \n",
    "plt.rcParams[\"figure.figsize\"] = (10,5)\n",
    "\n",
    "numeric_df.hist(['avg_word_length','avg_word_length_scaled'])\n",
    "plt.show()"
   ]
  },
  {
   "cell_type": "code",
   "execution_count": 17,
   "metadata": {},
   "outputs": [
    {
     "data": {
      "text/html": [
       "<div>\n",
       "<style scoped>\n",
       "    .dataframe tbody tr th:only-of-type {\n",
       "        vertical-align: middle;\n",
       "    }\n",
       "\n",
       "    .dataframe tbody tr th {\n",
       "        vertical-align: top;\n",
       "    }\n",
       "\n",
       "    .dataframe thead th {\n",
       "        text-align: right;\n",
       "    }\n",
       "</style>\n",
       "<table border=\"1\" class=\"dataframe\">\n",
       "  <thead>\n",
       "    <tr style=\"text-align: right;\">\n",
       "      <th></th>\n",
       "      <th>target</th>\n",
       "      <th>question_length</th>\n",
       "      <th>total_words</th>\n",
       "      <th>avg_word_length_scaled</th>\n",
       "    </tr>\n",
       "  </thead>\n",
       "  <tbody>\n",
       "    <tr>\n",
       "      <th>0</th>\n",
       "      <td>1</td>\n",
       "      <td>212</td>\n",
       "      <td>32</td>\n",
       "      <td>0.125000</td>\n",
       "    </tr>\n",
       "    <tr>\n",
       "      <th>1</th>\n",
       "      <td>1</td>\n",
       "      <td>209</td>\n",
       "      <td>32</td>\n",
       "      <td>0.123231</td>\n",
       "    </tr>\n",
       "    <tr>\n",
       "      <th>2</th>\n",
       "      <td>0</td>\n",
       "      <td>209</td>\n",
       "      <td>12</td>\n",
       "      <td>0.328616</td>\n",
       "    </tr>\n",
       "    <tr>\n",
       "      <th>3</th>\n",
       "      <td>1</td>\n",
       "      <td>207</td>\n",
       "      <td>32</td>\n",
       "      <td>0.122052</td>\n",
       "    </tr>\n",
       "    <tr>\n",
       "      <th>4</th>\n",
       "      <td>0</td>\n",
       "      <td>204</td>\n",
       "      <td>27</td>\n",
       "      <td>0.142558</td>\n",
       "    </tr>\n",
       "  </tbody>\n",
       "</table>\n",
       "</div>"
      ],
      "text/plain": [
       "   target  question_length  total_words  avg_word_length_scaled\n",
       "0       1              212           32                0.125000\n",
       "1       1              209           32                0.123231\n",
       "2       0              209           12                0.328616\n",
       "3       1              207           32                0.122052\n",
       "4       0              204           27                0.142558"
      ]
     },
     "execution_count": 17,
     "metadata": {},
     "output_type": "execute_result"
    }
   ],
   "source": [
    "# Drop non scaled column\n",
    "numeric_df.drop(columns='avg_word_length', inplace=True)\n",
    "numeric_df.head(5)"
   ]
  },
  {
   "cell_type": "code",
   "execution_count": 18,
   "metadata": {},
   "outputs": [
    {
     "data": {
      "text/plain": [
       "count    1.024881e+06\n",
       "mean     1.139540e-01\n",
       "std      1.710156e-02\n",
       "min      3.647799e-02\n",
       "25%      1.027254e-01\n",
       "50%      1.132075e-01\n",
       "75%      1.239892e-01\n",
       "max      1.000000e+00\n",
       "Name: avg_word_length_scaled, dtype: float64"
      ]
     },
     "execution_count": 18,
     "metadata": {},
     "output_type": "execute_result"
    }
   ],
   "source": [
    "numeric_df['avg_word_length_scaled'].describe()"
   ]
  },
  {
   "cell_type": "code",
   "execution_count": 19,
   "metadata": {},
   "outputs": [
    {
     "data": {
      "text/html": [
       "<div>\n",
       "<style scoped>\n",
       "    .dataframe tbody tr th:only-of-type {\n",
       "        vertical-align: middle;\n",
       "    }\n",
       "\n",
       "    .dataframe tbody tr th {\n",
       "        vertical-align: top;\n",
       "    }\n",
       "\n",
       "    .dataframe thead th {\n",
       "        text-align: right;\n",
       "    }\n",
       "</style>\n",
       "<table border=\"1\" class=\"dataframe\">\n",
       "  <thead>\n",
       "    <tr style=\"text-align: right;\">\n",
       "      <th></th>\n",
       "      <th>qid</th>\n",
       "      <th>question_final</th>\n",
       "      <th>target</th>\n",
       "      <th>question_length</th>\n",
       "      <th>total_words</th>\n",
       "      <th>avg_word_length_scaled</th>\n",
       "    </tr>\n",
       "  </thead>\n",
       "  <tbody>\n",
       "    <tr>\n",
       "      <th>0</th>\n",
       "      <td>5a3f6882c1fc8319eff1</td>\n",
       "      <td>didnt genghiz khan thee great khan abolish des...</td>\n",
       "      <td>1</td>\n",
       "      <td>212</td>\n",
       "      <td>32</td>\n",
       "      <td>0.125000</td>\n",
       "    </tr>\n",
       "    <tr>\n",
       "      <th>1</th>\n",
       "      <td>1ef37766a923f24f2182</td>\n",
       "      <td>didnt genghi khan thee great khan abolish dest...</td>\n",
       "      <td>1</td>\n",
       "      <td>209</td>\n",
       "      <td>32</td>\n",
       "      <td>0.123231</td>\n",
       "    </tr>\n",
       "    <tr>\n",
       "      <th>2</th>\n",
       "      <td>4d2e2796dd1ced2c8e64</td>\n",
       "      <td>prospect intern student httpwwwophammainquorac...</td>\n",
       "      <td>0</td>\n",
       "      <td>209</td>\n",
       "      <td>12</td>\n",
       "      <td>0.328616</td>\n",
       "    </tr>\n",
       "    <tr>\n",
       "      <th>3</th>\n",
       "      <td>93b9389889ad4aa8518a</td>\n",
       "      <td>waz genghiz khanz thee great khanz go get libe...</td>\n",
       "      <td>1</td>\n",
       "      <td>207</td>\n",
       "      <td>32</td>\n",
       "      <td>0.122052</td>\n",
       "    </tr>\n",
       "    <tr>\n",
       "      <th>4</th>\n",
       "      <td>313a5512fefd7dbf0fba</td>\n",
       "      <td>safe north east indian assam arunach pradesh m...</td>\n",
       "      <td>0</td>\n",
       "      <td>204</td>\n",
       "      <td>27</td>\n",
       "      <td>0.142558</td>\n",
       "    </tr>\n",
       "  </tbody>\n",
       "</table>\n",
       "</div>"
      ],
      "text/plain": [
       "                    qid                                     question_final  \\\n",
       "0  5a3f6882c1fc8319eff1  didnt genghiz khan thee great khan abolish des...   \n",
       "1  1ef37766a923f24f2182  didnt genghi khan thee great khan abolish dest...   \n",
       "2  4d2e2796dd1ced2c8e64  prospect intern student httpwwwophammainquorac...   \n",
       "3  93b9389889ad4aa8518a  waz genghiz khanz thee great khanz go get libe...   \n",
       "4  313a5512fefd7dbf0fba  safe north east indian assam arunach pradesh m...   \n",
       "\n",
       "   target  question_length  total_words  avg_word_length_scaled  \n",
       "0       1              212           32                0.125000  \n",
       "1       1              209           32                0.123231  \n",
       "2       0              209           12                0.328616  \n",
       "3       1              207           32                0.122052  \n",
       "4       0              204           27                0.142558  "
      ]
     },
     "execution_count": 19,
     "metadata": {},
     "output_type": "execute_result"
    }
   ],
   "source": [
    "df_numeric_scaled = pd.concat([categorical_df, numeric_df], axis=1, sort=False)\n",
    "df_numeric_scaled.head(5)"
   ]
  },
  {
   "cell_type": "code",
   "execution_count": 20,
   "metadata": {},
   "outputs": [
    {
     "name": "stdout",
     "output_type": "stream",
     "text": [
      "<class 'pandas.core.frame.DataFrame'>\n",
      "RangeIndex: 1024881 entries, 0 to 1024880\n",
      "Data columns (total 6 columns):\n",
      " #   Column                  Non-Null Count    Dtype  \n",
      "---  ------                  --------------    -----  \n",
      " 0   qid                     1024881 non-null  object \n",
      " 1   question_final          1024881 non-null  object \n",
      " 2   target                  1024881 non-null  int64  \n",
      " 3   question_length         1024881 non-null  int64  \n",
      " 4   total_words             1024881 non-null  int64  \n",
      " 5   avg_word_length_scaled  1024881 non-null  float64\n",
      "dtypes: float64(1), int64(3), object(2)\n",
      "memory usage: 46.9+ MB\n"
     ]
    }
   ],
   "source": [
    "df_numeric_scaled.info()"
   ]
  },
  {
   "cell_type": "markdown",
   "metadata": {},
   "source": [
    "### Perform Count vectorization (OR TFIDF) on categorical feature to fit and transform data"
   ]
  },
  {
   "cell_type": "code",
   "execution_count": 21,
   "metadata": {},
   "outputs": [
    {
     "data": {
      "text/plain": [
       "False"
      ]
     },
     "execution_count": 21,
     "metadata": {},
     "output_type": "execute_result"
    }
   ],
   "source": [
    "from sklearn.feature_extraction.text import ENGLISH_STOP_WORDS\n",
    "\n",
    "#'quantum' in ENGLISH_STOP_WORDS \n",
    "#'scammers' in ENGLISH_STOP_WORDS \n",
    "'ask stupid question' in ENGLISH_STOP_WORDS "
   ]
  },
  {
   "cell_type": "code",
   "execution_count": 30,
   "metadata": {},
   "outputs": [],
   "source": [
    "# Import CountVectorizer\n",
    "#from sklearn.feature_extraction.text import CountVectorizer\n",
    "#from nltk.tokenize import TreebankWordTokenizer\n",
    "#import re\n",
    "\n",
    "# Instantiate a trigram vectorizer\n",
    "# In data Wrangling step, stop words were removed using nltk. However at this step, we will remove stop_words using sklearn library too\n",
    "#cv_bigram_vec = CountVectorizer(stop_words='english',\n",
    "#                                 max_features=500, \n",
    "#                                 tokenizer=TreebankWordTokenizer().tokenize,\n",
    "#                                 ngram_range=(1,1))\n",
    "\n",
    "# Fit and apply trigram vectorizer\n",
    "#cv_bigram = cv_bigram_vec.fit_transform(df_numeric_scaled['question_final'])\n",
    "\n",
    "# Print the trigram features\n",
    "#print(cv_bigram_vec.get_feature_names())\n",
    "\n",
    "# Create a DataFrame of the features\n",
    "#cv_bi_df = pd.DataFrame(cv_bigram.toarray(), \n",
    "#                 columns=cv_bigram_vec.get_feature_names())"
   ]
  },
  {
   "cell_type": "code",
   "execution_count": 31,
   "metadata": {},
   "outputs": [],
   "source": [
    "#print(cv_bi_df.sum().sort_values(ascending=False).head(5))"
   ]
  },
  {
   "cell_type": "code",
   "execution_count": 22,
   "metadata": {},
   "outputs": [
    {
     "name": "stdout",
     "output_type": "stream",
     "text": [
      "    10  2017  2018  account  act  actual  affect  allow  alway  america  ...  \\\n",
      "0  0.0   0.0   0.0      0.0  0.0     0.0     0.0    0.0    0.0      0.0  ...   \n",
      "1  0.0   0.0   0.0      0.0  0.0     0.0     0.0    0.0    0.0      0.0  ...   \n",
      "2  0.0   0.0   0.0      0.0  0.0     0.0     0.0    0.0    0.0      0.0  ...   \n",
      "3  0.0   0.0   0.0      0.0  0.0     0.0     0.0    0.0    0.0      0.0  ...   \n",
      "4  0.0   0.0   0.0      0.0  0.0     0.0     0.0    0.0    0.0      0.0  ...   \n",
      "\n",
      "   water  way  websit  white  women  word  work     world  write  year  \n",
      "0    0.0  0.0     0.0    0.0    0.0   0.0   0.0  0.488119    0.0   0.0  \n",
      "1    0.0  0.0     0.0    0.0    0.0   0.0   0.0  0.525668    0.0   0.0  \n",
      "2    0.0  0.0     0.0    0.0    0.0   0.0   0.0  0.000000    0.0   0.0  \n",
      "3    0.0  0.0     0.0    0.0    0.0   0.0   0.0  0.539503    0.0   0.0  \n",
      "4    0.0  0.0     0.0    0.0    0.0   0.0   0.0  0.000000    0.0   0.0  \n",
      "\n",
      "[5 rows x 200 columns]\n"
     ]
    }
   ],
   "source": [
    "#TFIDF representation (ignoring common words)\n",
    "\n",
    "# Import TfidfVectorizer\n",
    "from sklearn.feature_extraction.text import TfidfVectorizer\n",
    "\n",
    "# Instantiate TfidfVectorizer\n",
    "tv = TfidfVectorizer(max_features=200, ngram_range=(1, 1), stop_words = 'english')\n",
    "\n",
    "# Fit the vectroizer and transform the data\n",
    "tv_transformed = tv.fit_transform(df['question_final'])\n",
    "\n",
    "# Create a DataFrame with these features\n",
    "tv_df = pd.DataFrame(tv_transformed.toarray(), \n",
    "                     columns=tv.get_feature_names())\n",
    "print(tv_df.head())"
   ]
  },
  {
   "cell_type": "code",
   "execution_count": 23,
   "metadata": {},
   "outputs": [
    {
     "name": "stdout",
     "output_type": "stream",
     "text": [
      "everi     0.574746\n",
      "world     0.488119\n",
      "person    0.463753\n",
      "free      0.289348\n",
      "black     0.280321\n",
      "Name: 0, dtype: float64\n"
     ]
    }
   ],
   "source": [
    "# Isolate the row to be examined\n",
    "sample_row = tv_df.iloc[0]\n",
    "\n",
    "# Print the top 5 words of the sorted output\n",
    "print(sample_row.sort_values(ascending=False).head(5))"
   ]
  },
  {
   "cell_type": "code",
   "execution_count": 24,
   "metadata": {},
   "outputs": [
    {
     "data": {
      "text/html": [
       "<div>\n",
       "<style scoped>\n",
       "    .dataframe tbody tr th:only-of-type {\n",
       "        vertical-align: middle;\n",
       "    }\n",
       "\n",
       "    .dataframe tbody tr th {\n",
       "        vertical-align: top;\n",
       "    }\n",
       "\n",
       "    .dataframe thead th {\n",
       "        text-align: right;\n",
       "    }\n",
       "</style>\n",
       "<table border=\"1\" class=\"dataframe\">\n",
       "  <thead>\n",
       "    <tr style=\"text-align: right;\">\n",
       "      <th></th>\n",
       "      <th>qid</th>\n",
       "      <th>question_final</th>\n",
       "      <th>target</th>\n",
       "      <th>question_length</th>\n",
       "      <th>total_words</th>\n",
       "      <th>avg_word_length_scaled</th>\n",
       "      <th>10</th>\n",
       "      <th>2017</th>\n",
       "      <th>2018</th>\n",
       "      <th>account</th>\n",
       "      <th>...</th>\n",
       "      <th>water</th>\n",
       "      <th>way</th>\n",
       "      <th>websit</th>\n",
       "      <th>white</th>\n",
       "      <th>women</th>\n",
       "      <th>word</th>\n",
       "      <th>work</th>\n",
       "      <th>world</th>\n",
       "      <th>write</th>\n",
       "      <th>year</th>\n",
       "    </tr>\n",
       "  </thead>\n",
       "  <tbody>\n",
       "    <tr>\n",
       "      <th>0</th>\n",
       "      <td>5a3f6882c1fc8319eff1</td>\n",
       "      <td>didnt genghiz khan thee great khan abolish des...</td>\n",
       "      <td>1</td>\n",
       "      <td>212</td>\n",
       "      <td>32</td>\n",
       "      <td>0.125000</td>\n",
       "      <td>0.0</td>\n",
       "      <td>0.0</td>\n",
       "      <td>0.0</td>\n",
       "      <td>0.0</td>\n",
       "      <td>...</td>\n",
       "      <td>0.0</td>\n",
       "      <td>0.0</td>\n",
       "      <td>0.0</td>\n",
       "      <td>0.0</td>\n",
       "      <td>0.0</td>\n",
       "      <td>0.0</td>\n",
       "      <td>0.0</td>\n",
       "      <td>0.488119</td>\n",
       "      <td>0.0</td>\n",
       "      <td>0.0</td>\n",
       "    </tr>\n",
       "    <tr>\n",
       "      <th>1</th>\n",
       "      <td>1ef37766a923f24f2182</td>\n",
       "      <td>didnt genghi khan thee great khan abolish dest...</td>\n",
       "      <td>1</td>\n",
       "      <td>209</td>\n",
       "      <td>32</td>\n",
       "      <td>0.123231</td>\n",
       "      <td>0.0</td>\n",
       "      <td>0.0</td>\n",
       "      <td>0.0</td>\n",
       "      <td>0.0</td>\n",
       "      <td>...</td>\n",
       "      <td>0.0</td>\n",
       "      <td>0.0</td>\n",
       "      <td>0.0</td>\n",
       "      <td>0.0</td>\n",
       "      <td>0.0</td>\n",
       "      <td>0.0</td>\n",
       "      <td>0.0</td>\n",
       "      <td>0.525668</td>\n",
       "      <td>0.0</td>\n",
       "      <td>0.0</td>\n",
       "    </tr>\n",
       "    <tr>\n",
       "      <th>2</th>\n",
       "      <td>4d2e2796dd1ced2c8e64</td>\n",
       "      <td>prospect intern student httpwwwophammainquorac...</td>\n",
       "      <td>0</td>\n",
       "      <td>209</td>\n",
       "      <td>12</td>\n",
       "      <td>0.328616</td>\n",
       "      <td>0.0</td>\n",
       "      <td>0.0</td>\n",
       "      <td>0.0</td>\n",
       "      <td>0.0</td>\n",
       "      <td>...</td>\n",
       "      <td>0.0</td>\n",
       "      <td>0.0</td>\n",
       "      <td>0.0</td>\n",
       "      <td>0.0</td>\n",
       "      <td>0.0</td>\n",
       "      <td>0.0</td>\n",
       "      <td>0.0</td>\n",
       "      <td>0.000000</td>\n",
       "      <td>0.0</td>\n",
       "      <td>0.0</td>\n",
       "    </tr>\n",
       "    <tr>\n",
       "      <th>3</th>\n",
       "      <td>93b9389889ad4aa8518a</td>\n",
       "      <td>waz genghiz khanz thee great khanz go get libe...</td>\n",
       "      <td>1</td>\n",
       "      <td>207</td>\n",
       "      <td>32</td>\n",
       "      <td>0.122052</td>\n",
       "      <td>0.0</td>\n",
       "      <td>0.0</td>\n",
       "      <td>0.0</td>\n",
       "      <td>0.0</td>\n",
       "      <td>...</td>\n",
       "      <td>0.0</td>\n",
       "      <td>0.0</td>\n",
       "      <td>0.0</td>\n",
       "      <td>0.0</td>\n",
       "      <td>0.0</td>\n",
       "      <td>0.0</td>\n",
       "      <td>0.0</td>\n",
       "      <td>0.539503</td>\n",
       "      <td>0.0</td>\n",
       "      <td>0.0</td>\n",
       "    </tr>\n",
       "    <tr>\n",
       "      <th>4</th>\n",
       "      <td>313a5512fefd7dbf0fba</td>\n",
       "      <td>safe north east indian assam arunach pradesh m...</td>\n",
       "      <td>0</td>\n",
       "      <td>204</td>\n",
       "      <td>27</td>\n",
       "      <td>0.142558</td>\n",
       "      <td>0.0</td>\n",
       "      <td>0.0</td>\n",
       "      <td>0.0</td>\n",
       "      <td>0.0</td>\n",
       "      <td>...</td>\n",
       "      <td>0.0</td>\n",
       "      <td>0.0</td>\n",
       "      <td>0.0</td>\n",
       "      <td>0.0</td>\n",
       "      <td>0.0</td>\n",
       "      <td>0.0</td>\n",
       "      <td>0.0</td>\n",
       "      <td>0.000000</td>\n",
       "      <td>0.0</td>\n",
       "      <td>0.0</td>\n",
       "    </tr>\n",
       "  </tbody>\n",
       "</table>\n",
       "<p>5 rows × 206 columns</p>\n",
       "</div>"
      ],
      "text/plain": [
       "                    qid                                     question_final  \\\n",
       "0  5a3f6882c1fc8319eff1  didnt genghiz khan thee great khan abolish des...   \n",
       "1  1ef37766a923f24f2182  didnt genghi khan thee great khan abolish dest...   \n",
       "2  4d2e2796dd1ced2c8e64  prospect intern student httpwwwophammainquorac...   \n",
       "3  93b9389889ad4aa8518a  waz genghiz khanz thee great khanz go get libe...   \n",
       "4  313a5512fefd7dbf0fba  safe north east indian assam arunach pradesh m...   \n",
       "\n",
       "   target  question_length  total_words  avg_word_length_scaled   10  2017  \\\n",
       "0       1              212           32                0.125000  0.0   0.0   \n",
       "1       1              209           32                0.123231  0.0   0.0   \n",
       "2       0              209           12                0.328616  0.0   0.0   \n",
       "3       1              207           32                0.122052  0.0   0.0   \n",
       "4       0              204           27                0.142558  0.0   0.0   \n",
       "\n",
       "   2018  account  ...  water  way  websit  white  women  word  work     world  \\\n",
       "0   0.0      0.0  ...    0.0  0.0     0.0    0.0    0.0   0.0   0.0  0.488119   \n",
       "1   0.0      0.0  ...    0.0  0.0     0.0    0.0    0.0   0.0   0.0  0.525668   \n",
       "2   0.0      0.0  ...    0.0  0.0     0.0    0.0    0.0   0.0   0.0  0.000000   \n",
       "3   0.0      0.0  ...    0.0  0.0     0.0    0.0    0.0   0.0   0.0  0.539503   \n",
       "4   0.0      0.0  ...    0.0  0.0     0.0    0.0    0.0   0.0   0.0  0.000000   \n",
       "\n",
       "   write  year  \n",
       "0    0.0   0.0  \n",
       "1    0.0   0.0  \n",
       "2    0.0   0.0  \n",
       "3    0.0   0.0  \n",
       "4    0.0   0.0  \n",
       "\n",
       "[5 rows x 206 columns]"
      ]
     },
     "execution_count": 24,
     "metadata": {},
     "output_type": "execute_result"
    }
   ],
   "source": [
    "df_final_tfidf = pd.concat([df_numeric_scaled, tv_df], axis=1, sort=False)\n",
    "df_final_tfidf.head(5)"
   ]
  },
  {
   "cell_type": "code",
   "execution_count": 32,
   "metadata": {},
   "outputs": [],
   "source": [
    "#df_final = pd.concat([df_numeric_scaled, cv_bi_df], axis=1, sort=False)\n",
    "#df_final.head(5)"
   ]
  },
  {
   "cell_type": "markdown",
   "metadata": {},
   "source": [
    "### Split into testing and training datasets "
   ]
  },
  {
   "cell_type": "code",
   "execution_count": 33,
   "metadata": {},
   "outputs": [],
   "source": [
    "#from sklearn.model_selection import train_test_split\n",
    "\n",
    "#train_df, test_df = train_test_split(df_final, test_size=0.3)"
   ]
  },
  {
   "cell_type": "code",
   "execution_count": 25,
   "metadata": {},
   "outputs": [],
   "source": [
    "from sklearn.model_selection import train_test_split\n",
    "\n",
    "train_df_tfidf, test_df_tfidf = train_test_split(df_final_tfidf, test_size=0.3)"
   ]
  },
  {
   "cell_type": "code",
   "execution_count": 26,
   "metadata": {},
   "outputs": [
    {
     "data": {
      "text/plain": [
       "(717416, 206)"
      ]
     },
     "execution_count": 26,
     "metadata": {},
     "output_type": "execute_result"
    }
   ],
   "source": [
    "train_df_tfidf.shape"
   ]
  },
  {
   "cell_type": "code",
   "execution_count": 27,
   "metadata": {},
   "outputs": [
    {
     "data": {
      "text/plain": [
       "(307465, 206)"
      ]
     },
     "execution_count": 27,
     "metadata": {},
     "output_type": "execute_result"
    }
   ],
   "source": [
    "test_df_tfidf.shape"
   ]
  },
  {
   "cell_type": "code",
   "execution_count": 25,
   "metadata": {},
   "outputs": [
    {
     "data": {
      "text/plain": [
       "(717416, 506)"
      ]
     },
     "execution_count": 25,
     "metadata": {},
     "output_type": "execute_result"
    }
   ],
   "source": [
    "#train_df.shape"
   ]
  },
  {
   "cell_type": "code",
   "execution_count": 26,
   "metadata": {},
   "outputs": [
    {
     "data": {
      "text/plain": [
       "(307465, 506)"
      ]
     },
     "execution_count": 26,
     "metadata": {},
     "output_type": "execute_result"
    }
   ],
   "source": [
    "#test_df.shape"
   ]
  },
  {
   "cell_type": "code",
   "execution_count": 34,
   "metadata": {},
   "outputs": [],
   "source": [
    "#test_df.head(5)"
   ]
  },
  {
   "cell_type": "code",
   "execution_count": 28,
   "metadata": {},
   "outputs": [],
   "source": [
    "#test_df.to_csv(\"data/FeatureEngineering_Test.csv\")"
   ]
  },
  {
   "cell_type": "code",
   "execution_count": 29,
   "metadata": {},
   "outputs": [],
   "source": [
    "#train_df.to_csv(\"data/FeatureEngineering_Train.csv\")"
   ]
  },
  {
   "cell_type": "code",
   "execution_count": 28,
   "metadata": {},
   "outputs": [],
   "source": [
    "test_df_tfidf.to_csv(\"data/FeatureEngineering_tfidf_Test.csv\")"
   ]
  },
  {
   "cell_type": "code",
   "execution_count": 29,
   "metadata": {},
   "outputs": [],
   "source": [
    "train_df_tfidf.to_csv(\"data/FeatureEngineering_tfidf_Train.csv\")"
   ]
  },
  {
   "cell_type": "code",
   "execution_count": null,
   "metadata": {},
   "outputs": [],
   "source": []
  }
 ],
 "metadata": {
  "kernelspec": {
   "display_name": "Python 3",
   "language": "python",
   "name": "python3"
  },
  "language_info": {
   "codemirror_mode": {
    "name": "ipython",
    "version": 3
   },
   "file_extension": ".py",
   "mimetype": "text/x-python",
   "name": "python",
   "nbconvert_exporter": "python",
   "pygments_lexer": "ipython3",
   "version": "3.6.8"
  }
 },
 "nbformat": 4,
 "nbformat_minor": 2
}
