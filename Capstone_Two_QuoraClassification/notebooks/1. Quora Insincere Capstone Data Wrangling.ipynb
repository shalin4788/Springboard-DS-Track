{
 "cells": [
  {
   "cell_type": "markdown",
   "metadata": {},
   "source": [
    "## Data Wrangling"
   ]
  },
  {
   "cell_type": "code",
   "execution_count": 1,
   "metadata": {},
   "outputs": [],
   "source": [
    "#load python packages\n",
    "import os\n",
    "import numpy as np\n",
    "import pandas as pd\n",
    "import string\n",
    "import re\n",
    "import nltk\n",
    "from nltk.tokenize import word_tokenize\n",
    "from nltk.corpus import stopwords\n",
    "from nltk.stem import PorterStemmer\n",
    "import stem"
   ]
  },
  {
   "cell_type": "code",
   "execution_count": 2,
   "metadata": {},
   "outputs": [
    {
     "data": {
      "text/plain": [
       "'C:\\\\Shalin\\\\Springboard bootcamp\\\\projects\\\\Capstone project 2\\\\Capstone Two'"
      ]
     },
     "execution_count": 2,
     "metadata": {},
     "output_type": "execute_result"
    }
   ],
   "source": [
    "os.getcwd()"
   ]
  },
  {
   "cell_type": "code",
   "execution_count": 3,
   "metadata": {},
   "outputs": [
    {
     "data": {
      "text/plain": [
       "['.ipynb_checkpoints',\n",
       " 'Capstone Two',\n",
       " 'data',\n",
       " 'EDA_Quora Insincere Capstone Data.ipynb',\n",
       " 'embeddings',\n",
       " 'figures',\n",
       " 'models',\n",
       " 'Preprocessing and Training Data Development.ipynb',\n",
       " 'Quora Insincere Capstone Data Wrangling.ipynb',\n",
       " 'Quora Insincere Classification - Modeling Step.ipynb',\n",
       " 'ROC-AUC score.png',\n",
       " 'sample_submission.csv',\n",
       " 'test.csv',\n",
       " 'train.csv',\n",
       " 'Untitled.ipynb']"
      ]
     },
     "execution_count": 3,
     "metadata": {},
     "output_type": "execute_result"
    }
   ],
   "source": [
    "os.listdir()"
   ]
  },
  {
   "cell_type": "code",
   "execution_count": 4,
   "metadata": {},
   "outputs": [],
   "source": [
    "#path=\"\"\n",
    "#os.chdir(path)"
   ]
  },
  {
   "cell_type": "markdown",
   "metadata": {},
   "source": [
    "### Data Collection "
   ]
  },
  {
   "cell_type": "markdown",
   "metadata": {},
   "source": [
    "#### Load train and test csv files"
   ]
  },
  {
   "cell_type": "code",
   "execution_count": 5,
   "metadata": {},
   "outputs": [],
   "source": [
    "file_name_1 = 'C:\\\\Shalin\\\\Springboard bootcamp\\\\projects\\\\Capstone project 2\\\\Capstone Two\\\\train.csv'\n",
    "file_name_2 = 'C:\\\\Shalin\\\\Springboard bootcamp\\\\projects\\\\Capstone project 2\\\\Capstone Two\\\\test.csv'"
   ]
  },
  {
   "cell_type": "code",
   "execution_count": 6,
   "metadata": {},
   "outputs": [],
   "source": [
    "# Create train and test dataframes by reading the csv files\n",
    "train = pd.read_csv(file_name_1)\n",
    "test = pd.read_csv(file_name_2)"
   ]
  },
  {
   "cell_type": "code",
   "execution_count": 7,
   "metadata": {},
   "outputs": [],
   "source": [
    "#Concat both train and test files for initial pre-processing\n",
    "quora_df = pd.concat([train, test])"
   ]
  },
  {
   "cell_type": "code",
   "execution_count": 8,
   "metadata": {},
   "outputs": [
    {
     "data": {
      "text/html": [
       "<div>\n",
       "<style scoped>\n",
       "    .dataframe tbody tr th:only-of-type {\n",
       "        vertical-align: middle;\n",
       "    }\n",
       "\n",
       "    .dataframe tbody tr th {\n",
       "        vertical-align: top;\n",
       "    }\n",
       "\n",
       "    .dataframe thead th {\n",
       "        text-align: right;\n",
       "    }\n",
       "</style>\n",
       "<table border=\"1\" class=\"dataframe\">\n",
       "  <thead>\n",
       "    <tr style=\"text-align: right;\">\n",
       "      <th></th>\n",
       "      <th>qid</th>\n",
       "      <th>question_text</th>\n",
       "      <th>target</th>\n",
       "    </tr>\n",
       "  </thead>\n",
       "  <tbody>\n",
       "    <tr>\n",
       "      <th>0</th>\n",
       "      <td>00002165364db923c7e6</td>\n",
       "      <td>How did Quebec nationalists see their province...</td>\n",
       "      <td>0.0</td>\n",
       "    </tr>\n",
       "    <tr>\n",
       "      <th>1</th>\n",
       "      <td>000032939017120e6e44</td>\n",
       "      <td>Do you have an adopted dog, how would you enco...</td>\n",
       "      <td>0.0</td>\n",
       "    </tr>\n",
       "  </tbody>\n",
       "</table>\n",
       "</div>"
      ],
      "text/plain": [
       "                    qid                                      question_text  \\\n",
       "0  00002165364db923c7e6  How did Quebec nationalists see their province...   \n",
       "1  000032939017120e6e44  Do you have an adopted dog, how would you enco...   \n",
       "\n",
       "   target  \n",
       "0     0.0  \n",
       "1     0.0  "
      ]
     },
     "execution_count": 8,
     "metadata": {},
     "output_type": "execute_result"
    }
   ],
   "source": [
    "quora_df.head(2)"
   ]
  },
  {
   "cell_type": "code",
   "execution_count": 9,
   "metadata": {
    "scrolled": true
   },
   "outputs": [
    {
     "data": {
      "text/plain": [
       "1424381"
      ]
     },
     "execution_count": 9,
     "metadata": {},
     "output_type": "execute_result"
    }
   ],
   "source": [
    "#Number of texts retrieved from merged dataframe\n",
    "quora_df.shape[0]"
   ]
  },
  {
   "cell_type": "markdown",
   "metadata": {},
   "source": [
    "### Data Organization"
   ]
  },
  {
   "cell_type": "code",
   "execution_count": 10,
   "metadata": {},
   "outputs": [],
   "source": [
    "path = 'C:\\\\Shalin\\\\Springboard bootcamp\\\\projects\\\\Capstone project 2\\\\Capstone Two'"
   ]
  },
  {
   "cell_type": "code",
   "execution_count": 11,
   "metadata": {},
   "outputs": [
    {
     "name": "stdout",
     "output_type": "stream",
     "text": [
      "The current working directory is C:\\Shalin\\Springboard bootcamp\\projects\\Capstone project 2\\Capstone Two\n"
     ]
    }
   ],
   "source": [
    "print (\"The current working directory is %s\" % path)"
   ]
  },
  {
   "cell_type": "markdown",
   "metadata": {},
   "source": [
    "#### Create subfolders in your project directory"
   ]
  },
  {
   "cell_type": "code",
   "execution_count": 12,
   "metadata": {},
   "outputs": [],
   "source": [
    "#data = os.makedirs('data')"
   ]
  },
  {
   "cell_type": "code",
   "execution_count": 13,
   "metadata": {},
   "outputs": [],
   "source": [
    "#figures = os.makedirs('figures')"
   ]
  },
  {
   "cell_type": "code",
   "execution_count": 14,
   "metadata": {},
   "outputs": [],
   "source": [
    "#models = os.makedirs('models')"
   ]
  },
  {
   "cell_type": "code",
   "execution_count": 15,
   "metadata": {},
   "outputs": [
    {
     "data": {
      "text/plain": [
       "['.ipynb_checkpoints',\n",
       " 'Capstone Two',\n",
       " 'data',\n",
       " 'EDA_Quora Insincere Capstone Data.ipynb',\n",
       " 'embeddings',\n",
       " 'figures',\n",
       " 'models',\n",
       " 'Preprocessing and Training Data Development.ipynb',\n",
       " 'Quora Insincere Capstone Data Wrangling.ipynb',\n",
       " 'Quora Insincere Classification - Modeling Step.ipynb',\n",
       " 'ROC-AUC score.png',\n",
       " 'sample_submission.csv',\n",
       " 'test.csv',\n",
       " 'train.csv',\n",
       " 'Untitled.ipynb']"
      ]
     },
     "execution_count": 15,
     "metadata": {},
     "output_type": "execute_result"
    }
   ],
   "source": [
    "os.listdir()"
   ]
  },
  {
   "cell_type": "markdown",
   "metadata": {},
   "source": [
    "### Data Definition"
   ]
  },
  {
   "cell_type": "code",
   "execution_count": 16,
   "metadata": {},
   "outputs": [
    {
     "name": "stdout",
     "output_type": "stream",
     "text": [
      "<class 'pandas.core.frame.DataFrame'>\n",
      "Int64Index: 1424381 entries, 0 to 375805\n",
      "Data columns (total 3 columns):\n",
      " #   Column         Non-Null Count    Dtype  \n",
      "---  ------         --------------    -----  \n",
      " 0   qid            1424381 non-null  object \n",
      " 1   question_text  1424381 non-null  object \n",
      " 2   target         1048575 non-null  float64\n",
      "dtypes: float64(1), object(2)\n",
      "memory usage: 43.5+ MB\n"
     ]
    }
   ],
   "source": [
    "quora_df.info()"
   ]
  },
  {
   "cell_type": "code",
   "execution_count": 17,
   "metadata": {},
   "outputs": [
    {
     "data": {
      "text/html": [
       "<div>\n",
       "<style scoped>\n",
       "    .dataframe tbody tr th:only-of-type {\n",
       "        vertical-align: middle;\n",
       "    }\n",
       "\n",
       "    .dataframe tbody tr th {\n",
       "        vertical-align: top;\n",
       "    }\n",
       "\n",
       "    .dataframe thead th {\n",
       "        text-align: right;\n",
       "    }\n",
       "</style>\n",
       "<table border=\"1\" class=\"dataframe\">\n",
       "  <thead>\n",
       "    <tr style=\"text-align: right;\">\n",
       "      <th></th>\n",
       "      <th>qid</th>\n",
       "      <th>question_text</th>\n",
       "      <th>target</th>\n",
       "    </tr>\n",
       "  </thead>\n",
       "  <tbody>\n",
       "    <tr>\n",
       "      <th>0</th>\n",
       "      <td>00002165364db923c7e6</td>\n",
       "      <td>How did Quebec nationalists see their province...</td>\n",
       "      <td>0.0</td>\n",
       "    </tr>\n",
       "    <tr>\n",
       "      <th>1</th>\n",
       "      <td>000032939017120e6e44</td>\n",
       "      <td>Do you have an adopted dog, how would you enco...</td>\n",
       "      <td>0.0</td>\n",
       "    </tr>\n",
       "  </tbody>\n",
       "</table>\n",
       "</div>"
      ],
      "text/plain": [
       "                    qid                                      question_text  \\\n",
       "0  00002165364db923c7e6  How did Quebec nationalists see their province...   \n",
       "1  000032939017120e6e44  Do you have an adopted dog, how would you enco...   \n",
       "\n",
       "   target  \n",
       "0     0.0  \n",
       "1     0.0  "
      ]
     },
     "execution_count": 17,
     "metadata": {},
     "output_type": "execute_result"
    }
   ],
   "source": [
    "quora_df.head(2)"
   ]
  },
  {
   "cell_type": "code",
   "execution_count": 18,
   "metadata": {},
   "outputs": [
    {
     "data": {
      "text/html": [
       "<div>\n",
       "<style scoped>\n",
       "    .dataframe tbody tr th:only-of-type {\n",
       "        vertical-align: middle;\n",
       "    }\n",
       "\n",
       "    .dataframe tbody tr th {\n",
       "        vertical-align: top;\n",
       "    }\n",
       "\n",
       "    .dataframe thead th {\n",
       "        text-align: right;\n",
       "    }\n",
       "</style>\n",
       "<table border=\"1\" class=\"dataframe\">\n",
       "  <thead>\n",
       "    <tr style=\"text-align: right;\">\n",
       "      <th></th>\n",
       "      <th>qid</th>\n",
       "      <th>question_text</th>\n",
       "      <th>target</th>\n",
       "    </tr>\n",
       "  </thead>\n",
       "  <tbody>\n",
       "    <tr>\n",
       "      <th>375804</th>\n",
       "      <td>ffffb1f7f1a008620287</td>\n",
       "      <td>What are the causes of refraction of light?</td>\n",
       "      <td>NaN</td>\n",
       "    </tr>\n",
       "    <tr>\n",
       "      <th>375805</th>\n",
       "      <td>fffff85473f4699474b0</td>\n",
       "      <td>Climate change is a worrying topic. How much t...</td>\n",
       "      <td>NaN</td>\n",
       "    </tr>\n",
       "  </tbody>\n",
       "</table>\n",
       "</div>"
      ],
      "text/plain": [
       "                         qid  \\\n",
       "375804  ffffb1f7f1a008620287   \n",
       "375805  fffff85473f4699474b0   \n",
       "\n",
       "                                            question_text  target  \n",
       "375804        What are the causes of refraction of light?     NaN  \n",
       "375805  Climate change is a worrying topic. How much t...     NaN  "
      ]
     },
     "execution_count": 18,
     "metadata": {},
     "output_type": "execute_result"
    }
   ],
   "source": [
    "quora_df.tail(2)"
   ]
  },
  {
   "cell_type": "code",
   "execution_count": 19,
   "metadata": {},
   "outputs": [
    {
     "data": {
      "text/plain": [
       "Index(['qid', 'question_text', 'target'], dtype='object')"
      ]
     },
     "execution_count": 19,
     "metadata": {},
     "output_type": "execute_result"
    }
   ],
   "source": [
    "quora_df.columns"
   ]
  },
  {
   "cell_type": "code",
   "execution_count": 20,
   "metadata": {},
   "outputs": [
    {
     "data": {
      "text/plain": [
       "qid               object\n",
       "question_text     object\n",
       "target           float64\n",
       "dtype: object"
      ]
     },
     "execution_count": 20,
     "metadata": {},
     "output_type": "execute_result"
    }
   ],
   "source": [
    "quora_df.dtypes"
   ]
  },
  {
   "cell_type": "markdown",
   "metadata": {},
   "source": [
    "#### Data cleaning for target column"
   ]
  },
  {
   "cell_type": "code",
   "execution_count": 21,
   "metadata": {},
   "outputs": [
    {
     "data": {
      "text/plain": [
       "375806"
      ]
     },
     "execution_count": 21,
     "metadata": {},
     "output_type": "execute_result"
    }
   ],
   "source": [
    "quora_df['target'].isna().sum()"
   ]
  },
  {
   "cell_type": "code",
   "execution_count": 22,
   "metadata": {},
   "outputs": [
    {
     "data": {
      "text/html": [
       "<div>\n",
       "<style scoped>\n",
       "    .dataframe tbody tr th:only-of-type {\n",
       "        vertical-align: middle;\n",
       "    }\n",
       "\n",
       "    .dataframe tbody tr th {\n",
       "        vertical-align: top;\n",
       "    }\n",
       "\n",
       "    .dataframe thead th {\n",
       "        text-align: right;\n",
       "    }\n",
       "</style>\n",
       "<table border=\"1\" class=\"dataframe\">\n",
       "  <thead>\n",
       "    <tr style=\"text-align: right;\">\n",
       "      <th></th>\n",
       "      <th>qid</th>\n",
       "      <th>question_text</th>\n",
       "      <th>target</th>\n",
       "    </tr>\n",
       "  </thead>\n",
       "  <tbody>\n",
       "    <tr>\n",
       "      <th>1048573</th>\n",
       "      <td>cd763d37d3d7cfcd42ce</td>\n",
       "      <td>What is the difference between the old currenc...</td>\n",
       "      <td>0.0</td>\n",
       "    </tr>\n",
       "    <tr>\n",
       "      <th>1048574</th>\n",
       "      <td>cd7642554d107f946d8a</td>\n",
       "      <td>What is the full form of DML?</td>\n",
       "      <td>0.0</td>\n",
       "    </tr>\n",
       "  </tbody>\n",
       "</table>\n",
       "</div>"
      ],
      "text/plain": [
       "                          qid  \\\n",
       "1048573  cd763d37d3d7cfcd42ce   \n",
       "1048574  cd7642554d107f946d8a   \n",
       "\n",
       "                                             question_text  target  \n",
       "1048573  What is the difference between the old currenc...     0.0  \n",
       "1048574                      What is the full form of DML?     0.0  "
      ]
     },
     "execution_count": 22,
     "metadata": {},
     "output_type": "execute_result"
    }
   ],
   "source": [
    "quora_df = quora_df[quora_df['target'].notna()]\n",
    "quora_df.tail(2)"
   ]
  },
  {
   "cell_type": "code",
   "execution_count": 23,
   "metadata": {},
   "outputs": [
    {
     "data": {
      "text/plain": [
       "0"
      ]
     },
     "execution_count": 23,
     "metadata": {},
     "output_type": "execute_result"
    }
   ],
   "source": [
    "quora_df['target'].isna().sum()"
   ]
  },
  {
   "cell_type": "markdown",
   "metadata": {},
   "source": [
    "#### Convert target column into 'integer' since the values will either be 0 or 1 (prediction for sensitive vs insensitive data)"
   ]
  },
  {
   "cell_type": "code",
   "execution_count": 24,
   "metadata": {},
   "outputs": [],
   "source": [
    "quora_df['target'] = quora_df['target'].apply(np.int64)"
   ]
  },
  {
   "cell_type": "code",
   "execution_count": 25,
   "metadata": {},
   "outputs": [
    {
     "name": "stdout",
     "output_type": "stream",
     "text": [
      "<class 'pandas.core.frame.DataFrame'>\n",
      "Int64Index: 1048575 entries, 0 to 1048574\n",
      "Data columns (total 3 columns):\n",
      " #   Column         Non-Null Count    Dtype \n",
      "---  ------         --------------    ----- \n",
      " 0   qid            1048575 non-null  object\n",
      " 1   question_text  1048575 non-null  object\n",
      " 2   target         1048575 non-null  int64 \n",
      "dtypes: int64(1), object(2)\n",
      "memory usage: 32.0+ MB\n"
     ]
    }
   ],
   "source": [
    "quora_df.info()"
   ]
  },
  {
   "cell_type": "code",
   "execution_count": 26,
   "metadata": {},
   "outputs": [
    {
     "data": {
      "text/html": [
       "<div>\n",
       "<style scoped>\n",
       "    .dataframe tbody tr th:only-of-type {\n",
       "        vertical-align: middle;\n",
       "    }\n",
       "\n",
       "    .dataframe tbody tr th {\n",
       "        vertical-align: top;\n",
       "    }\n",
       "\n",
       "    .dataframe thead th {\n",
       "        text-align: right;\n",
       "    }\n",
       "</style>\n",
       "<table border=\"1\" class=\"dataframe\">\n",
       "  <thead>\n",
       "    <tr style=\"text-align: right;\">\n",
       "      <th></th>\n",
       "      <th>target</th>\n",
       "    </tr>\n",
       "  </thead>\n",
       "  <tbody>\n",
       "    <tr>\n",
       "      <th>count</th>\n",
       "      <td>1.048575e+06</td>\n",
       "    </tr>\n",
       "    <tr>\n",
       "      <th>mean</th>\n",
       "      <td>6.177336e-02</td>\n",
       "    </tr>\n",
       "    <tr>\n",
       "      <th>std</th>\n",
       "      <td>2.407436e-01</td>\n",
       "    </tr>\n",
       "    <tr>\n",
       "      <th>min</th>\n",
       "      <td>0.000000e+00</td>\n",
       "    </tr>\n",
       "    <tr>\n",
       "      <th>25%</th>\n",
       "      <td>0.000000e+00</td>\n",
       "    </tr>\n",
       "    <tr>\n",
       "      <th>50%</th>\n",
       "      <td>0.000000e+00</td>\n",
       "    </tr>\n",
       "    <tr>\n",
       "      <th>75%</th>\n",
       "      <td>0.000000e+00</td>\n",
       "    </tr>\n",
       "    <tr>\n",
       "      <th>max</th>\n",
       "      <td>1.000000e+00</td>\n",
       "    </tr>\n",
       "  </tbody>\n",
       "</table>\n",
       "</div>"
      ],
      "text/plain": [
       "             target\n",
       "count  1.048575e+06\n",
       "mean   6.177336e-02\n",
       "std    2.407436e-01\n",
       "min    0.000000e+00\n",
       "25%    0.000000e+00\n",
       "50%    0.000000e+00\n",
       "75%    0.000000e+00\n",
       "max    1.000000e+00"
      ]
     },
     "execution_count": 26,
     "metadata": {},
     "output_type": "execute_result"
    }
   ],
   "source": [
    "quora_df.describe()"
   ]
  },
  {
   "cell_type": "markdown",
   "metadata": {},
   "source": [
    "**Extract only the question_text column from the dataframe to perform further data cleaning**"
   ]
  },
  {
   "cell_type": "code",
   "execution_count": 27,
   "metadata": {},
   "outputs": [
    {
     "data": {
      "text/plain": [
       "0    How did Quebec nationalists see their province...\n",
       "1    Do you have an adopted dog, how would you enco...\n",
       "Name: question_text, dtype: object"
      ]
     },
     "execution_count": 27,
     "metadata": {},
     "output_type": "execute_result"
    }
   ],
   "source": [
    "quora_question_df = quora_df['question_text']\n",
    "quora_question_df.head(2)"
   ]
  },
  {
   "cell_type": "markdown",
   "metadata": {},
   "source": [
    "**Find max and min length of question from the list**"
   ]
  },
  {
   "cell_type": "code",
   "execution_count": 28,
   "metadata": {},
   "outputs": [
    {
     "name": "stdout",
     "output_type": "stream",
     "text": [
      "Maximum length string is : What is [math]\\frac{\\int_{1x^5}^{3x^{-5}} \\tan(\\tan({\\boxed{\\int_{1x^0}^{1x^2} \\sum_{\\varpi=1}^{\\infty} \\int_{2x^{-3}}^{2x^2} \\sum_{\\alpha=7}^{\\infty} \\underbrace{\\sqrt[2]{1x^5}}_{\\text{Gauss's Law of Theoretical Probability.}} d\\tau dx}}^{1x^0})) d\\mu}{\\int_{2x^{-3}}^{1x^5} \\cos(\\int_{2x^2}^{1x^{-3}} \\frac{\\sqrt[2]{\\overbrace{\\underbrace{\\frac{3x^3+3x^5}{\\sqrt[3]{2x^{-3}}}}_{\\text{Gauss's Law of Theoretical Probability.}} \\times \\overbrace{\\tan(2x^0)}^{\\text{Gauss's Law of Theoretical Probability.}}-\\sum_{4=7}^{\\infty} \\boxed{3x^{-5}}}^{\\text{Inverse Function.}}}}{{\\boxed{\\int_{2x^2}^{2x^4} 3x^1 d9} \\div \\sum_{6=6}^{\\infty} \\sqrt[3]{2x^2}+\\sqrt[4]{\\sin(2x^0+3x^0)}}^{2x^{-4}}+\\boxed{\\frac{\\vec{\\boxed{\\sum_{\\gamma=10}^{\\infty} 1x^{-5}}}}{\\frac{\\sum_{\\iota=2}^{\\infty} 1x^{-5}-\\frac{3x^{-1}}{1x^{-4}}}{\\sin(\\tan(3x^{-2}))}}}} \\times \\boxed{\\sqrt[2]{{{{\\sqrt[5]{2x^5}}^{2x^{-1}}}^{2x^{-1}} \\div \\sum_{\\chi=6}^{\\infty} \\int_{1x^4}^{2x^{-4}} 3x^2 d\\vartheta+{2x^{-3}}^{2x^{-5}}}^{3x^{-4}}}} d\\mu) d\\iota}[/math]?\n"
     ]
    }
   ],
   "source": [
    "max_len = 0\n",
    "for length in quora_question_df: \n",
    "    if len(length) > max_len: \n",
    "        max_len = len(length) \n",
    "        question = length \n",
    "print(\"Maximum length string is : \" + question) "
   ]
  },
  {
   "cell_type": "markdown",
   "metadata": {},
   "source": [
    "**Alternative way of finding the max length of question from the list**"
   ]
  },
  {
   "cell_type": "code",
   "execution_count": 29,
   "metadata": {},
   "outputs": [
    {
     "data": {
      "text/plain": [
       "\"What is [math]\\\\frac{\\\\int_{1x^5}^{3x^{-5}} \\\\tan(\\\\tan({\\\\boxed{\\\\int_{1x^0}^{1x^2} \\\\sum_{\\\\varpi=1}^{\\\\infty} \\\\int_{2x^{-3}}^{2x^2} \\\\sum_{\\\\alpha=7}^{\\\\infty} \\\\underbrace{\\\\sqrt[2]{1x^5}}_{\\\\text{Gauss's Law of Theoretical Probability.}} d\\\\tau dx}}^{1x^0})) d\\\\mu}{\\\\int_{2x^{-3}}^{1x^5} \\\\cos(\\\\int_{2x^2}^{1x^{-3}} \\\\frac{\\\\sqrt[2]{\\\\overbrace{\\\\underbrace{\\\\frac{3x^3+3x^5}{\\\\sqrt[3]{2x^{-3}}}}_{\\\\text{Gauss's Law of Theoretical Probability.}} \\\\times \\\\overbrace{\\\\tan(2x^0)}^{\\\\text{Gauss's Law of Theoretical Probability.}}-\\\\sum_{4=7}^{\\\\infty} \\\\boxed{3x^{-5}}}^{\\\\text{Inverse Function.}}}}{{\\\\boxed{\\\\int_{2x^2}^{2x^4} 3x^1 d9} \\\\div \\\\sum_{6=6}^{\\\\infty} \\\\sqrt[3]{2x^2}+\\\\sqrt[4]{\\\\sin(2x^0+3x^0)}}^{2x^{-4}}+\\\\boxed{\\\\frac{\\\\vec{\\\\boxed{\\\\sum_{\\\\gamma=10}^{\\\\infty} 1x^{-5}}}}{\\\\frac{\\\\sum_{\\\\iota=2}^{\\\\infty} 1x^{-5}-\\\\frac{3x^{-1}}{1x^{-4}}}{\\\\sin(\\\\tan(3x^{-2}))}}}} \\\\times \\\\boxed{\\\\sqrt[2]{{{{\\\\sqrt[5]{2x^5}}^{2x^{-1}}}^{2x^{-1}} \\\\div \\\\sum_{\\\\chi=6}^{\\\\infty} \\\\int_{1x^4}^{2x^{-4}} 3x^2 d\\\\vartheta+{2x^{-3}}^{2x^{-5}}}^{3x^{-4}}}} d\\\\mu) d\\\\iota}[/math]?\""
      ]
     },
     "execution_count": 29,
     "metadata": {},
     "output_type": "execute_result"
    }
   ],
   "source": [
    "question_max = max(quora_question_df, key = len) \n",
    "question_max"
   ]
  },
  {
   "cell_type": "code",
   "execution_count": 30,
   "metadata": {},
   "outputs": [
    {
     "data": {
      "text/plain": [
       "'\"'"
      ]
     },
     "execution_count": 30,
     "metadata": {},
     "output_type": "execute_result"
    }
   ],
   "source": [
    "question_min = min(quora_question_df, key = len) \n",
    "question_min"
   ]
  },
  {
   "cell_type": "markdown",
   "metadata": {},
   "source": [
    "### Data Cleaning"
   ]
  },
  {
   "cell_type": "markdown",
   "metadata": {},
   "source": [
    "As identified in earlier step during data definition step, null values were already removed from 'target' column of the dataframe. This data cleaning will be performed only on the 'question_text' column of dataframe"
   ]
  },
  {
   "cell_type": "markdown",
   "metadata": {},
   "source": [
    "**Convert text to lowercase**"
   ]
  },
  {
   "cell_type": "code",
   "execution_count": 31,
   "metadata": {},
   "outputs": [
    {
     "data": {
      "text/html": [
       "<div>\n",
       "<style scoped>\n",
       "    .dataframe tbody tr th:only-of-type {\n",
       "        vertical-align: middle;\n",
       "    }\n",
       "\n",
       "    .dataframe tbody tr th {\n",
       "        vertical-align: top;\n",
       "    }\n",
       "\n",
       "    .dataframe thead th {\n",
       "        text-align: right;\n",
       "    }\n",
       "</style>\n",
       "<table border=\"1\" class=\"dataframe\">\n",
       "  <thead>\n",
       "    <tr style=\"text-align: right;\">\n",
       "      <th></th>\n",
       "      <th>qid</th>\n",
       "      <th>question_text</th>\n",
       "      <th>target</th>\n",
       "    </tr>\n",
       "  </thead>\n",
       "  <tbody>\n",
       "    <tr>\n",
       "      <th>0</th>\n",
       "      <td>00002165364db923c7e6</td>\n",
       "      <td>how did quebec nationalists see their province...</td>\n",
       "      <td>0</td>\n",
       "    </tr>\n",
       "    <tr>\n",
       "      <th>1</th>\n",
       "      <td>000032939017120e6e44</td>\n",
       "      <td>do you have an adopted dog, how would you enco...</td>\n",
       "      <td>0</td>\n",
       "    </tr>\n",
       "  </tbody>\n",
       "</table>\n",
       "</div>"
      ],
      "text/plain": [
       "                    qid                                      question_text  \\\n",
       "0  00002165364db923c7e6  how did quebec nationalists see their province...   \n",
       "1  000032939017120e6e44  do you have an adopted dog, how would you enco...   \n",
       "\n",
       "   target  \n",
       "0       0  \n",
       "1       0  "
      ]
     },
     "execution_count": 31,
     "metadata": {},
     "output_type": "execute_result"
    }
   ],
   "source": [
    "quora_df['question_text'] = quora_df['question_text'].str.lower()\n",
    "quora_df.head(2)"
   ]
  },
  {
   "cell_type": "markdown",
   "metadata": {},
   "source": [
    "**Remove punctuation**\n",
    "The following code removes this set of symbols [!”#$%&’()*+,-./:;<=>?@[\\]^_`{|}~]:"
   ]
  },
  {
   "cell_type": "code",
   "execution_count": 32,
   "metadata": {},
   "outputs": [],
   "source": [
    "def remove_punctuation(s):\n",
    "    s = ''.join([i for i in s if i not in frozenset(string.punctuation)])\n",
    "    return s\n",
    "\n",
    "quora_df['question_text'] = quora_df['question_text'].apply(remove_punctuation)"
   ]
  },
  {
   "cell_type": "code",
   "execution_count": 33,
   "metadata": {},
   "outputs": [],
   "source": [
    "# Seems like quotes are not removed from the dataset. Hence work on removing them\n",
    "quora_df['question_text']= quora_df['question_text'].str.replace('’', '')\n",
    "quora_df['question_text']= quora_df['question_text'].str.replace('?', '')"
   ]
  },
  {
   "cell_type": "code",
   "execution_count": 34,
   "metadata": {},
   "outputs": [
    {
     "data": {
      "text/plain": [
       "0    how did quebec nationalists see their province...\n",
       "1    do you have an adopted dog how would you encou...\n",
       "Name: question_text, dtype: object"
      ]
     },
     "execution_count": 34,
     "metadata": {},
     "output_type": "execute_result"
    }
   ],
   "source": [
    "quora_question_df = quora_df['question_text']\n",
    "quora_question_df.head(2)"
   ]
  },
  {
   "cell_type": "markdown",
   "metadata": {},
   "source": [
    "There are whitespaces, new line characters which can be removed (on deriving length and min length strings)"
   ]
  },
  {
   "cell_type": "code",
   "execution_count": 35,
   "metadata": {
    "scrolled": true
   },
   "outputs": [
    {
     "data": {
      "text/plain": [
       "'in star trek 2013 why did they \\n\\nspoilers\\nspoilers\\nspoilers\\nspoilers\\n\\n1make warping look quite a bit like an hyperspace jump\\n2what in the world were those bright particles as soon as they jumped\\n3why in the world did they make it possible for two entities to react in warp space in separate jumps\\n4why did spock get emotions for this movie\\n5what was the point of hiding the enterprise underwater\\n6when they were intercepted by the dark ship how come they reached earth when they were far away from heri dont seem to remember the scene where they warp to earth\\n7how did the ship enter earths atmosphere when it wasnt even in orbit\\n8when scotty opened the door of the black ship  how come pike and khan didnt slow down'"
      ]
     },
     "execution_count": 35,
     "metadata": {},
     "output_type": "execute_result"
    }
   ],
   "source": [
    "question_max = max(quora_question_df, key = len) \n",
    "question_max"
   ]
  },
  {
   "cell_type": "code",
   "execution_count": 36,
   "metadata": {},
   "outputs": [
    {
     "data": {
      "text/plain": [
       "''"
      ]
     },
     "execution_count": 36,
     "metadata": {},
     "output_type": "execute_result"
    }
   ],
   "source": [
    "question_min = min(quora_question_df, key = len) \n",
    "question_min"
   ]
  },
  {
   "cell_type": "markdown",
   "metadata": {},
   "source": [
    "**Remove newline characters and whitespaces**"
   ]
  },
  {
   "cell_type": "markdown",
   "metadata": {},
   "source": [
    "- Remove newline characters"
   ]
  },
  {
   "cell_type": "code",
   "execution_count": 37,
   "metadata": {},
   "outputs": [
    {
     "data": {
      "text/html": [
       "<div>\n",
       "<style scoped>\n",
       "    .dataframe tbody tr th:only-of-type {\n",
       "        vertical-align: middle;\n",
       "    }\n",
       "\n",
       "    .dataframe tbody tr th {\n",
       "        vertical-align: top;\n",
       "    }\n",
       "\n",
       "    .dataframe thead th {\n",
       "        text-align: right;\n",
       "    }\n",
       "</style>\n",
       "<table border=\"1\" class=\"dataframe\">\n",
       "  <thead>\n",
       "    <tr style=\"text-align: right;\">\n",
       "      <th></th>\n",
       "      <th>qid</th>\n",
       "      <th>question_text</th>\n",
       "      <th>target</th>\n",
       "    </tr>\n",
       "  </thead>\n",
       "  <tbody>\n",
       "    <tr>\n",
       "      <th>0</th>\n",
       "      <td>00002165364db923c7e6</td>\n",
       "      <td>how did quebec nationalists see their province...</td>\n",
       "      <td>0</td>\n",
       "    </tr>\n",
       "    <tr>\n",
       "      <th>1</th>\n",
       "      <td>000032939017120e6e44</td>\n",
       "      <td>do you have an adopted dog how would you encou...</td>\n",
       "      <td>0</td>\n",
       "    </tr>\n",
       "  </tbody>\n",
       "</table>\n",
       "</div>"
      ],
      "text/plain": [
       "                    qid                                      question_text  \\\n",
       "0  00002165364db923c7e6  how did quebec nationalists see their province...   \n",
       "1  000032939017120e6e44  do you have an adopted dog how would you encou...   \n",
       "\n",
       "   target  \n",
       "0       0  \n",
       "1       0  "
      ]
     },
     "execution_count": 37,
     "metadata": {},
     "output_type": "execute_result"
    }
   ],
   "source": [
    "quora_df['question_text']= [re.sub(r'\\n\\d', '?', text).replace(\"\\nspoilers\",\"\").replace(\"\\n\",\"\") for text in quora_df['question_text']]\n",
    "quora_df.head(2)"
   ]
  },
  {
   "cell_type": "code",
   "execution_count": 38,
   "metadata": {},
   "outputs": [
    {
     "data": {
      "text/plain": [
       "0    how did quebec nationalists see their province...\n",
       "1    do you have an adopted dog how would you encou...\n",
       "Name: question_text, dtype: object"
      ]
     },
     "execution_count": 38,
     "metadata": {},
     "output_type": "execute_result"
    }
   ],
   "source": [
    "quora_question_df = quora_df['question_text']\n",
    "quora_question_df.head(2)"
   ]
  },
  {
   "cell_type": "code",
   "execution_count": 39,
   "metadata": {},
   "outputs": [
    {
     "data": {
      "text/plain": [
       "'in star trek 2013 why did they ?make warping look quite a bit like an hyperspace jump?what in the world were those bright particles as soon as they jumped?why in the world did they make it possible for two entities to react in warp space in separate jumps?why did spock get emotions for this movie?what was the point of hiding the enterprise underwater?when they were intercepted by the dark ship how come they reached earth when they were far away from heri dont seem to remember the scene where they warp to earth?how did the ship enter earths atmosphere when it wasnt even in orbit?when scotty opened the door of the black ship  how come pike and khan didnt slow down'"
      ]
     },
     "execution_count": 39,
     "metadata": {},
     "output_type": "execute_result"
    }
   ],
   "source": [
    "question_max = max(quora_question_df, key = len) \n",
    "question_max"
   ]
  },
  {
   "cell_type": "markdown",
   "metadata": {},
   "source": [
    "- Remove whitespaces : to remove leading and ending spaces, you can use the strip() function:"
   ]
  },
  {
   "cell_type": "code",
   "execution_count": 40,
   "metadata": {},
   "outputs": [
    {
     "data": {
      "text/html": [
       "<div>\n",
       "<style scoped>\n",
       "    .dataframe tbody tr th:only-of-type {\n",
       "        vertical-align: middle;\n",
       "    }\n",
       "\n",
       "    .dataframe tbody tr th {\n",
       "        vertical-align: top;\n",
       "    }\n",
       "\n",
       "    .dataframe thead th {\n",
       "        text-align: right;\n",
       "    }\n",
       "</style>\n",
       "<table border=\"1\" class=\"dataframe\">\n",
       "  <thead>\n",
       "    <tr style=\"text-align: right;\">\n",
       "      <th></th>\n",
       "      <th>qid</th>\n",
       "      <th>question_text</th>\n",
       "      <th>target</th>\n",
       "    </tr>\n",
       "  </thead>\n",
       "  <tbody>\n",
       "    <tr>\n",
       "      <th>0</th>\n",
       "      <td>00002165364db923c7e6</td>\n",
       "      <td>how did quebec nationalists see their province...</td>\n",
       "      <td>0</td>\n",
       "    </tr>\n",
       "    <tr>\n",
       "      <th>1</th>\n",
       "      <td>000032939017120e6e44</td>\n",
       "      <td>do you have an adopted dog how would you encou...</td>\n",
       "      <td>0</td>\n",
       "    </tr>\n",
       "  </tbody>\n",
       "</table>\n",
       "</div>"
      ],
      "text/plain": [
       "                    qid                                      question_text  \\\n",
       "0  00002165364db923c7e6  how did quebec nationalists see their province...   \n",
       "1  000032939017120e6e44  do you have an adopted dog how would you encou...   \n",
       "\n",
       "   target  \n",
       "0       0  \n",
       "1       0  "
      ]
     },
     "execution_count": 40,
     "metadata": {},
     "output_type": "execute_result"
    }
   ],
   "source": [
    "quora_df['question_text'] = [x.strip() for x in quora_df['question_text']]\n",
    "quora_df.head(2)"
   ]
  },
  {
   "cell_type": "markdown",
   "metadata": {},
   "source": [
    "#### Handling missing values in case of empty string values"
   ]
  },
  {
   "cell_type": "code",
   "execution_count": 41,
   "metadata": {},
   "outputs": [
    {
     "name": "stdout",
     "output_type": "stream",
     "text": [
      "<class 'pandas.core.frame.DataFrame'>\n",
      "Int64Index: 1048575 entries, 0 to 1048574\n",
      "Data columns (total 3 columns):\n",
      " #   Column         Non-Null Count    Dtype \n",
      "---  ------         --------------    ----- \n",
      " 0   qid            1048575 non-null  object\n",
      " 1   question_text  1048575 non-null  object\n",
      " 2   target         1048575 non-null  int64 \n",
      "dtypes: int64(1), object(2)\n",
      "memory usage: 32.0+ MB\n"
     ]
    }
   ],
   "source": [
    "quora_df.info()"
   ]
  },
  {
   "cell_type": "code",
   "execution_count": 42,
   "metadata": {},
   "outputs": [
    {
     "data": {
      "text/plain": [
       "['']"
      ]
     },
     "execution_count": 42,
     "metadata": {},
     "output_type": "execute_result"
    }
   ],
   "source": [
    "# Find out if there are any missing question_text values\n",
    "null_df = [text for text in quora_df['question_text'] if len(text) < 1]\n",
    "null_df"
   ]
  },
  {
   "cell_type": "code",
   "execution_count": 43,
   "metadata": {},
   "outputs": [
    {
     "data": {
      "text/plain": [
       "(array([420816], dtype=int64),)"
      ]
     },
     "execution_count": 43,
     "metadata": {},
     "output_type": "execute_result"
    }
   ],
   "source": [
    "null_df = np.where(quora_df['question_text'] == '')\n",
    "null_df"
   ]
  },
  {
   "cell_type": "code",
   "execution_count": 44,
   "metadata": {},
   "outputs": [
    {
     "data": {
      "text/plain": [
       "qid              527aac2ce6f12f789fe5\n",
       "question_text                        \n",
       "target                              1\n",
       "Name: 420816, dtype: object"
      ]
     },
     "execution_count": 44,
     "metadata": {},
     "output_type": "execute_result"
    }
   ],
   "source": [
    "quora_df.iloc[420816]"
   ]
  },
  {
   "cell_type": "code",
   "execution_count": 45,
   "metadata": {},
   "outputs": [
    {
     "name": "stdout",
     "output_type": "stream",
     "text": [
      "<class 'pandas.core.frame.DataFrame'>\n",
      "Int64Index: 1048574 entries, 0 to 1048574\n",
      "Data columns (total 3 columns):\n",
      " #   Column         Non-Null Count    Dtype \n",
      "---  ------         --------------    ----- \n",
      " 0   qid            1048574 non-null  object\n",
      " 1   question_text  1048574 non-null  object\n",
      " 2   target         1048574 non-null  int64 \n",
      "dtypes: int64(1), object(2)\n",
      "memory usage: 32.0+ MB\n"
     ]
    }
   ],
   "source": [
    "quora_df = quora_df.drop(quora_df.index[420816])\n",
    "quora_df.info()"
   ]
  },
  {
   "cell_type": "markdown",
   "metadata": {},
   "source": [
    "**Remove stop words**\n",
    "- “Stop words” are the most common words in a language like “the”, “a”, “on”, “is”, “all”. These words do not carry important meaning and are usually removed from texts. It is possible to remove stop words using Natural Language Toolkit (NLTK), a suite of libraries and programs for symbolic and statistical natural language processing."
   ]
  },
  {
   "cell_type": "code",
   "execution_count": 46,
   "metadata": {
    "scrolled": true
   },
   "outputs": [
    {
     "name": "stderr",
     "output_type": "stream",
     "text": [
      "[nltk_data] Downloading package stopwords to\n",
      "[nltk_data]     C:\\Users\\gosal\\AppData\\Roaming\\nltk_data...\n",
      "[nltk_data]   Package stopwords is already up-to-date!\n",
      "[nltk_data] Downloading package punkt to\n",
      "[nltk_data]     C:\\Users\\gosal\\AppData\\Roaming\\nltk_data...\n",
      "[nltk_data]   Package punkt is already up-to-date!\n"
     ]
    },
    {
     "data": {
      "text/plain": [
       "True"
      ]
     },
     "execution_count": 46,
     "metadata": {},
     "output_type": "execute_result"
    }
   ],
   "source": [
    "nltk.download('stopwords')\n",
    "nltk.download('punkt')"
   ]
  },
  {
   "cell_type": "code",
   "execution_count": 47,
   "metadata": {},
   "outputs": [
    {
     "data": {
      "text/html": [
       "<div>\n",
       "<style scoped>\n",
       "    .dataframe tbody tr th:only-of-type {\n",
       "        vertical-align: middle;\n",
       "    }\n",
       "\n",
       "    .dataframe tbody tr th {\n",
       "        vertical-align: top;\n",
       "    }\n",
       "\n",
       "    .dataframe thead th {\n",
       "        text-align: right;\n",
       "    }\n",
       "</style>\n",
       "<table border=\"1\" class=\"dataframe\">\n",
       "  <thead>\n",
       "    <tr style=\"text-align: right;\">\n",
       "      <th></th>\n",
       "      <th>qid</th>\n",
       "      <th>question_text</th>\n",
       "      <th>target</th>\n",
       "    </tr>\n",
       "  </thead>\n",
       "  <tbody>\n",
       "    <tr>\n",
       "      <th>0</th>\n",
       "      <td>00002165364db923c7e6</td>\n",
       "      <td>how did quebec nationalists see their province...</td>\n",
       "      <td>0</td>\n",
       "    </tr>\n",
       "    <tr>\n",
       "      <th>1</th>\n",
       "      <td>000032939017120e6e44</td>\n",
       "      <td>do you have an adopted dog how would you encou...</td>\n",
       "      <td>0</td>\n",
       "    </tr>\n",
       "  </tbody>\n",
       "</table>\n",
       "</div>"
      ],
      "text/plain": [
       "                    qid                                      question_text  \\\n",
       "0  00002165364db923c7e6  how did quebec nationalists see their province...   \n",
       "1  000032939017120e6e44  do you have an adopted dog how would you encou...   \n",
       "\n",
       "   target  \n",
       "0       0  \n",
       "1       0  "
      ]
     },
     "execution_count": 47,
     "metadata": {},
     "output_type": "execute_result"
    }
   ],
   "source": [
    "quora_df.head(2)"
   ]
  },
  {
   "cell_type": "code",
   "execution_count": 48,
   "metadata": {
    "scrolled": false
   },
   "outputs": [
    {
     "data": {
      "text/html": [
       "<div>\n",
       "<style scoped>\n",
       "    .dataframe tbody tr th:only-of-type {\n",
       "        vertical-align: middle;\n",
       "    }\n",
       "\n",
       "    .dataframe tbody tr th {\n",
       "        vertical-align: top;\n",
       "    }\n",
       "\n",
       "    .dataframe thead th {\n",
       "        text-align: right;\n",
       "    }\n",
       "</style>\n",
       "<table border=\"1\" class=\"dataframe\">\n",
       "  <thead>\n",
       "    <tr style=\"text-align: right;\">\n",
       "      <th></th>\n",
       "      <th>qid</th>\n",
       "      <th>question_text</th>\n",
       "      <th>target</th>\n",
       "      <th>questions_without_stopwords</th>\n",
       "    </tr>\n",
       "  </thead>\n",
       "  <tbody>\n",
       "    <tr>\n",
       "      <th>0</th>\n",
       "      <td>00002165364db923c7e6</td>\n",
       "      <td>how did quebec nationalists see their province...</td>\n",
       "      <td>0</td>\n",
       "      <td>quebec nationalists see province nation 1960s</td>\n",
       "    </tr>\n",
       "    <tr>\n",
       "      <th>1</th>\n",
       "      <td>000032939017120e6e44</td>\n",
       "      <td>do you have an adopted dog how would you encou...</td>\n",
       "      <td>0</td>\n",
       "      <td>adopted dog would encourage people adopt shop</td>\n",
       "    </tr>\n",
       "  </tbody>\n",
       "</table>\n",
       "</div>"
      ],
      "text/plain": [
       "                    qid                                      question_text  \\\n",
       "0  00002165364db923c7e6  how did quebec nationalists see their province...   \n",
       "1  000032939017120e6e44  do you have an adopted dog how would you encou...   \n",
       "\n",
       "   target                    questions_without_stopwords  \n",
       "0       0  quebec nationalists see province nation 1960s  \n",
       "1       0  adopted dog would encourage people adopt shop  "
      ]
     },
     "execution_count": 48,
     "metadata": {},
     "output_type": "execute_result"
    }
   ],
   "source": [
    "stop_words = stopwords.words('english')\n",
    "\n",
    "quora_df['questions_without_stopwords'] = quora_df['question_text'].apply(lambda x: ' '.join([word for word in x.split() if word not in (stop_words)]))\n",
    "quora_df.head(2)"
   ]
  },
  {
   "cell_type": "code",
   "execution_count": 49,
   "metadata": {},
   "outputs": [],
   "source": [
    "del quora_df['question_text']"
   ]
  },
  {
   "cell_type": "code",
   "execution_count": 50,
   "metadata": {},
   "outputs": [
    {
     "name": "stdout",
     "output_type": "stream",
     "text": [
      "<class 'pandas.core.frame.DataFrame'>\n",
      "Int64Index: 1048574 entries, 0 to 1048574\n",
      "Data columns (total 3 columns):\n",
      " #   Column                       Non-Null Count    Dtype \n",
      "---  ------                       --------------    ----- \n",
      " 0   qid                          1048574 non-null  object\n",
      " 1   target                       1048574 non-null  int64 \n",
      " 2   questions_without_stopwords  1048574 non-null  object\n",
      "dtypes: int64(1), object(2)\n",
      "memory usage: 32.0+ MB\n"
     ]
    }
   ],
   "source": [
    "quora_df.info()"
   ]
  },
  {
   "cell_type": "markdown",
   "metadata": {},
   "source": [
    "**Stemming using NLTK**\n",
    "- Stemming is a process of reducing words to their word stem, base or root form (for example, books — book, looked — look). The main two algorithms are Porter stemming algorithm (removes common morphological and inflexional endings from words [14]) and Lancaster stemming algorithm (a more aggressive stemming algorithm). In the “Stemming” sheet of the table some stemmers are described"
   ]
  },
  {
   "cell_type": "code",
   "execution_count": 51,
   "metadata": {},
   "outputs": [
    {
     "data": {
      "text/html": [
       "<div>\n",
       "<style scoped>\n",
       "    .dataframe tbody tr th:only-of-type {\n",
       "        vertical-align: middle;\n",
       "    }\n",
       "\n",
       "    .dataframe tbody tr th {\n",
       "        vertical-align: top;\n",
       "    }\n",
       "\n",
       "    .dataframe thead th {\n",
       "        text-align: right;\n",
       "    }\n",
       "</style>\n",
       "<table border=\"1\" class=\"dataframe\">\n",
       "  <thead>\n",
       "    <tr style=\"text-align: right;\">\n",
       "      <th></th>\n",
       "      <th>qid</th>\n",
       "      <th>target</th>\n",
       "      <th>question_stemmed</th>\n",
       "    </tr>\n",
       "  </thead>\n",
       "  <tbody>\n",
       "    <tr>\n",
       "      <th>0</th>\n",
       "      <td>00002165364db923c7e6</td>\n",
       "      <td>0</td>\n",
       "      <td>quebec nationalists see province nation 1960</td>\n",
       "    </tr>\n",
       "    <tr>\n",
       "      <th>1</th>\n",
       "      <td>000032939017120e6e44</td>\n",
       "      <td>0</td>\n",
       "      <td>adopted dog would encourage people adopt shop</td>\n",
       "    </tr>\n",
       "  </tbody>\n",
       "</table>\n",
       "</div>"
      ],
      "text/plain": [
       "                    qid  target                               question_stemmed\n",
       "0  00002165364db923c7e6       0   quebec nationalists see province nation 1960\n",
       "1  000032939017120e6e44       0  adopted dog would encourage people adopt shop"
      ]
     },
     "execution_count": 51,
     "metadata": {},
     "output_type": "execute_result"
    }
   ],
   "source": [
    "stemmer=PorterStemmer()\n",
    "\n",
    "quora_df['question_stemmed'] = quora_df['questions_without_stopwords'].apply(lambda x: stemmer.stem(x)) # Stem every word.\n",
    "quora_df = quora_df.drop(columns=['questions_without_stopwords']) # Get rid of the unstemmed column.\n",
    "quora_df.head(2) # Print dataframe."
   ]
  },
  {
   "cell_type": "code",
   "execution_count": 52,
   "metadata": {},
   "outputs": [
    {
     "data": {
      "text/html": [
       "<div>\n",
       "<style scoped>\n",
       "    .dataframe tbody tr th:only-of-type {\n",
       "        vertical-align: middle;\n",
       "    }\n",
       "\n",
       "    .dataframe tbody tr th {\n",
       "        vertical-align: top;\n",
       "    }\n",
       "\n",
       "    .dataframe thead th {\n",
       "        text-align: right;\n",
       "    }\n",
       "</style>\n",
       "<table border=\"1\" class=\"dataframe\">\n",
       "  <thead>\n",
       "    <tr style=\"text-align: right;\">\n",
       "      <th></th>\n",
       "      <th>qid</th>\n",
       "      <th>target</th>\n",
       "      <th>question_stemmed</th>\n",
       "    </tr>\n",
       "  </thead>\n",
       "  <tbody>\n",
       "    <tr>\n",
       "      <th>0</th>\n",
       "      <td>00002165364db923c7e6</td>\n",
       "      <td>0</td>\n",
       "      <td>quebec nationalist see provinc nation 1960</td>\n",
       "    </tr>\n",
       "    <tr>\n",
       "      <th>1</th>\n",
       "      <td>000032939017120e6e44</td>\n",
       "      <td>0</td>\n",
       "      <td>adopt dog would encourag peopl adopt shop</td>\n",
       "    </tr>\n",
       "    <tr>\n",
       "      <th>2</th>\n",
       "      <td>0000412ca6e4628ce2cf</td>\n",
       "      <td>0</td>\n",
       "      <td>veloc affect time veloc affect space geometri</td>\n",
       "    </tr>\n",
       "    <tr>\n",
       "      <th>3</th>\n",
       "      <td>000042bf85aa498cd78e</td>\n",
       "      <td>0</td>\n",
       "      <td>otto von guerick use magdeburg hemisph</td>\n",
       "    </tr>\n",
       "    <tr>\n",
       "      <th>4</th>\n",
       "      <td>0000455dfa3e01eae3af</td>\n",
       "      <td>0</td>\n",
       "      <td>convert montra helicon mountain bike chang tyr</td>\n",
       "    </tr>\n",
       "  </tbody>\n",
       "</table>\n",
       "</div>"
      ],
      "text/plain": [
       "                    qid  target  \\\n",
       "0  00002165364db923c7e6       0   \n",
       "1  000032939017120e6e44       0   \n",
       "2  0000412ca6e4628ce2cf       0   \n",
       "3  000042bf85aa498cd78e       0   \n",
       "4  0000455dfa3e01eae3af       0   \n",
       "\n",
       "                                 question_stemmed  \n",
       "0      quebec nationalist see provinc nation 1960  \n",
       "1       adopt dog would encourag peopl adopt shop  \n",
       "2   veloc affect time veloc affect space geometri  \n",
       "3          otto von guerick use magdeburg hemisph  \n",
       "4  convert montra helicon mountain bike chang tyr  "
      ]
     },
     "execution_count": 52,
     "metadata": {},
     "output_type": "execute_result"
    }
   ],
   "source": [
    "# Perform stemming again to ensure all words are properly stemmed. \n",
    "from nltk.stem import PorterStemmer\n",
    "import stem\n",
    "\n",
    "porter_stemmer = PorterStemmer()\n",
    "\n",
    "def stem_sentences(sentence):\n",
    "    tokens = sentence.split()\n",
    "    stemmed_tokens = [porter_stemmer.stem(token) for token in tokens]\n",
    "    return ' '.join(stemmed_tokens)\n",
    "\n",
    "quora_df['question_stemmed'] = quora_df['question_stemmed'].apply(stem_sentences)\n",
    "#quora_df = quora_df.drop(columns=['question_stemmed']) # Get rid of the redundant column.\n",
    "quora_df.head(5)"
   ]
  },
  {
   "cell_type": "markdown",
   "metadata": {},
   "source": [
    "#### Add columns to include a) length of each question b) # of words in the dataframe (for any future exercise)"
   ]
  },
  {
   "cell_type": "code",
   "execution_count": 53,
   "metadata": {},
   "outputs": [
    {
     "data": {
      "text/html": [
       "<div>\n",
       "<style scoped>\n",
       "    .dataframe tbody tr th:only-of-type {\n",
       "        vertical-align: middle;\n",
       "    }\n",
       "\n",
       "    .dataframe tbody tr th {\n",
       "        vertical-align: top;\n",
       "    }\n",
       "\n",
       "    .dataframe thead th {\n",
       "        text-align: right;\n",
       "    }\n",
       "</style>\n",
       "<table border=\"1\" class=\"dataframe\">\n",
       "  <thead>\n",
       "    <tr style=\"text-align: right;\">\n",
       "      <th></th>\n",
       "      <th>qid</th>\n",
       "      <th>target</th>\n",
       "      <th>question_stemmed</th>\n",
       "      <th>question_length</th>\n",
       "      <th>total_words</th>\n",
       "    </tr>\n",
       "  </thead>\n",
       "  <tbody>\n",
       "    <tr>\n",
       "      <th>0</th>\n",
       "      <td>00002165364db923c7e6</td>\n",
       "      <td>0</td>\n",
       "      <td>quebec nationalist see provinc nation 1960</td>\n",
       "      <td>42</td>\n",
       "      <td>6</td>\n",
       "    </tr>\n",
       "    <tr>\n",
       "      <th>1</th>\n",
       "      <td>000032939017120e6e44</td>\n",
       "      <td>0</td>\n",
       "      <td>adopt dog would encourag peopl adopt shop</td>\n",
       "      <td>41</td>\n",
       "      <td>7</td>\n",
       "    </tr>\n",
       "  </tbody>\n",
       "</table>\n",
       "</div>"
      ],
      "text/plain": [
       "                    qid  target                            question_stemmed  \\\n",
       "0  00002165364db923c7e6       0  quebec nationalist see provinc nation 1960   \n",
       "1  000032939017120e6e44       0   adopt dog would encourag peopl adopt shop   \n",
       "\n",
       "   question_length  total_words  \n",
       "0               42            6  \n",
       "1               41            7  "
      ]
     },
     "execution_count": 53,
     "metadata": {},
     "output_type": "execute_result"
    }
   ],
   "source": [
    "quora_df['question_length']  = quora_df['question_stemmed'].str.len()\n",
    "quora_df['total_words'] = [len(x.split()) for x in quora_df['question_stemmed'].tolist()]\n",
    "quora_df.head(2)"
   ]
  },
  {
   "cell_type": "code",
   "execution_count": 54,
   "metadata": {
    "scrolled": true
   },
   "outputs": [
    {
     "data": {
      "text/html": [
       "<div>\n",
       "<style scoped>\n",
       "    .dataframe tbody tr th:only-of-type {\n",
       "        vertical-align: middle;\n",
       "    }\n",
       "\n",
       "    .dataframe tbody tr th {\n",
       "        vertical-align: top;\n",
       "    }\n",
       "\n",
       "    .dataframe thead th {\n",
       "        text-align: right;\n",
       "    }\n",
       "</style>\n",
       "<table border=\"1\" class=\"dataframe\">\n",
       "  <thead>\n",
       "    <tr style=\"text-align: right;\">\n",
       "      <th></th>\n",
       "      <th>qid</th>\n",
       "      <th>question_stemmed</th>\n",
       "      <th>target</th>\n",
       "      <th>question_length</th>\n",
       "      <th>total_words</th>\n",
       "    </tr>\n",
       "  </thead>\n",
       "  <tbody>\n",
       "    <tr>\n",
       "      <th>443216</th>\n",
       "      <td>56da6b6875d686b48fde</td>\n",
       "      <td>mathfracint1x53x5 tantanboxedint1x01x2 sumvarp...</td>\n",
       "      <td>1</td>\n",
       "      <td>566</td>\n",
       "      <td>40</td>\n",
       "    </tr>\n",
       "    <tr>\n",
       "      <th>163583</th>\n",
       "      <td>1ffca149bd0a19cd714c</td>\n",
       "      <td>mathoverbracesumvartheta8infti vecfracsumkappa...</td>\n",
       "      <td>1</td>\n",
       "      <td>494</td>\n",
       "      <td>31</td>\n",
       "    </tr>\n",
       "    <tr>\n",
       "      <th>522266</th>\n",
       "      <td>663c7523d48f5ee66a3e</td>\n",
       "      <td>star trek 2013 ?make warp look quit bit like h...</td>\n",
       "      <td>0</td>\n",
       "      <td>419</td>\n",
       "      <td>66</td>\n",
       "    </tr>\n",
       "    <tr>\n",
       "      <th>341312</th>\n",
       "      <td>42dc38e62f0bdebfa6b6</td>\n",
       "      <td>answer mathfrac4222262mid 5501int846fracomega2...</td>\n",
       "      <td>0</td>\n",
       "      <td>332</td>\n",
       "      <td>11</td>\n",
       "    </tr>\n",
       "    <tr>\n",
       "      <th>149952</th>\n",
       "      <td>1d53c9c017999b4f77e2</td>\n",
       "      <td>8430397824532987451912384179815150754023741609...</td>\n",
       "      <td>0</td>\n",
       "      <td>241</td>\n",
       "      <td>3</td>\n",
       "    </tr>\n",
       "    <tr>\n",
       "      <th>460851</th>\n",
       "      <td>5a3f6882c1fc8319eff1</td>\n",
       "      <td>didnt genghiz khan thee great khan abolish des...</td>\n",
       "      <td>1</td>\n",
       "      <td>212</td>\n",
       "      <td>32</td>\n",
       "    </tr>\n",
       "    <tr>\n",
       "      <th>158221</th>\n",
       "      <td>1ef37766a923f24f2182</td>\n",
       "      <td>didnt genghi khan thee great khan abolish dest...</td>\n",
       "      <td>1</td>\n",
       "      <td>209</td>\n",
       "      <td>32</td>\n",
       "    </tr>\n",
       "    <tr>\n",
       "      <th>393959</th>\n",
       "      <td>4d2e2796dd1ced2c8e64</td>\n",
       "      <td>prospect intern student httpwwwophammainquorac...</td>\n",
       "      <td>0</td>\n",
       "      <td>209</td>\n",
       "      <td>12</td>\n",
       "    </tr>\n",
       "    <tr>\n",
       "      <th>753959</th>\n",
       "      <td>93b9389889ad4aa8518a</td>\n",
       "      <td>waz genghiz khanz thee great khanz go get libe...</td>\n",
       "      <td>1</td>\n",
       "      <td>207</td>\n",
       "      <td>32</td>\n",
       "    </tr>\n",
       "    <tr>\n",
       "      <th>251508</th>\n",
       "      <td>313a5512fefd7dbf0fba</td>\n",
       "      <td>safe north east indian assam arunach pradesh m...</td>\n",
       "      <td>0</td>\n",
       "      <td>204</td>\n",
       "      <td>27</td>\n",
       "    </tr>\n",
       "  </tbody>\n",
       "</table>\n",
       "</div>"
      ],
      "text/plain": [
       "                         qid  \\\n",
       "443216  56da6b6875d686b48fde   \n",
       "163583  1ffca149bd0a19cd714c   \n",
       "522266  663c7523d48f5ee66a3e   \n",
       "341312  42dc38e62f0bdebfa6b6   \n",
       "149952  1d53c9c017999b4f77e2   \n",
       "460851  5a3f6882c1fc8319eff1   \n",
       "158221  1ef37766a923f24f2182   \n",
       "393959  4d2e2796dd1ced2c8e64   \n",
       "753959  93b9389889ad4aa8518a   \n",
       "251508  313a5512fefd7dbf0fba   \n",
       "\n",
       "                                         question_stemmed  target  \\\n",
       "443216  mathfracint1x53x5 tantanboxedint1x01x2 sumvarp...       1   \n",
       "163583  mathoverbracesumvartheta8infti vecfracsumkappa...       1   \n",
       "522266  star trek 2013 ?make warp look quit bit like h...       0   \n",
       "341312  answer mathfrac4222262mid 5501int846fracomega2...       0   \n",
       "149952  8430397824532987451912384179815150754023741609...       0   \n",
       "460851  didnt genghiz khan thee great khan abolish des...       1   \n",
       "158221  didnt genghi khan thee great khan abolish dest...       1   \n",
       "393959  prospect intern student httpwwwophammainquorac...       0   \n",
       "753959  waz genghiz khanz thee great khanz go get libe...       1   \n",
       "251508  safe north east indian assam arunach pradesh m...       0   \n",
       "\n",
       "        question_length  total_words  \n",
       "443216              566           40  \n",
       "163583              494           31  \n",
       "522266              419           66  \n",
       "341312              332           11  \n",
       "149952              241            3  \n",
       "460851              212           32  \n",
       "158221              209           32  \n",
       "393959              209           12  \n",
       "753959              207           32  \n",
       "251508              204           27  "
      ]
     },
     "execution_count": 54,
     "metadata": {},
     "output_type": "execute_result"
    }
   ],
   "source": [
    "quora_df.sort_values(by='question_length', ascending=False, inplace=True)\n",
    "quora_df = quora_df[['qid', 'question_stemmed', 'target', 'question_length', 'total_words']]\n",
    "quora_df.head(10)"
   ]
  },
  {
   "cell_type": "markdown",
   "metadata": {},
   "source": [
    "### Data cleaning continued"
   ]
  },
  {
   "cell_type": "markdown",
   "metadata": {},
   "source": [
    "#### Removing entries that have 0 'question length'"
   ]
  },
  {
   "cell_type": "code",
   "execution_count": 55,
   "metadata": {},
   "outputs": [
    {
     "name": "stdout",
     "output_type": "stream",
     "text": [
      "<class 'pandas.core.frame.DataFrame'>\n",
      "Int64Index: 1048523 entries, 443216 to 69097\n",
      "Data columns (total 5 columns):\n",
      " #   Column            Non-Null Count    Dtype \n",
      "---  ------            --------------    ----- \n",
      " 0   qid               1048523 non-null  object\n",
      " 1   question_stemmed  1048523 non-null  object\n",
      " 2   target            1048523 non-null  int64 \n",
      " 3   question_length   1048523 non-null  int64 \n",
      " 4   total_words       1048523 non-null  int64 \n",
      "dtypes: int64(3), object(2)\n",
      "memory usage: 48.0+ MB\n"
     ]
    }
   ],
   "source": [
    "quora_df = quora_df[quora_df['question_length'] != 0]\n",
    "quora_df.info()"
   ]
  },
  {
   "cell_type": "markdown",
   "metadata": {},
   "source": [
    "As you could see above, more than 50 rows were removed since there was no text associated to them. In an earlier cleaning step, there was an effort to remove entries with missing values with text length < 1, but that didnt remove everything (maybe those were whitespaces yet didnt account for len(text)<1)"
   ]
  },
  {
   "cell_type": "code",
   "execution_count": 56,
   "metadata": {},
   "outputs": [
    {
     "data": {
      "text/html": [
       "<div>\n",
       "<style scoped>\n",
       "    .dataframe tbody tr th:only-of-type {\n",
       "        vertical-align: middle;\n",
       "    }\n",
       "\n",
       "    .dataframe tbody tr th {\n",
       "        vertical-align: top;\n",
       "    }\n",
       "\n",
       "    .dataframe thead th {\n",
       "        text-align: right;\n",
       "    }\n",
       "</style>\n",
       "<table border=\"1\" class=\"dataframe\">\n",
       "  <thead>\n",
       "    <tr style=\"text-align: right;\">\n",
       "      <th></th>\n",
       "      <th>qid</th>\n",
       "      <th>question_stemmed</th>\n",
       "      <th>target</th>\n",
       "      <th>question_length</th>\n",
       "      <th>total_words</th>\n",
       "    </tr>\n",
       "  </thead>\n",
       "  <tbody>\n",
       "    <tr>\n",
       "      <th>443216</th>\n",
       "      <td>56da6b6875d686b48fde</td>\n",
       "      <td>mathfracint1x53x5 tantanboxedint1x01x2 sumvarp...</td>\n",
       "      <td>1</td>\n",
       "      <td>566</td>\n",
       "      <td>40</td>\n",
       "    </tr>\n",
       "    <tr>\n",
       "      <th>163583</th>\n",
       "      <td>1ffca149bd0a19cd714c</td>\n",
       "      <td>mathoverbracesumvartheta8infti vecfracsumkappa...</td>\n",
       "      <td>1</td>\n",
       "      <td>494</td>\n",
       "      <td>31</td>\n",
       "    </tr>\n",
       "    <tr>\n",
       "      <th>522266</th>\n",
       "      <td>663c7523d48f5ee66a3e</td>\n",
       "      <td>star trek 2013 ?make warp look quit bit like h...</td>\n",
       "      <td>0</td>\n",
       "      <td>419</td>\n",
       "      <td>66</td>\n",
       "    </tr>\n",
       "    <tr>\n",
       "      <th>341312</th>\n",
       "      <td>42dc38e62f0bdebfa6b6</td>\n",
       "      <td>answer mathfrac4222262mid 5501int846fracomega2...</td>\n",
       "      <td>0</td>\n",
       "      <td>332</td>\n",
       "      <td>11</td>\n",
       "    </tr>\n",
       "    <tr>\n",
       "      <th>149952</th>\n",
       "      <td>1d53c9c017999b4f77e2</td>\n",
       "      <td>8430397824532987451912384179815150754023741609...</td>\n",
       "      <td>0</td>\n",
       "      <td>241</td>\n",
       "      <td>3</td>\n",
       "    </tr>\n",
       "  </tbody>\n",
       "</table>\n",
       "</div>"
      ],
      "text/plain": [
       "                         qid  \\\n",
       "443216  56da6b6875d686b48fde   \n",
       "163583  1ffca149bd0a19cd714c   \n",
       "522266  663c7523d48f5ee66a3e   \n",
       "341312  42dc38e62f0bdebfa6b6   \n",
       "149952  1d53c9c017999b4f77e2   \n",
       "\n",
       "                                         question_stemmed  target  \\\n",
       "443216  mathfracint1x53x5 tantanboxedint1x01x2 sumvarp...       1   \n",
       "163583  mathoverbracesumvartheta8infti vecfracsumkappa...       1   \n",
       "522266  star trek 2013 ?make warp look quit bit like h...       0   \n",
       "341312  answer mathfrac4222262mid 5501int846fracomega2...       0   \n",
       "149952  8430397824532987451912384179815150754023741609...       0   \n",
       "\n",
       "        question_length  total_words  \n",
       "443216              566           40  \n",
       "163583              494           31  \n",
       "522266              419           66  \n",
       "341312              332           11  \n",
       "149952              241            3  "
      ]
     },
     "execution_count": 56,
     "metadata": {},
     "output_type": "execute_result"
    }
   ],
   "source": [
    "quora_df.head(5)"
   ]
  },
  {
   "cell_type": "markdown",
   "metadata": {},
   "source": [
    "#### Removing rows with very long words (likely junk values) \n",
    "- As seen above, there are still many records that have a very long character length and can be removed (we can choose 15 characters)\n",
    "- Also alphanumeric values (that have mix of numbers of strings) can be filtered out\n",
    "- However, need to be wary of the fact that since punctuations were removed, we may have certain rows with http OR www values AND could have a mix of numbers and characters AND still could exceed the threshold word length (as described in the above point) that we are looking to filter, hence they need to be retained "
   ]
  },
  {
   "cell_type": "code",
   "execution_count": 57,
   "metadata": {},
   "outputs": [],
   "source": [
    "quora_df = quora_df[~quora_df['question_stemmed'].str.contains(r'(?<!\\S)(?!http|\\S*www\\.)\\S{15}')]"
   ]
  },
  {
   "cell_type": "code",
   "execution_count": 58,
   "metadata": {
    "scrolled": true
   },
   "outputs": [
    {
     "data": {
      "text/html": [
       "<div>\n",
       "<style scoped>\n",
       "    .dataframe tbody tr th:only-of-type {\n",
       "        vertical-align: middle;\n",
       "    }\n",
       "\n",
       "    .dataframe tbody tr th {\n",
       "        vertical-align: top;\n",
       "    }\n",
       "\n",
       "    .dataframe thead th {\n",
       "        text-align: right;\n",
       "    }\n",
       "</style>\n",
       "<table border=\"1\" class=\"dataframe\">\n",
       "  <thead>\n",
       "    <tr style=\"text-align: right;\">\n",
       "      <th></th>\n",
       "      <th>qid</th>\n",
       "      <th>question_stemmed</th>\n",
       "      <th>target</th>\n",
       "      <th>question_length</th>\n",
       "      <th>total_words</th>\n",
       "    </tr>\n",
       "  </thead>\n",
       "  <tbody>\n",
       "    <tr>\n",
       "      <th>460851</th>\n",
       "      <td>5a3f6882c1fc8319eff1</td>\n",
       "      <td>didnt genghiz khan thee great khan abolish des...</td>\n",
       "      <td>1</td>\n",
       "      <td>212</td>\n",
       "      <td>32</td>\n",
       "    </tr>\n",
       "    <tr>\n",
       "      <th>158221</th>\n",
       "      <td>1ef37766a923f24f2182</td>\n",
       "      <td>didnt genghi khan thee great khan abolish dest...</td>\n",
       "      <td>1</td>\n",
       "      <td>209</td>\n",
       "      <td>32</td>\n",
       "    </tr>\n",
       "    <tr>\n",
       "      <th>393959</th>\n",
       "      <td>4d2e2796dd1ced2c8e64</td>\n",
       "      <td>prospect intern student httpwwwophammainquorac...</td>\n",
       "      <td>0</td>\n",
       "      <td>209</td>\n",
       "      <td>12</td>\n",
       "    </tr>\n",
       "    <tr>\n",
       "      <th>753959</th>\n",
       "      <td>93b9389889ad4aa8518a</td>\n",
       "      <td>waz genghiz khanz thee great khanz go get libe...</td>\n",
       "      <td>1</td>\n",
       "      <td>207</td>\n",
       "      <td>32</td>\n",
       "    </tr>\n",
       "    <tr>\n",
       "      <th>251508</th>\n",
       "      <td>313a5512fefd7dbf0fba</td>\n",
       "      <td>safe north east indian assam arunach pradesh m...</td>\n",
       "      <td>0</td>\n",
       "      <td>204</td>\n",
       "      <td>27</td>\n",
       "    </tr>\n",
       "  </tbody>\n",
       "</table>\n",
       "</div>"
      ],
      "text/plain": [
       "                         qid  \\\n",
       "460851  5a3f6882c1fc8319eff1   \n",
       "158221  1ef37766a923f24f2182   \n",
       "393959  4d2e2796dd1ced2c8e64   \n",
       "753959  93b9389889ad4aa8518a   \n",
       "251508  313a5512fefd7dbf0fba   \n",
       "\n",
       "                                         question_stemmed  target  \\\n",
       "460851  didnt genghiz khan thee great khan abolish des...       1   \n",
       "158221  didnt genghi khan thee great khan abolish dest...       1   \n",
       "393959  prospect intern student httpwwwophammainquorac...       0   \n",
       "753959  waz genghiz khanz thee great khanz go get libe...       1   \n",
       "251508  safe north east indian assam arunach pradesh m...       0   \n",
       "\n",
       "        question_length  total_words  \n",
       "460851              212           32  \n",
       "158221              209           32  \n",
       "393959              209           12  \n",
       "753959              207           32  \n",
       "251508              204           27  "
      ]
     },
     "execution_count": 58,
     "metadata": {},
     "output_type": "execute_result"
    }
   ],
   "source": [
    "quora_df.head(5)"
   ]
  },
  {
   "cell_type": "code",
   "execution_count": 59,
   "metadata": {},
   "outputs": [
    {
     "data": {
      "text/html": [
       "<div>\n",
       "<style scoped>\n",
       "    .dataframe tbody tr th:only-of-type {\n",
       "        vertical-align: middle;\n",
       "    }\n",
       "\n",
       "    .dataframe tbody tr th {\n",
       "        vertical-align: top;\n",
       "    }\n",
       "\n",
       "    .dataframe thead th {\n",
       "        text-align: right;\n",
       "    }\n",
       "</style>\n",
       "<table border=\"1\" class=\"dataframe\">\n",
       "  <thead>\n",
       "    <tr style=\"text-align: right;\">\n",
       "      <th></th>\n",
       "      <th>qid</th>\n",
       "      <th>question_stemmed</th>\n",
       "      <th>target</th>\n",
       "      <th>question_length</th>\n",
       "      <th>total_words</th>\n",
       "    </tr>\n",
       "  </thead>\n",
       "  <tbody>\n",
       "    <tr>\n",
       "      <th>395648</th>\n",
       "      <td>4d836aebed79b49fbaab</td>\n",
       "      <td>n</td>\n",
       "      <td>0</td>\n",
       "      <td>1</td>\n",
       "      <td>1</td>\n",
       "    </tr>\n",
       "    <tr>\n",
       "      <th>533374</th>\n",
       "      <td>68707bcc73085d438385</td>\n",
       "      <td>n</td>\n",
       "      <td>0</td>\n",
       "      <td>1</td>\n",
       "      <td>1</td>\n",
       "    </tr>\n",
       "    <tr>\n",
       "      <th>894300</th>\n",
       "      <td>af37c56bf566734dc780</td>\n",
       "      <td>c</td>\n",
       "      <td>0</td>\n",
       "      <td>1</td>\n",
       "      <td>1</td>\n",
       "    </tr>\n",
       "    <tr>\n",
       "      <th>505275</th>\n",
       "      <td>62ef775bc180cc2956d0</td>\n",
       "      <td>9</td>\n",
       "      <td>0</td>\n",
       "      <td>1</td>\n",
       "      <td>1</td>\n",
       "    </tr>\n",
       "    <tr>\n",
       "      <th>69097</th>\n",
       "      <td>0d8c9f2ac8285c2e5070</td>\n",
       "      <td>b</td>\n",
       "      <td>0</td>\n",
       "      <td>1</td>\n",
       "      <td>1</td>\n",
       "    </tr>\n",
       "  </tbody>\n",
       "</table>\n",
       "</div>"
      ],
      "text/plain": [
       "                         qid question_stemmed  target  question_length  \\\n",
       "395648  4d836aebed79b49fbaab                n       0                1   \n",
       "533374  68707bcc73085d438385                n       0                1   \n",
       "894300  af37c56bf566734dc780                c       0                1   \n",
       "505275  62ef775bc180cc2956d0                9       0                1   \n",
       "69097   0d8c9f2ac8285c2e5070                b       0                1   \n",
       "\n",
       "        total_words  \n",
       "395648            1  \n",
       "533374            1  \n",
       "894300            1  \n",
       "505275            1  \n",
       "69097             1  "
      ]
     },
     "execution_count": 59,
     "metadata": {},
     "output_type": "execute_result"
    }
   ],
   "source": [
    "quora_df.tail(5)"
   ]
  },
  {
   "cell_type": "markdown",
   "metadata": {},
   "source": [
    "- Find count of all question_text grouping to see the question_length"
   ]
  },
  {
   "cell_type": "code",
   "execution_count": 60,
   "metadata": {},
   "outputs": [
    {
     "data": {
      "text/plain": [
       "question_length\n",
       "1        10\n",
       "2        88\n",
       "3       354\n",
       "4       733\n",
       "5       848\n",
       "6      1076\n",
       "7      1822\n",
       "8      3345\n",
       "9      4969\n",
       "10     6238\n",
       "11     7212\n",
       "12     8587\n",
       "13    10420\n",
       "14    12716\n",
       "15    15031\n",
       "Name: question_stemmed, dtype: int64"
      ]
     },
     "execution_count": 60,
     "metadata": {},
     "output_type": "execute_result"
    }
   ],
   "source": [
    "question_length_grouping = quora_df.groupby('question_length').question_stemmed.nunique().head(15)\n",
    "question_length_grouping"
   ]
  },
  {
   "cell_type": "code",
   "execution_count": 61,
   "metadata": {},
   "outputs": [
    {
     "data": {
      "text/html": [
       "<div>\n",
       "<style scoped>\n",
       "    .dataframe tbody tr th:only-of-type {\n",
       "        vertical-align: middle;\n",
       "    }\n",
       "\n",
       "    .dataframe tbody tr th {\n",
       "        vertical-align: top;\n",
       "    }\n",
       "\n",
       "    .dataframe thead th {\n",
       "        text-align: right;\n",
       "    }\n",
       "</style>\n",
       "<table border=\"1\" class=\"dataframe\">\n",
       "  <thead>\n",
       "    <tr style=\"text-align: right;\">\n",
       "      <th></th>\n",
       "      <th>qid</th>\n",
       "      <th>question_stemmed</th>\n",
       "      <th>target</th>\n",
       "      <th>question_length</th>\n",
       "      <th>total_words</th>\n",
       "    </tr>\n",
       "  </thead>\n",
       "  <tbody>\n",
       "    <tr>\n",
       "      <th>282522</th>\n",
       "      <td>374ead9ee920cdf8b550</td>\n",
       "      <td>use trust</td>\n",
       "      <td>0</td>\n",
       "      <td>9</td>\n",
       "      <td>2</td>\n",
       "    </tr>\n",
       "    <tr>\n",
       "      <th>603151</th>\n",
       "      <td>761fff772848d03f3494</td>\n",
       "      <td>maxin wat</td>\n",
       "      <td>0</td>\n",
       "      <td>9</td>\n",
       "      <td>2</td>\n",
       "    </tr>\n",
       "    <tr>\n",
       "      <th>863771</th>\n",
       "      <td>a940f47a642e7617b3b6</td>\n",
       "      <td>radiu bon</td>\n",
       "      <td>0</td>\n",
       "      <td>9</td>\n",
       "      <td>2</td>\n",
       "    </tr>\n",
       "    <tr>\n",
       "      <th>196493</th>\n",
       "      <td>2669c0d6405cfbddd7f6</td>\n",
       "      <td>bias forg</td>\n",
       "      <td>0</td>\n",
       "      <td>9</td>\n",
       "      <td>2</td>\n",
       "    </tr>\n",
       "    <tr>\n",
       "      <th>358819</th>\n",
       "      <td>465383d7c245537e0296</td>\n",
       "      <td>hill form</td>\n",
       "      <td>0</td>\n",
       "      <td>9</td>\n",
       "      <td>2</td>\n",
       "    </tr>\n",
       "  </tbody>\n",
       "</table>\n",
       "</div>"
      ],
      "text/plain": [
       "                         qid question_stemmed  target  question_length  \\\n",
       "282522  374ead9ee920cdf8b550        use trust       0                9   \n",
       "603151  761fff772848d03f3494        maxin wat       0                9   \n",
       "863771  a940f47a642e7617b3b6        radiu bon       0                9   \n",
       "196493  2669c0d6405cfbddd7f6        bias forg       0                9   \n",
       "358819  465383d7c245537e0296        hill form       0                9   \n",
       "\n",
       "        total_words  \n",
       "282522            2  \n",
       "603151            2  \n",
       "863771            2  \n",
       "196493            2  \n",
       "358819            2  "
      ]
     },
     "execution_count": 61,
     "metadata": {},
     "output_type": "execute_result"
    }
   ],
   "source": [
    "char_len_9 = quora_df[quora_df['question_length'] == 9]\n",
    "char_len_9.tail(5)"
   ]
  },
  {
   "cell_type": "code",
   "execution_count": 62,
   "metadata": {},
   "outputs": [
    {
     "data": {
      "text/html": [
       "<div>\n",
       "<style scoped>\n",
       "    .dataframe tbody tr th:only-of-type {\n",
       "        vertical-align: middle;\n",
       "    }\n",
       "\n",
       "    .dataframe tbody tr th {\n",
       "        vertical-align: top;\n",
       "    }\n",
       "\n",
       "    .dataframe thead th {\n",
       "        text-align: right;\n",
       "    }\n",
       "</style>\n",
       "<table border=\"1\" class=\"dataframe\">\n",
       "  <thead>\n",
       "    <tr style=\"text-align: right;\">\n",
       "      <th></th>\n",
       "      <th>qid</th>\n",
       "      <th>question_stemmed</th>\n",
       "      <th>target</th>\n",
       "      <th>question_length</th>\n",
       "      <th>total_words</th>\n",
       "    </tr>\n",
       "  </thead>\n",
       "  <tbody>\n",
       "    <tr>\n",
       "      <th>353917</th>\n",
       "      <td>455d421ac9d9eb7e1903</td>\n",
       "      <td>dumb idiot</td>\n",
       "      <td>0</td>\n",
       "      <td>10</td>\n",
       "      <td>2</td>\n",
       "    </tr>\n",
       "    <tr>\n",
       "      <th>917262</th>\n",
       "      <td>b3bbb7e84b0f71a4a837</td>\n",
       "      <td>fe2o3 poss</td>\n",
       "      <td>0</td>\n",
       "      <td>10</td>\n",
       "      <td>2</td>\n",
       "    </tr>\n",
       "    <tr>\n",
       "      <th>855614</th>\n",
       "      <td>a7a3984ffc9e3d64ccef</td>\n",
       "      <td>curs bulli</td>\n",
       "      <td>0</td>\n",
       "      <td>10</td>\n",
       "      <td>2</td>\n",
       "    </tr>\n",
       "    <tr>\n",
       "      <th>847366</th>\n",
       "      <td>a60aad66b617675722ad</td>\n",
       "      <td>what plast</td>\n",
       "      <td>0</td>\n",
       "      <td>10</td>\n",
       "      <td>2</td>\n",
       "    </tr>\n",
       "    <tr>\n",
       "      <th>656843</th>\n",
       "      <td>80a92e2776e2aa8a6e41</td>\n",
       "      <td>fact scari</td>\n",
       "      <td>0</td>\n",
       "      <td>10</td>\n",
       "      <td>2</td>\n",
       "    </tr>\n",
       "  </tbody>\n",
       "</table>\n",
       "</div>"
      ],
      "text/plain": [
       "                         qid question_stemmed  target  question_length  \\\n",
       "353917  455d421ac9d9eb7e1903       dumb idiot       0               10   \n",
       "917262  b3bbb7e84b0f71a4a837       fe2o3 poss       0               10   \n",
       "855614  a7a3984ffc9e3d64ccef       curs bulli       0               10   \n",
       "847366  a60aad66b617675722ad       what plast       0               10   \n",
       "656843  80a92e2776e2aa8a6e41       fact scari       0               10   \n",
       "\n",
       "        total_words  \n",
       "353917            2  \n",
       "917262            2  \n",
       "855614            2  \n",
       "847366            2  \n",
       "656843            2  "
      ]
     },
     "execution_count": 62,
     "metadata": {},
     "output_type": "execute_result"
    }
   ],
   "source": [
    "char_len_10 = quora_df[quora_df['question_length'] == 10]\n",
    "char_len_10.tail(5)"
   ]
  },
  {
   "cell_type": "markdown",
   "metadata": {},
   "source": [
    "#### Remove rows where length of text is < 10\n",
    "- In earlier section, we removed all null text rows based on 'len' method\n",
    "- However based on the above grouping, it seems like it might be worth to remove all rows where question length is <10. And also worth to remove rows that have just 1 word "
   ]
  },
  {
   "cell_type": "code",
   "execution_count": 63,
   "metadata": {},
   "outputs": [
    {
     "data": {
      "text/html": [
       "<div>\n",
       "<style scoped>\n",
       "    .dataframe tbody tr th:only-of-type {\n",
       "        vertical-align: middle;\n",
       "    }\n",
       "\n",
       "    .dataframe tbody tr th {\n",
       "        vertical-align: top;\n",
       "    }\n",
       "\n",
       "    .dataframe thead th {\n",
       "        text-align: right;\n",
       "    }\n",
       "</style>\n",
       "<table border=\"1\" class=\"dataframe\">\n",
       "  <thead>\n",
       "    <tr style=\"text-align: right;\">\n",
       "      <th></th>\n",
       "      <th>qid</th>\n",
       "      <th>question_stemmed</th>\n",
       "      <th>target</th>\n",
       "      <th>question_length</th>\n",
       "      <th>total_words</th>\n",
       "    </tr>\n",
       "  </thead>\n",
       "  <tbody>\n",
       "    <tr>\n",
       "      <th>460851</th>\n",
       "      <td>5a3f6882c1fc8319eff1</td>\n",
       "      <td>didnt genghiz khan thee great khan abolish des...</td>\n",
       "      <td>1</td>\n",
       "      <td>212</td>\n",
       "      <td>32</td>\n",
       "    </tr>\n",
       "    <tr>\n",
       "      <th>158221</th>\n",
       "      <td>1ef37766a923f24f2182</td>\n",
       "      <td>didnt genghi khan thee great khan abolish dest...</td>\n",
       "      <td>1</td>\n",
       "      <td>209</td>\n",
       "      <td>32</td>\n",
       "    </tr>\n",
       "    <tr>\n",
       "      <th>393959</th>\n",
       "      <td>4d2e2796dd1ced2c8e64</td>\n",
       "      <td>prospect intern student httpwwwophammainquorac...</td>\n",
       "      <td>0</td>\n",
       "      <td>209</td>\n",
       "      <td>12</td>\n",
       "    </tr>\n",
       "    <tr>\n",
       "      <th>753959</th>\n",
       "      <td>93b9389889ad4aa8518a</td>\n",
       "      <td>waz genghiz khanz thee great khanz go get libe...</td>\n",
       "      <td>1</td>\n",
       "      <td>207</td>\n",
       "      <td>32</td>\n",
       "    </tr>\n",
       "    <tr>\n",
       "      <th>251508</th>\n",
       "      <td>313a5512fefd7dbf0fba</td>\n",
       "      <td>safe north east indian assam arunach pradesh m...</td>\n",
       "      <td>0</td>\n",
       "      <td>204</td>\n",
       "      <td>27</td>\n",
       "    </tr>\n",
       "  </tbody>\n",
       "</table>\n",
       "</div>"
      ],
      "text/plain": [
       "                         qid  \\\n",
       "460851  5a3f6882c1fc8319eff1   \n",
       "158221  1ef37766a923f24f2182   \n",
       "393959  4d2e2796dd1ced2c8e64   \n",
       "753959  93b9389889ad4aa8518a   \n",
       "251508  313a5512fefd7dbf0fba   \n",
       "\n",
       "                                         question_stemmed  target  \\\n",
       "460851  didnt genghiz khan thee great khan abolish des...       1   \n",
       "158221  didnt genghi khan thee great khan abolish dest...       1   \n",
       "393959  prospect intern student httpwwwophammainquorac...       0   \n",
       "753959  waz genghiz khanz thee great khanz go get libe...       1   \n",
       "251508  safe north east indian assam arunach pradesh m...       0   \n",
       "\n",
       "        question_length  total_words  \n",
       "460851              212           32  \n",
       "158221              209           32  \n",
       "393959              209           12  \n",
       "753959              207           32  \n",
       "251508              204           27  "
      ]
     },
     "execution_count": 63,
     "metadata": {},
     "output_type": "execute_result"
    }
   ],
   "source": [
    "quora_df = quora_df[quora_df['question_length'] >= 10]\n",
    "quora_df.head(5)"
   ]
  },
  {
   "cell_type": "code",
   "execution_count": 64,
   "metadata": {},
   "outputs": [
    {
     "data": {
      "text/html": [
       "<div>\n",
       "<style scoped>\n",
       "    .dataframe tbody tr th:only-of-type {\n",
       "        vertical-align: middle;\n",
       "    }\n",
       "\n",
       "    .dataframe tbody tr th {\n",
       "        vertical-align: top;\n",
       "    }\n",
       "\n",
       "    .dataframe thead th {\n",
       "        text-align: right;\n",
       "    }\n",
       "</style>\n",
       "<table border=\"1\" class=\"dataframe\">\n",
       "  <thead>\n",
       "    <tr style=\"text-align: right;\">\n",
       "      <th></th>\n",
       "      <th>qid</th>\n",
       "      <th>question_stemmed</th>\n",
       "      <th>target</th>\n",
       "      <th>question_length</th>\n",
       "      <th>total_words</th>\n",
       "    </tr>\n",
       "  </thead>\n",
       "  <tbody>\n",
       "    <tr>\n",
       "      <th>460851</th>\n",
       "      <td>5a3f6882c1fc8319eff1</td>\n",
       "      <td>didnt genghiz khan thee great khan abolish des...</td>\n",
       "      <td>1</td>\n",
       "      <td>212</td>\n",
       "      <td>32</td>\n",
       "    </tr>\n",
       "    <tr>\n",
       "      <th>158221</th>\n",
       "      <td>1ef37766a923f24f2182</td>\n",
       "      <td>didnt genghi khan thee great khan abolish dest...</td>\n",
       "      <td>1</td>\n",
       "      <td>209</td>\n",
       "      <td>32</td>\n",
       "    </tr>\n",
       "    <tr>\n",
       "      <th>393959</th>\n",
       "      <td>4d2e2796dd1ced2c8e64</td>\n",
       "      <td>prospect intern student httpwwwophammainquorac...</td>\n",
       "      <td>0</td>\n",
       "      <td>209</td>\n",
       "      <td>12</td>\n",
       "    </tr>\n",
       "    <tr>\n",
       "      <th>753959</th>\n",
       "      <td>93b9389889ad4aa8518a</td>\n",
       "      <td>waz genghiz khanz thee great khanz go get libe...</td>\n",
       "      <td>1</td>\n",
       "      <td>207</td>\n",
       "      <td>32</td>\n",
       "    </tr>\n",
       "    <tr>\n",
       "      <th>251508</th>\n",
       "      <td>313a5512fefd7dbf0fba</td>\n",
       "      <td>safe north east indian assam arunach pradesh m...</td>\n",
       "      <td>0</td>\n",
       "      <td>204</td>\n",
       "      <td>27</td>\n",
       "    </tr>\n",
       "  </tbody>\n",
       "</table>\n",
       "</div>"
      ],
      "text/plain": [
       "                         qid  \\\n",
       "460851  5a3f6882c1fc8319eff1   \n",
       "158221  1ef37766a923f24f2182   \n",
       "393959  4d2e2796dd1ced2c8e64   \n",
       "753959  93b9389889ad4aa8518a   \n",
       "251508  313a5512fefd7dbf0fba   \n",
       "\n",
       "                                         question_stemmed  target  \\\n",
       "460851  didnt genghiz khan thee great khan abolish des...       1   \n",
       "158221  didnt genghi khan thee great khan abolish dest...       1   \n",
       "393959  prospect intern student httpwwwophammainquorac...       0   \n",
       "753959  waz genghiz khanz thee great khanz go get libe...       1   \n",
       "251508  safe north east indian assam arunach pradesh m...       0   \n",
       "\n",
       "        question_length  total_words  \n",
       "460851              212           32  \n",
       "158221              209           32  \n",
       "393959              209           12  \n",
       "753959              207           32  \n",
       "251508              204           27  "
      ]
     },
     "execution_count": 64,
     "metadata": {},
     "output_type": "execute_result"
    }
   ],
   "source": [
    "quora_df = quora_df[quora_df['total_words'] > 1]\n",
    "quora_df.head(5)"
   ]
  },
  {
   "cell_type": "code",
   "execution_count": 65,
   "metadata": {},
   "outputs": [
    {
     "data": {
      "text/html": [
       "<div>\n",
       "<style scoped>\n",
       "    .dataframe tbody tr th:only-of-type {\n",
       "        vertical-align: middle;\n",
       "    }\n",
       "\n",
       "    .dataframe tbody tr th {\n",
       "        vertical-align: top;\n",
       "    }\n",
       "\n",
       "    .dataframe thead th {\n",
       "        text-align: right;\n",
       "    }\n",
       "</style>\n",
       "<table border=\"1\" class=\"dataframe\">\n",
       "  <thead>\n",
       "    <tr style=\"text-align: right;\">\n",
       "      <th></th>\n",
       "      <th>qid</th>\n",
       "      <th>question_stemmed</th>\n",
       "      <th>target</th>\n",
       "      <th>question_length</th>\n",
       "      <th>total_words</th>\n",
       "    </tr>\n",
       "  </thead>\n",
       "  <tbody>\n",
       "    <tr>\n",
       "      <th>353917</th>\n",
       "      <td>455d421ac9d9eb7e1903</td>\n",
       "      <td>dumb idiot</td>\n",
       "      <td>0</td>\n",
       "      <td>10</td>\n",
       "      <td>2</td>\n",
       "    </tr>\n",
       "    <tr>\n",
       "      <th>917262</th>\n",
       "      <td>b3bbb7e84b0f71a4a837</td>\n",
       "      <td>fe2o3 poss</td>\n",
       "      <td>0</td>\n",
       "      <td>10</td>\n",
       "      <td>2</td>\n",
       "    </tr>\n",
       "    <tr>\n",
       "      <th>855614</th>\n",
       "      <td>a7a3984ffc9e3d64ccef</td>\n",
       "      <td>curs bulli</td>\n",
       "      <td>0</td>\n",
       "      <td>10</td>\n",
       "      <td>2</td>\n",
       "    </tr>\n",
       "    <tr>\n",
       "      <th>847366</th>\n",
       "      <td>a60aad66b617675722ad</td>\n",
       "      <td>what plast</td>\n",
       "      <td>0</td>\n",
       "      <td>10</td>\n",
       "      <td>2</td>\n",
       "    </tr>\n",
       "    <tr>\n",
       "      <th>656843</th>\n",
       "      <td>80a92e2776e2aa8a6e41</td>\n",
       "      <td>fact scari</td>\n",
       "      <td>0</td>\n",
       "      <td>10</td>\n",
       "      <td>2</td>\n",
       "    </tr>\n",
       "  </tbody>\n",
       "</table>\n",
       "</div>"
      ],
      "text/plain": [
       "                         qid question_stemmed  target  question_length  \\\n",
       "353917  455d421ac9d9eb7e1903       dumb idiot       0               10   \n",
       "917262  b3bbb7e84b0f71a4a837       fe2o3 poss       0               10   \n",
       "855614  a7a3984ffc9e3d64ccef       curs bulli       0               10   \n",
       "847366  a60aad66b617675722ad       what plast       0               10   \n",
       "656843  80a92e2776e2aa8a6e41       fact scari       0               10   \n",
       "\n",
       "        total_words  \n",
       "353917            2  \n",
       "917262            2  \n",
       "855614            2  \n",
       "847366            2  \n",
       "656843            2  "
      ]
     },
     "execution_count": 65,
     "metadata": {},
     "output_type": "execute_result"
    }
   ],
   "source": [
    "quora_df.tail(5)"
   ]
  },
  {
   "cell_type": "code",
   "execution_count": 66,
   "metadata": {},
   "outputs": [
    {
     "name": "stdout",
     "output_type": "stream",
     "text": [
      "<class 'pandas.core.frame.DataFrame'>\n",
      "Int64Index: 1024881 entries, 460851 to 656843\n",
      "Data columns (total 5 columns):\n",
      " #   Column            Non-Null Count    Dtype \n",
      "---  ------            --------------    ----- \n",
      " 0   qid               1024881 non-null  object\n",
      " 1   question_stemmed  1024881 non-null  object\n",
      " 2   target            1024881 non-null  int64 \n",
      " 3   question_length   1024881 non-null  int64 \n",
      " 4   total_words       1024881 non-null  int64 \n",
      "dtypes: int64(3), object(2)\n",
      "memory usage: 46.9+ MB\n"
     ]
    }
   ],
   "source": [
    "quora_df.info()"
   ]
  },
  {
   "cell_type": "code",
   "execution_count": 67,
   "metadata": {},
   "outputs": [],
   "source": [
    "quora_df.to_csv('C:\\\\Shalin\\\\Springboard bootcamp\\\\projects\\\\Capstone project 2\\\\Capstone Two\\\\data\\\\Quora_cleaned.csv')"
   ]
  },
  {
   "cell_type": "code",
   "execution_count": null,
   "metadata": {},
   "outputs": [],
   "source": []
  }
 ],
 "metadata": {
  "kernelspec": {
   "display_name": "Python 3",
   "language": "python",
   "name": "python3"
  },
  "language_info": {
   "codemirror_mode": {
    "name": "ipython",
    "version": 3
   },
   "file_extension": ".py",
   "mimetype": "text/x-python",
   "name": "python",
   "nbconvert_exporter": "python",
   "pygments_lexer": "ipython3",
   "version": "3.6.8"
  }
 },
 "nbformat": 4,
 "nbformat_minor": 2
}
